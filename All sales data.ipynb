{
 "cells": [
  {
   "cell_type": "code",
   "execution_count": 1,
   "id": "1951ef8c-b7a3-4d36-bf4d-7ec6f00f6842",
   "metadata": {},
   "outputs": [],
   "source": [
    "import pandas as pd\n"
   ]
  },
  {
   "cell_type": "code",
   "execution_count": 4,
   "id": "861e6b55-1747-449b-a211-9275477d5ffb",
   "metadata": {},
   "outputs": [
    {
     "name": "stderr",
     "output_type": "stream",
     "text": [
      "C:\\Users\\DELL\\AppData\\Local\\Temp\\ipykernel_11424\\694535661.py:1: DtypeWarning: Columns (11) have mixed types. Specify dtype option on import or set low_memory=False.\n",
      "  df6 = pd.read_csv(r\"D:\\Shikha\\Download\\data.csv\")\n"
     ]
    }
   ],
   "source": [
    "df6 = pd.read_csv(r\"D:\\Shikha\\Download\\data.csv\")"
   ]
  },
  {
   "cell_type": "code",
   "execution_count": 5,
   "id": "942a0cc2-a5ad-4b6e-a399-78399f01fd27",
   "metadata": {},
   "outputs": [],
   "source": [
    "def determine_product_type(value):\n",
    "    if value.startswith(\"131\") or value.startswith(\"133\") or value.startswith(\"141\") or value.startswith(\"143\"):\n",
    "        return \"PCR-BIAS\"\n",
    "    elif value.startswith(\"132\") or value.startswith(\"142\") or value.startswith(\"145\"):\n",
    "        return \"PCR-RADIAL\"\n",
    "    else:\n",
    "        return \"NA\"\n",
    "df6['Product_Type'] = df6['Material'].apply(determine_product_type)\n",
    "\n"
   ]
  },
  {
   "cell_type": "code",
   "execution_count": 6,
   "id": "5ef6ffc1-6097-47ae-9ee4-62c305951253",
   "metadata": {},
   "outputs": [
    {
     "data": {
      "text/plain": [
       "Index(['FinancialYear', 'Quarter', 'Year', 'Month', 'Zone', 'Region',\n",
       "       'CustomerCode', 'Customer', 'AccountGroupKey', 'AccountGroup',\n",
       "       'CustomerClassification', 'Inches', 'Material', 'TyreCategory',\n",
       "       'Pattern', 'BillingType', 'Quantity', 'Category', 'Product_Type'],\n",
       "      dtype='object')"
      ]
     },
     "execution_count": 6,
     "metadata": {},
     "output_type": "execute_result"
    }
   ],
   "source": [
    "df6.columns"
   ]
  },
  {
   "cell_type": "code",
   "execution_count": 7,
   "id": "90847ef8-fea1-445e-a3ab-228e6de9dc54",
   "metadata": {},
   "outputs": [
    {
     "name": "stdout",
     "output_type": "stream",
     "text": [
      "              CustomerCode   Quantity\n",
      "Quarter Year                         \n",
      "Q1      2019        394442   984481.0\n",
      "        2020        183254  1711153.0\n",
      "        2021        275248  2532481.0\n",
      "        2022        384299  3089499.0\n",
      "        2023        392736  3010597.0\n",
      "Q2      2019        280590  1506243.0\n",
      "        2020        326298  3145011.0\n",
      "        2021        122965   864443.0\n",
      "        2022        397934  3278102.0\n",
      "        2023        374621  3093801.0\n",
      "Q3      2019        286376  2837972.0\n",
      "        2020        345754  3357723.0\n",
      "        2021        122844   835421.0\n",
      "        2022        381257  3007339.0\n",
      "        2023        352433  2842142.0\n",
      "Q4      2020        206782  1457751.0\n",
      "        2021        343587  3173469.0\n",
      "        2022        264695  2124124.0\n",
      "        2023        364990  2875212.0\n",
      "        2024        323291  2196871.0\n"
     ]
    }
   ],
   "source": [
    "filtered_df = df6[\n",
    "    (df6['Product_Type'] == 'PCR-RADIAL') &\n",
    "    ((df6['AccountGroupKey'] == 'Z001') | \n",
    "     ((df6['AccountGroupKey'] == 'Z004') & df6['CustomerClassification'].isin(['DB', 'RD','DISTRIBUTOR','Rural Distribution'])))]\n",
    "\n",
    "pivot_table = df6.pivot_table(\n",
    "    index=['Quarter','Year'],\n",
    "    values=['CustomerCode', 'Quantity'],\n",
    "    aggfunc={'CustomerCode': 'count', 'Quantity': 'sum'},\n",
    "    fill_value=0\n",
    ")\n",
    "\n",
    "print(pivot_table)\n"
   ]
  },
  {
   "cell_type": "code",
   "execution_count": 8,
   "id": "ffbd8a03-42ed-4cff-a96f-3869619c83e9",
   "metadata": {},
   "outputs": [
    {
     "name": "stdout",
     "output_type": "stream",
     "text": [
      "               CustomerCode    Quantity\n",
      "FinancialYear                          \n",
      "19-20               1168190   6786447.0\n",
      "20-21               1198893  11387356.0\n",
      "21-22                785752   6356469.0\n",
      "22-23               1528480  12250152.0\n",
      "23-24               1443081  11143411.0\n"
     ]
    }
   ],
   "source": [
    "filtered_df = df6[\n",
    "    (df6['Product_Type'] == 'PCR-RADIAL') &\n",
    "    ((df6['AccountGroupKey'] == 'Z001') | \n",
    "     ((df6['AccountGroupKey'] == 'Z004') & df6['CustomerClassification'].isin(['DB', 'RD','DISTRIBUTOR','Rural Distribution'])))]\n",
    "\n",
    "pivot_table = df6.pivot_table(\n",
    "    index=['FinancialYear'],\n",
    "    values=['CustomerCode', 'Quantity'],\n",
    "    aggfunc={'CustomerCode': 'count', 'Quantity': 'sum'},\n",
    "    fill_value=0\n",
    ")\n",
    "\n",
    "print(pivot_table)\n"
   ]
  },
  {
   "cell_type": "code",
   "execution_count": 17,
   "id": "3f576dcd-3afe-41bc-951c-81b2c76a25ab",
   "metadata": {},
   "outputs": [
    {
     "data": {
      "text/plain": [
       "AccountGroupKey\n",
       "Z001    5424619\n",
       "Z004     524316\n",
       "Z009      95562\n",
       "#         54120\n",
       "Z010      13843\n",
       "Z006       5946\n",
       "Z003       5907\n",
       "Z015         66\n",
       "Z007         11\n",
       "Z005          6\n",
       "Name: count, dtype: int64"
      ]
     },
     "execution_count": 17,
     "metadata": {},
     "output_type": "execute_result"
    }
   ],
   "source": [
    "df6['AccountGroupKey'].value_counts()"
   ]
  },
  {
   "cell_type": "code",
   "execution_count": 10,
   "id": "be278e4c-8e01-46fd-b5c2-84ac7db5b9ee",
   "metadata": {},
   "outputs": [
    {
     "name": "stdout",
     "output_type": "stream",
     "text": [
      "                Quantity\n",
      "Product_Type            \n",
      "NA            33815833.0\n",
      "PCR-BIAS        110615.0\n",
      "PCR-RADIAL    13997387.0\n"
     ]
    }
   ],
   "source": [
    "\n",
    "pivot_table_2= df6.pivot_table(\n",
    "    index=['Product_Type'],\n",
    "    values=['Quantity'],\n",
    "    aggfunc={'Quantity': 'sum'},\n",
    "    fill_value=0\n",
    ")\n",
    "\n",
    "print(pivot_table_2)\n"
   ]
  },
  {
   "cell_type": "code",
   "execution_count": 11,
   "id": "bb292fb6-fb81-44b7-83d1-38dd2dda286b",
   "metadata": {},
   "outputs": [
    {
     "name": "stdout",
     "output_type": "stream",
     "text": [
      "                       CustomerCode  Quantity\n",
      "FinancialYear Quarter                        \n",
      "19-20         Q1             139583  467999.0\n",
      "              Q2              96061  594559.0\n",
      "              Q3              83242  675219.0\n",
      "              Q4              62354  488424.0\n",
      "20-21         Q1              36023  200304.0\n",
      "              Q2              90808  633594.0\n",
      "              Q3             108566  821903.0\n",
      "              Q4             107637  748945.0\n",
      "21-22         Q1              81140  537269.0\n",
      "              Q2             121079  802783.0\n",
      "              Q3             120900  786373.0\n",
      "              Q4             104016  628412.0\n",
      "22-23         Q1             121849  770679.0\n",
      "              Q2             133571  851766.0\n",
      "              Q3             124867  796933.0\n",
      "              Q4             113285  782012.0\n",
      "23-24         Q1             119097  857985.0\n",
      "              Q2             114393  814128.0\n",
      "              Q3             108403  805138.0\n",
      "              Q4              78204  474080.0\n"
     ]
    }
   ],
   "source": [
    "filtered_df = df6[\n",
    "    (df6['Product_Type'] == 'PCR-RADIAL') &\n",
    "    ((df6['AccountGroupKey'] == 'Z001') | \n",
    "     ((df6['AccountGroupKey'] == 'Z004') & df6['CustomerClassification'].isin(['DB', 'RD','DISTRIBUTOR','Rural Distribution'])))]\n",
    "\n",
    "pivot_table = filtered_df.pivot_table(\n",
    "    index=['FinancialYear','Quarter'],\n",
    "    values=['CustomerCode', 'Quantity'],\n",
    "    aggfunc={'CustomerCode': 'count', 'Quantity': 'sum'},\n",
    "    fill_value=0\n",
    ")\n",
    "\n",
    "print(pivot_table)"
   ]
  },
  {
   "cell_type": "code",
   "execution_count": 65,
   "id": "60a4b7ba-597a-41c5-9d96-55a4d55efa7f",
   "metadata": {},
   "outputs": [
    {
     "data": {
      "text/plain": [
       "Index(['FinancialYear', 'Quarter', 'Year', 'Month', 'Zone', 'Region',\n",
       "       'CustomerCode', 'Customer', 'AccountGroupKey', 'AccountGroup',\n",
       "       'CustomerClassification', 'Inches', 'Material', 'TyreCategory',\n",
       "       'Pattern', 'BillingType', 'Quantity', 'Category', 'Product_Type'],\n",
       "      dtype='object')"
      ]
     },
     "execution_count": 65,
     "metadata": {},
     "output_type": "execute_result"
    }
   ],
   "source": [
    "filter_df.columns"
   ]
  },
  {
   "cell_type": "code",
   "execution_count": 28,
   "id": "fb5e564a-6935-4555-997c-5574d6ae8f01",
   "metadata": {},
   "outputs": [],
   "source": [
    "filter_df = df6[(df6['Product_Type'] != \"NA\") & (df6['AccountGroupKey'].isin(['Z001','Z004']))].copy()\n",
    "# filter_df = df6[(df6['Product_Type'] != \"NA\") & (df6['AccountGroupKey'].isin(['Z001', 'Z004']))].copy()\n"
   ]
  },
  {
   "cell_type": "code",
   "execution_count": 30,
   "id": "8fdc99fa-1696-4cbd-84d2-c616f2647ba8",
   "metadata": {},
   "outputs": [],
   "source": [
    "pivot_1 = filter_df.pivot_table(\n",
    "    index = ['FinancialYear' , 'Product_Type'],\n",
    "    values = ['CustomerCode','Quantity'],\n",
    "    aggfunc = {'CustomerCode' :'count','Quantity' : 'sum'},\n",
    "    fill_value = 0\n",
    ")"
   ]
  },
  {
   "cell_type": "code",
   "execution_count": 40,
   "id": "d96a8789-fe50-44df-8ef2-7aac96797103",
   "metadata": {},
   "outputs": [],
   "source": [
    "# pivot_1"
   ]
  },
  {
   "cell_type": "code",
   "execution_count": 69,
   "id": "6fa98aee-b19f-43b5-b161-51588566f853",
   "metadata": {},
   "outputs": [],
   "source": [
    "pivot_2 = filter_df.pivot_table(\n",
    "    index = ['Quarter','Zone'],\n",
    "    values = ['CustomerCode','Quantity'],\n",
    "    aggfunc = {'CustomerCode' :'count','Quantity' : 'sum'},\n",
    "    fill_value = 0\n",
    ")"
   ]
  },
  {
   "cell_type": "code",
   "execution_count": 70,
   "id": "016972a9-ea57-43bb-a955-2ca716e79679",
   "metadata": {},
   "outputs": [
    {
     "data": {
      "text/html": [
       "<div>\n",
       "<style scoped>\n",
       "    .dataframe tbody tr th:only-of-type {\n",
       "        vertical-align: middle;\n",
       "    }\n",
       "\n",
       "    .dataframe tbody tr th {\n",
       "        vertical-align: top;\n",
       "    }\n",
       "\n",
       "    .dataframe thead th {\n",
       "        text-align: right;\n",
       "    }\n",
       "</style>\n",
       "<table border=\"1\" class=\"dataframe\">\n",
       "  <thead>\n",
       "    <tr style=\"text-align: right;\">\n",
       "      <th></th>\n",
       "      <th></th>\n",
       "    </tr>\n",
       "    <tr>\n",
       "      <th>Quarter</th>\n",
       "      <th>Zone</th>\n",
       "    </tr>\n",
       "  </thead>\n",
       "  <tbody>\n",
       "  </tbody>\n",
       "</table>\n",
       "</div>"
      ],
      "text/plain": [
       "Empty DataFrame\n",
       "Columns: []\n",
       "Index: []"
      ]
     },
     "execution_count": 70,
     "metadata": {},
     "output_type": "execute_result"
    }
   ],
   "source": [
    "pivot_2"
   ]
  },
  {
   "cell_type": "code",
   "execution_count": 64,
   "id": "012a6b9b-b4c7-43f2-ac03-ee7c6d8c4896",
   "metadata": {},
   "outputs": [],
   "source": [
    "pivot_2.to_excel(r\"C:\\Users\\DELL\\Downloads\\PCR-RADIAL_Year_Product-Type_Zone.xlsx\")\n"
   ]
  },
  {
   "cell_type": "code",
   "execution_count": 68,
   "id": "615d4c8b-cd09-4d4a-85cb-832d89f16156",
   "metadata": {},
   "outputs": [],
   "source": [
    "filter_df = df6[(df6['FinancialYear'] == '22-23') & (df6['Product_Type'] == 'PCR-RADIA') & (df6['AccountGroupKey'].isin(['Z001','Z004']))].copy()\n",
    "\n",
    "# filter_df = df6[(df6['FinancialYear'] == '22-23') & \n",
    "#                 (df6['Product_Type'] != \"NA\") & \n",
    "#                 (df6['AccountGroupKey'].isin(['Z001', 'Z004']))].copy()\n",
    "\n"
   ]
  },
  {
   "cell_type": "code",
   "execution_count": 71,
   "id": "3ad1ae70-c907-455f-a82c-7d54c3f86ec5",
   "metadata": {},
   "outputs": [],
   "source": [
    "filter_df_1 = df6[(df6['FinancialYear'] == '22-23') & (df6['Product_Type'] == 'PCR-RADIA') & (df6['AccountGroupKey'].isin(['Z001','Z004']))].copy()\n",
    "\n"
   ]
  },
  {
   "cell_type": "code",
   "execution_count": 72,
   "id": "1baeb143-370f-4891-aa45-977b9107a762",
   "metadata": {},
   "outputs": [],
   "source": [
    "pivot_2 = filter_df_1.pivot_table(\n",
    "    index = ['Quarter','Zone'],\n",
    "    values = ['CustomerCode','Quantity'],\n",
    "    aggfunc = {'CustomerCode' :'count','Quantity' : 'sum'},\n",
    "    fill_value = 0\n",
    ")"
   ]
  },
  {
   "cell_type": "code",
   "execution_count": 73,
   "id": "b7a0a1e1-e9f2-4269-bb42-5c32092969c4",
   "metadata": {},
   "outputs": [
    {
     "data": {
      "text/html": [
       "<div>\n",
       "<style scoped>\n",
       "    .dataframe tbody tr th:only-of-type {\n",
       "        vertical-align: middle;\n",
       "    }\n",
       "\n",
       "    .dataframe tbody tr th {\n",
       "        vertical-align: top;\n",
       "    }\n",
       "\n",
       "    .dataframe thead th {\n",
       "        text-align: right;\n",
       "    }\n",
       "</style>\n",
       "<table border=\"1\" class=\"dataframe\">\n",
       "  <thead>\n",
       "    <tr style=\"text-align: right;\">\n",
       "      <th></th>\n",
       "      <th></th>\n",
       "    </tr>\n",
       "    <tr>\n",
       "      <th>Quarter</th>\n",
       "      <th>Zone</th>\n",
       "    </tr>\n",
       "  </thead>\n",
       "  <tbody>\n",
       "  </tbody>\n",
       "</table>\n",
       "</div>"
      ],
      "text/plain": [
       "Empty DataFrame\n",
       "Columns: []\n",
       "Index: []"
      ]
     },
     "execution_count": 73,
     "metadata": {},
     "output_type": "execute_result"
    }
   ],
   "source": [
    "pivot_2"
   ]
  },
  {
   "cell_type": "code",
   "execution_count": null,
   "id": "86f1ee61-d287-44b4-a590-4be2ac129afe",
   "metadata": {},
   "outputs": [],
   "source": []
  }
 ],
 "metadata": {
  "kernelspec": {
   "display_name": "Python 3 (ipykernel)",
   "language": "python",
   "name": "python3"
  },
  "language_info": {
   "codemirror_mode": {
    "name": "ipython",
    "version": 3
   },
   "file_extension": ".py",
   "mimetype": "text/x-python",
   "name": "python",
   "nbconvert_exporter": "python",
   "pygments_lexer": "ipython3",
   "version": "3.13.0"
  }
 },
 "nbformat": 4,
 "nbformat_minor": 5
}

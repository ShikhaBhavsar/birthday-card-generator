{
 "cells": [
  {
   "cell_type": "code",
   "execution_count": 1,
   "id": "045ee534-96e4-4e62-823a-6313f16f0458",
   "metadata": {},
   "outputs": [],
   "source": [
    "import pandas as pd\n",
    "import os\n",
    "import numpy as np\n",
    "from datetime import datetime\n"
   ]
  },
  {
   "cell_type": "code",
   "execution_count": 2,
   "id": "e929d3eb-3964-4f56-8f1f-abde41f575bf",
   "metadata": {},
   "outputs": [],
   "source": [
    "df1 = pd.read_excel(r\"D:\\Shikha\\Data\\Baadshah Yearly sales data\\2023-2024\\compiled_sales_data_H1.xlsx\")\n",
    "df2 = pd.read_excel(r\"D:\\Shikha\\Data\\Baadshah Yearly sales data\\2023-2024\\compiled_sales_data_h2.xlsx\")\n"
   ]
  },
  {
   "cell_type": "code",
   "execution_count": 3,
   "id": "8fcc4b42-e435-4b8e-8bce-38d3cc22653b",
   "metadata": {},
   "outputs": [],
   "source": [
    "df3 = pd.read_excel(r\"D:\\Shikha\\Data\\Baadshah Yearly sales data\\2024-2025\\compiled_sales_data(2024-2025)_1.xlsx\")"
   ]
  },
  {
   "cell_type": "code",
   "execution_count": 4,
   "id": "6adb8b54-7f7a-4fc2-a90b-a3bb69ef4dcf",
   "metadata": {},
   "outputs": [],
   "source": [
    "compiled_df = pd.concat([df1,df2,df3] , ignore_index = True)\n",
    "    "
   ]
  },
  {
   "cell_type": "code",
   "execution_count": 5,
   "id": "ca2c87bb-7566-4bd1-b219-cd93f83bdac7",
   "metadata": {},
   "outputs": [],
   "source": [
    "def determine_product_type(value_or_material):\n",
    "    # First, handle the PCR-BIAS and PCR-RADIAL conditions (from the first function)\n",
    "    if value_or_material.startswith(\"131\") or value_or_material.startswith(\"133\") or value_or_material.startswith(\"141\") or value_or_material.startswith(\"143\"):\n",
    "        return \"PCR-BIAS\"\n",
    "    elif value_or_material.startswith(\"132\") or value_or_material.startswith(\"142\") or value_or_material.startswith(\"145\"):\n",
    "        return \"PCR-RADIAL\"\n",
    "    elif value_or_material.startswith(\"121\") or value_or_material.startswith(\"123\"):\n",
    "        return \"LCV-BIAS\"\n",
    "    elif value_or_material.startswith(\"122\") or value_or_material.startswith(\"125\"):\n",
    "        return \"LCV-RADIAL\"\n",
    "    elif value_or_material.startswith(\"1D1\") or value_or_material.startswith(\"1D3\"):\n",
    "        return \"SCV-BIAS\"\n",
    "    elif value_or_material.startswith(\"1D2\") or value_or_material.startswith(\"1D5\"):\n",
    "        return \"SCV-RADIAL\"\n",
    "    elif value_or_material.startswith(\"1S\"):\n",
    "        return \"SCOOTER\"\n",
    "    elif value_or_material.startswith(\"1B\"):\n",
    "        return \"MOTORCYCLE\"\n",
    "    elif value_or_material.startswith(\"1H\"):\n",
    "        return \"3W\"\n",
    "    elif value_or_material.startswith(\"111\") or value_or_material.startswith(\"113\"):\n",
    "        return \"TRUCK-BIAS\"\n",
    "    elif value_or_material.startswith(\"112\") or value_or_material.startswith(\"115\"):\n",
    "        return \"TRUCK-RADIAL\"\n",
    "    elif value_or_material.startswith(\"1E1\") or value_or_material.startswith(\"181\"):\n",
    "        return \"OTR\"\n",
    "    elif value_or_material.startswith(\"15\") or value_or_material.startswith(\"16\") or value_or_material.startswith(\"17\") or value_or_material.startswith(\"19\"):\n",
    "        return \"FARM\"\n",
    "    else:\n",
    "        return \"NA\"\n"
   ]
  },
  {
   "cell_type": "code",
   "execution_count": 6,
   "id": "61f911d6-d923-44fe-9a9f-209514ee7a92",
   "metadata": {},
   "outputs": [],
   "source": [
    "compiled_df['Product_type'] = compiled_df['Material - Key'].apply(determine_product_type)\n",
    "df1['Product_type'] = df1['Material - Key'].apply(determine_product_type)\n",
    "df2['Product_type'] = df2['Material - Key'].apply(determine_product_type)\n",
    "df3['Product_type'] = df3['Material - Key'].apply(determine_product_type)\n"
   ]
  },
  {
   "cell_type": "code",
   "execution_count": 7,
   "id": "03344dac-a5df-4dbf-829c-bb12a973a837",
   "metadata": {},
   "outputs": [],
   "source": [
    "def assign_quarter(month):\n",
    "    # Define the month-year combinations and their respective quarters\n",
    "    quarter_mapping = {\n",
    "                    \"May'2023\":\"Q1\",\n",
    "                    \"Jun'2023\":\"Q1\",\n",
    "                    \"Jul'2023\":\"Q2\",\n",
    "                    \"Aug'2023\":\"Q2\",\n",
    "                    \"Apr'2023\":\"Q1\",\n",
    "                    \"Sep'2023\":\"Q2\",\n",
    "                    \"Oct'2023\":\"Q3\",\n",
    "                    \"Nov'2023\":\"Q3\",\n",
    "                    \"Jun'2024\":\"Q1\",\n",
    "                    \"Mar'2024\":\"Q4\",\n",
    "                    \"May'2024\":\"Q1\",\n",
    "                    \"Apr'2024\":\"Q1\",\n",
    "                    \"Oct'2024\":\"Q3\",\n",
    "                    \"Sep'2024\":\"Q2\",\n",
    "                    \"Aug'2024\":\"Q2\",\n",
    "                    \"Jul'2024\":\"Q2\",\n",
    "                    \"Nov'2024\":\"Q3\",\n",
    "                    \"Dec'2023\":\"Q3\",\n",
    "                    \"Feb'2024\":\"Q4\",\n",
    "                    \"Jan'2024\":\"Q4\"\n",
    "\n",
    "    }\n",
    "    \n",
    "    # Return the quarter if it exists in the mapping, else return \"Unknown\"\n",
    "    return quarter_mapping.get(month,\"Unknown\")\n"
   ]
  },
  {
   "cell_type": "code",
   "execution_count": 8,
   "id": "c3daac23-70dc-4aa9-9eac-8bee749cbb83",
   "metadata": {},
   "outputs": [
    {
     "data": {
      "text/plain": [
       "array([\"Apr'2023\", \"Jun'2023\", \"Sep'2023\", \"May'2023\", \"Jul'2023\",\n",
       "       \"Aug'2023\", \"Nov'2023\", \"Oct'2023\", \"Dec'2023\", \"Feb'2024\",\n",
       "       \"Jan'2024\", \"Mar'2024\", \"Sep'2024\", \"Apr'2024\", \"Aug'2024\",\n",
       "       \"Jul'2024\", \"Jun'2024\", \"Nov'2024\", \"Oct'2024\", \"May'2024\"],\n",
       "      dtype=object)"
      ]
     },
     "execution_count": 8,
     "metadata": {},
     "output_type": "execute_result"
    }
   ],
   "source": [
    "compiled_df['Month_Name'] = compiled_df['Month_Name'].str.strip()  # Remove leading/trailing spaces\n",
    "compiled_df['Month_Name'].unique()  # Check unique values again\n"
   ]
  },
  {
   "cell_type": "code",
   "execution_count": 9,
   "id": "63412398-4fea-484c-a2fd-332ed7cd2b60",
   "metadata": {},
   "outputs": [],
   "source": [
    "compiled_df['Quarter'] = compiled_df['Month_Name'].apply(assign_quarter)\n"
   ]
  },
  {
   "cell_type": "code",
   "execution_count": 17,
   "id": "0f4326c4-0480-462a-8662-bf231f8bbc70",
   "metadata": {},
   "outputs": [],
   "source": [
    "compiled_df_new = compiled_df"
   ]
  },
  {
   "cell_type": "code",
   "execution_count": 18,
   "id": "2e347ccc-e3a5-4719-9e6b-ce8b87870848",
   "metadata": {},
   "outputs": [],
   "source": [
    "# compiled_df.columns"
   ]
  },
  {
   "cell_type": "code",
   "execution_count": 19,
   "id": "23d8788f-291b-46c7-a012-403d52797f75",
   "metadata": {},
   "outputs": [],
   "source": [
    "# compiled_df['Quarter'].value_counts()"
   ]
  },
  {
   "cell_type": "code",
   "execution_count": 20,
   "id": "ca2ac4e8-ced5-4425-b6fd-2e0785bafeda",
   "metadata": {},
   "outputs": [],
   "source": [
    "# compiled_df['Final_Quantity'] = compiled_df[['Truck BIAS', 'Truck RDL',\n",
    "#                                 'LCV BIAS', 'LCV RDL', 'CAR BIAS', 'CAR RDL', 'Jeep BIAS',\n",
    "#                                'Jeep RDL', 'Tr. Rear BIAS', 'Tr. Front BIAS', 'Tr. Trailert BIAS',\n",
    "#                                'ADV BIAS', 'Scooter', 'OTR BIAS', 'SCV BIAS', 'SCV RDL', 'Motor Cycle',\n",
    "#                                '3 W',]].sum(axis=1)\n",
    "\n",
    "compiled_df['Final_Quantity'] = compiled_df[['Truck BIAS', 'Truck RDL']].sum(axis=1)\n",
    "\n"
   ]
  },
  {
   "cell_type": "code",
   "execution_count": 21,
   "id": "040c772f-3351-4b9a-9c4b-0317449c82c4",
   "metadata": {},
   "outputs": [],
   "source": [
    "# filter_df = compiled_df[(compiled_df['Account Group - Key'] == 'Z009') & (compiled_df['Product_type'].isin([\"TRUCK-RADIAL\",\"TRUCK-BIAS\"]))].copy()\n",
    "\n"
   ]
  },
  {
   "cell_type": "code",
   "execution_count": 22,
   "id": "8c3433d8-0ee3-4c9f-af82-33e31987a94b",
   "metadata": {},
   "outputs": [],
   "source": [
    "# compiled_df['Final_Quantity_1'] = \"\"\n",
    "\n",
    "# for index, value in compiled_df['Final_Quantity'].items():\n",
    "#     if pd.isnull(value) or value == 0:  \n",
    "#         compiled_df.at[index, 'Final_Quantity_1'] = compiled_df.at[index, 'Quantity']\n",
    "#     else:\n",
    "#         compiled_df.at[index, 'Final_Quantity_1'] = value\n",
    "\n"
   ]
  },
  {
   "cell_type": "code",
   "execution_count": 23,
   "id": "ba5abe97-cb3a-4af9-9961-4b31a5ae30b5",
   "metadata": {},
   "outputs": [],
   "source": [
    "# pivot_df = pd.pivot_table(filter_df,\n",
    "#                            values = ['Final_Quantity','Quantity','Final_Quantity_1'],\n",
    "#                            index = ['Month_Name','Quarter'],\n",
    "#                            aggfunc = {'Final_Quantity': 'sum' , 'Quantity' : 'sum','Final_Quantity_1' : 'sum'})\n",
    "\n",
    "                            \n",
    "# # pivot_df                           "
   ]
  },
  {
   "cell_type": "code",
   "execution_count": 24,
   "id": "dd0b91e7-56c7-4c8d-8a4f-b1c0ede551a8",
   "metadata": {},
   "outputs": [],
   "source": [
    "# pivot_df.to_excel(r\"C:\\Users\\DELL\\Downloads\\PIVOT.xlsx\")\n"
   ]
  },
  {
   "cell_type": "code",
   "execution_count": 25,
   "id": "11957856-4468-400a-ba8c-cbe15aee72d7",
   "metadata": {},
   "outputs": [],
   "source": [
    "# df1.to_excel(r\"C:\\Users\\DELL\\Downloads\\compiled_sales_data_H1.xlsx\")\n",
    "# df2.to_excel(r\"C:\\Users\\DELL\\Downloads\\compiled_sales_data_H2.xlsx\")\n",
    "# df3.to_excel(r\"C:\\Users\\DELL\\Downloads\\compiled_sales_data_H3.xlsx\")"
   ]
  },
  {
   "cell_type": "code",
   "execution_count": 30,
   "id": "507bc3eb-f750-4e63-afc3-6a4d844a4c39",
   "metadata": {},
   "outputs": [
    {
     "data": {
      "text/plain": [
       "Index(['Month_Name', 'Month', 'Zone', 'Region', 'Area', 'Customer Code',\n",
       "       'Customer', 'Account Group - Key', 'Account Group', 'Customer class',\n",
       "       'Customer Classific.1', 'Billing type', 'Material - Key', 'Material',\n",
       "       'Tyre category', 'Inches', 'Quantity', 'Truck BIAS', 'Truck RDL',\n",
       "       'Pattern', 'LCV BIAS', 'LCV RDL', 'CAR BIAS', 'CAR RDL', 'Jeep BIAS',\n",
       "       'Jeep RDL', 'Tr. Rear BIAS', 'Tr. Front BIAS', 'Tr. Trailert BIAS',\n",
       "       'ADV BIAS', 'Scooter', 'OTR BIAS', 'SCV BIAS', 'SCV RDL', 'Motor Cycle',\n",
       "       '3 W', 'Product_type', 'Quarter', 'Final_Quantity', 'Final_Quantity_1'],\n",
       "      dtype='object')"
      ]
     },
     "execution_count": 30,
     "metadata": {},
     "output_type": "execute_result"
    }
   ],
   "source": [
    "compiled_df.columns"
   ]
  },
  {
   "cell_type": "code",
   "execution_count": 32,
   "id": "256d9c1c-fbe5-4d40-b3bd-dc352312d110",
   "metadata": {},
   "outputs": [],
   "source": [
    "final_df = compiled_df[(compiled_df['Account Group - Key'] == 'Z009') & (compiled_df['Product_type'].isin([\"TRUCK-BIAS\",\"TRUCK-RADIAL\"]))].copy()"
   ]
  },
  {
   "cell_type": "code",
   "execution_count": 42,
   "id": "f317ea67-0a38-4504-8ea2-24df2d22b87f",
   "metadata": {},
   "outputs": [],
   "source": [
    "final_df1 = compiled_df[(compiled_df['Account Group - Key'] == 'Z009') & \n",
    "            (compiled_df['Product_type'].isin([\"TRUCK-BIAS\",\"TRUCK-RADIAL\"])) & \n",
    "            (compiled_df['Billing type'].isin([\"ZOR\",\"YOR\",\"ZPLT\",\"YPLT\",\"YRDR\",\"ZRDR\",\"Depot Invoice\",\"Plant Invoice\",\"Depot Returns\"]))].copy()"
   ]
  },
  {
   "cell_type": "code",
   "execution_count": 43,
   "id": "31b4ae8b-5f37-45c2-b8c9-0646e2e26f80",
   "metadata": {},
   "outputs": [],
   "source": [
    "# compiled_df['Billing type'].value_counts()"
   ]
  },
  {
   "cell_type": "code",
   "execution_count": 51,
   "id": "2c977c15-7ff8-4191-b8f1-5283bc3c44b1",
   "metadata": {},
   "outputs": [],
   "source": [
    "# # Group the data by 'Month_Name' and 'Product_type', aggregating 'Final_Quantity_1' and keeping all other columns\n",
    "grouped_data = final_df1.groupby(['Month_Name', 'Product_type','Customer Code'], as_index=False).agg({\n",
    "    'Final_Quantity_1': 'sum',  # Aggregation for this column\n",
    "    'Month': 'first',           # Example: Take the first value\n",
    "    'Zone': 'first',            # Adjust according to your requirements\n",
    "    'Region': 'first',\n",
    "    'Area': 'first',\n",
    "    'Customer': 'first',\n",
    "    'Account Group - Key': 'first',\n",
    "    'Account Group': 'first',\n",
    "    'Customer class': 'first',\n",
    "    'Customer Classific.1': 'first',\n",
    "    # Add all other columns and decide their aggregation method\n",
    "})\n",
    "\n"
   ]
  },
  {
   "cell_type": "code",
   "execution_count": 52,
   "id": "d8f4be3c-1f96-453a-8894-12df63a56bd2",
   "metadata": {},
   "outputs": [],
   "source": [
    "grouped_data.to_csv(r\"C:\\Users\\DELL\\Downloads\\mdata.csv\")"
   ]
  },
  {
   "cell_type": "code",
   "execution_count": 41,
   "id": "51853487-2912-40cb-bf48-1b8104b6e6d4",
   "metadata": {},
   "outputs": [
    {
     "data": {
      "text/plain": [
       "np.float64(592634.0)"
      ]
     },
     "execution_count": 41,
     "metadata": {},
     "output_type": "execute_result"
    }
   ],
   "source": [
    "final_df1[\"Final_Quantity_1\"].sum()"
   ]
  },
  {
   "cell_type": "code",
   "execution_count": null,
   "id": "a5931654-c01a-4103-b034-ed9c485df8eb",
   "metadata": {},
   "outputs": [],
   "source": []
  }
 ],
 "metadata": {
  "kernelspec": {
   "display_name": "Python 3 (ipykernel)",
   "language": "python",
   "name": "python3"
  },
  "language_info": {
   "codemirror_mode": {
    "name": "ipython",
    "version": 3
   },
   "file_extension": ".py",
   "mimetype": "text/x-python",
   "name": "python",
   "nbconvert_exporter": "python",
   "pygments_lexer": "ipython3",
   "version": "3.13.0"
  }
 },
 "nbformat": 4,
 "nbformat_minor": 5
}

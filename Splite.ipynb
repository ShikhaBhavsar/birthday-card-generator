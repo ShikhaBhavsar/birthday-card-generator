{
 "cells": [
  {
   "cell_type": "code",
   "execution_count": 1,
   "id": "235feab8-af31-4dc8-9035-884fb769216d",
   "metadata": {},
   "outputs": [],
   "source": [
    "import pandas as pd"
   ]
  },
  {
   "cell_type": "code",
   "execution_count": 2,
   "id": "6a0b22bd-33f3-48ad-bad8-76c7c625b021",
   "metadata": {},
   "outputs": [],
   "source": [
    "df = pd.read_excel(r\"C:\\Users\\DELL\\Downloads\\Manual Sc July 24 to sep 24-Point working.xlsx\",sheet_name = 'Sheet1')"
   ]
  },
  {
   "cell_type": "code",
   "execution_count": 3,
   "id": "7770b2e2-b377-4880-9221-87d33da1e1ff",
   "metadata": {},
   "outputs": [
    {
     "data": {
      "text/plain": [
       "Index(['Rep Month', 'Billing Date', 'Month', 'Region', 'Territory', 'Zone',\n",
       "       'Customer', 'Business name', 'Account Group', 'Account Group.1',\n",
       "       'Classification', 'Dealer Applicable or Not', 'Billing type',\n",
       "       'Material', 'Inch for tyre', 'Inch fro Pivot', 'Tyre Type',\n",
       "       'Tyre Category', 'Description', 'Car Rdl', 'Jeep Rdl', 'total',\n",
       "       'Eligible or Not for Points based on billing type',\n",
       "       'Dealer Classification', 'Slab', 'Normal Points', 'Premium Points'],\n",
       "      dtype='object')"
      ]
     },
     "execution_count": 3,
     "metadata": {},
     "output_type": "execute_result"
    }
   ],
   "source": [
    "df.columns"
   ]
  },
  {
   "cell_type": "code",
   "execution_count": 16,
   "id": "d6641932-fb39-4e64-9e34-e67b31ac334f",
   "metadata": {},
   "outputs": [],
   "source": [
    "df1 = df[df['Month'] == 'Sep'].copy()\n",
    "df2 = df[df['Month'] == 'August'].copy()\n",
    "df3 = df[df['Month'] == 'July'].copy()\n"
   ]
  },
  {
   "cell_type": "code",
   "execution_count": 17,
   "id": "894b7b9e-91cf-4212-9a53-74592ef90f83",
   "metadata": {},
   "outputs": [
    {
     "data": {
      "text/plain": [
       "Index(['Rep Month', 'Billing Date', 'Month', 'Region', 'Territory', 'Zone',\n",
       "       'Customer', 'Business name', 'Account Group', 'Account Group.1',\n",
       "       'Classification', 'Dealer Applicable or Not', 'Billing type',\n",
       "       'Material', 'Inch for tyre', 'Inch fro Pivot', 'Tyre Type',\n",
       "       'Tyre Category', 'Description', 'Car Rdl', 'Jeep Rdl', 'total',\n",
       "       'Eligible or Not for Points based on billing type',\n",
       "       'Dealer Classification', 'Slab', 'Normal Points', 'Premium Points'],\n",
       "      dtype='object')"
      ]
     },
     "execution_count": 17,
     "metadata": {},
     "output_type": "execute_result"
    }
   ],
   "source": [
    "df1.columns"
   ]
  },
  {
   "cell_type": "code",
   "execution_count": 18,
   "id": "79983f72-449c-4b52-8a43-d70cb660a058",
   "metadata": {},
   "outputs": [
    {
     "data": {
      "text/plain": [
       "Month\n",
       "Sep       71952\n",
       "August    69815\n",
       "July      62502\n",
       "Name: count, dtype: int64"
      ]
     },
     "execution_count": 18,
     "metadata": {},
     "output_type": "execute_result"
    }
   ],
   "source": [
    "df['Month'].value_counts()"
   ]
  },
  {
   "cell_type": "code",
   "execution_count": 20,
   "id": "22fb9553-8430-4ad6-8915-1e1ed56a9aa3",
   "metadata": {},
   "outputs": [],
   "source": [
    "df1.to_csv(r\"C:\\Users\\DELL\\Downloads\\Manual Sc July 24 to sep 24-Point working_Sep.csv\", index=False)\n",
    "df2.to_csv(r\"C:\\Users\\DELL\\Downloads\\Manual Sc July 24 to sep 24-Point working_Aug.csv\",index = False)\n",
    "df3.to_csv(r\"C:\\Users\\DELL\\Downloads\\Manual Sc July 24 to sep 24-Point working_Jul.csv\", index = False)"
   ]
  },
  {
   "cell_type": "code",
   "execution_count": null,
   "id": "2ff6c226-16fb-4ef0-be5f-7425d92bffea",
   "metadata": {},
   "outputs": [],
   "source": []
  }
 ],
 "metadata": {
  "kernelspec": {
   "display_name": "Python 3 (ipykernel)",
   "language": "python",
   "name": "python3"
  },
  "language_info": {
   "codemirror_mode": {
    "name": "ipython",
    "version": 3
   },
   "file_extension": ".py",
   "mimetype": "text/x-python",
   "name": "python",
   "nbconvert_exporter": "python",
   "pygments_lexer": "ipython3",
   "version": "3.13.0"
  }
 },
 "nbformat": 4,
 "nbformat_minor": 5
}

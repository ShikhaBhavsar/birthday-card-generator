{
 "cells": [
  {
   "cell_type": "code",
   "execution_count": null,
   "id": "4691dd97-d603-46f6-ac01-bb5d6185784f",
   "metadata": {},
   "outputs": [],
   "source": [
    "import os\n",
    "import fitz  # PyMuPDF for PDF generation\n",
    "import extract_msg  # To parse EML files\n",
    "\n",
    "def eml_to_pdf(eml_file, pdf_file):\n",
    "    try:\n",
    "        # Parse the EML file\n",
    "        msg = extract_msg.Message(eml_file)\n",
    "        \n",
    "        # Prepare the message content to include subject, sender, and body\n",
    "        msg_message = f\"\"\"\n",
    "        Subject: {msg.subject}\n",
    "        Date: {msg.date}\n",
    "        From: {msg.sender}\n",
    "        To: {msg.to}\n",
    "        \n",
    "        {msg.body}\n",
    "        \"\"\"\n",
    "        \n",
    "        # Create a new PDF document\n",
    "        pdf_document = fitz.open()\n",
    "        pdf_page = pdf_document.new_page()\n",
    "        \n",
    "        # Add email content to the PDF page (you can modify text size and layout)\n",
    "        pdf_page.insert_text((72, 72), msg_message, fontsize=12)  # Coordinates for the text\n",
    "        \n",
    "        # Save the PDF file\n",
    "        pdf_document.save(pdf_file)\n",
    "        pdf_document.close()\n",
    "        \n",
    "        print(f\"Successfully converted: {eml_file} -> {pdf_file}\")\n",
    "    except Exception as e:\n",
    "        print(f\"Error processing {eml_file}: {e}\")\n",
    "\n",
    "def batch_convert_eml_to_pdf(directory):\n",
    "    # Iterate through all files in the specified directory\n",
    "    for filename in os.listdir(directory):\n",
    "        # Check if the file is an EML file\n",
    "        if filename.endswith(\".eml\"):\n",
    "            eml_file = os.path.join(directory, filename)\n",
    "            pdf_file = os.path.join(directory, f\"{os.path.splitext(filename)[0]}.pdf\")\n",
    "            \n",
    "            # Convert each EML file to PDF\n",
    "            eml_to_pdf(eml_file, pdf_file)\n",
    "\n",
    "# Example usage:\n",
    "# Set the directory containing your EML files\n",
    "eml_directory = \"your_eml_directory\"  # Replace with your directory path\n",
    "\n",
    "# Batch convert all EML files in the specified directory to PDF\n",
    "batch_convert_eml_to_pdf(eml_directory)\n"
   ]
  }
 ],
 "metadata": {
  "kernelspec": {
   "display_name": "Python 3 (ipykernel)",
   "language": "python",
   "name": "python3"
  },
  "language_info": {
   "codemirror_mode": {
    "name": "ipython",
    "version": 3
   },
   "file_extension": ".py",
   "mimetype": "text/x-python",
   "name": "python",
   "nbconvert_exporter": "python",
   "pygments_lexer": "ipython3",
   "version": "3.13.0"
  }
 },
 "nbformat": 4,
 "nbformat_minor": 5
}

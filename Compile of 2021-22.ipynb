{
 "cells": [
  {
   "cell_type": "code",
   "execution_count": 158,
   "id": "3a7f9664-ef8e-4426-ac9e-248ad22a2450",
   "metadata": {},
   "outputs": [],
   "source": [
    "import pandas as pd\n",
    "import os\n",
    "import re"
   ]
  },
  {
   "cell_type": "code",
   "execution_count": 160,
   "id": "451f7ae6-bcf1-4e22-a389-b37a3588e5d4",
   "metadata": {},
   "outputs": [],
   "source": [
    "file_paths = [\n",
    "    r\"E:\\Sales closing Dump\\2021-22\\Daily sales original Feb22 (1).xlsx\",\n",
    "    r\"E:\\Sales closing Dump\\2021-22\\March22 Closing Dump (1).xlsx\",\n",
    "    r\"E:\\Sales closing Dump\\2021-22\\PCR Apr21 (1).xlsx\",\n",
    "    r\"E:\\Sales closing Dump\\2021-22\\PCR Aug21.xlsx\",\n",
    "    r\"E:\\Sales closing Dump\\2021-22\\PCR Dec21.xlsx\",\n",
    "    r\"E:\\Sales closing Dump\\2021-22\\PCR Jan22 (1).xlsx\",\n",
    "    r\"E:\\Sales closing Dump\\2021-22\\PCR Jul21.xlsx\",\n",
    "    r\"E:\\Sales closing Dump\\2021-22\\PCR Jun21 (1).xlsx\",\n",
    "    r\"E:\\Sales closing Dump\\2021-22\\PCR May21 (1).xlsx\",\n",
    "    r\"E:\\Sales closing Dump\\2021-22\\PCR Nov21 (1).xlsx\",\n",
    "    r\"E:\\Sales closing Dump\\2021-22\\PCR Oct21 (1).xlsx\",\n",
    "    r\"E:\\Sales closing Dump\\2021-22\\PCR Sep21 (1).xlsx\"\n",
    "]"
   ]
  },
  {
   "cell_type": "code",
   "execution_count": 162,
   "id": "ea348fa6-96c6-44b3-9773-a01375caae1f",
   "metadata": {},
   "outputs": [],
   "source": [
    "# The rest of the code remains unchanged\n",
    "compiled_data = pd.DataFrame()\n",
    "\n",
    "for file_path in file_paths:\n",
    "    data = pd.read_excel(file_path)\n",
    "    compiled_data = pd.concat([compiled_data, data], ignore_index=True)\n"
   ]
  },
  {
   "cell_type": "code",
   "execution_count": 163,
   "id": "cea5f0d6-0ded-41b8-80e2-1ebd5dee9de0",
   "metadata": {},
   "outputs": [
    {
     "data": {
      "text/plain": [
       "Index(['Month', 'Zone', 'Region', 'Area', 'Account Group', 'Account Group.1',\n",
       "       'Bill Type', 'Classification', 'Classification.1', 'Customer',\n",
       "       'Customer.1', 'Inches', 'Material', 'Material.1', 'Pattern', 'Total'],\n",
       "      dtype='object')"
      ]
     },
     "execution_count": 163,
     "metadata": {},
     "output_type": "execute_result"
    }
   ],
   "source": [
    "compiled_data.columns"
   ]
  },
  {
   "cell_type": "code",
   "execution_count": 164,
   "id": "eb5464ce-5720-4025-b450-c7492ac6a270",
   "metadata": {},
   "outputs": [],
   "source": [
    "def determine_product_type(value_or_material):\n",
    "    # First, handle the PCR-BIAS and PCR-RADIAL conditions (from the first function)\n",
    "    if value_or_material.startswith(\"131\") or value_or_material.startswith(\"133\") or value_or_material.startswith(\"141\") or value_or_material.startswith(\"143\"):\n",
    "        return \"PCR-BIAS\"\n",
    "    elif value_or_material.startswith(\"132\") or value_or_material.startswith(\"142\") or value_or_material.startswith(\"145\"):\n",
    "        return \"PCR-RADIAL\"\n",
    "    elif value_or_material.startswith(\"121\") or value_or_material.startswith(\"123\"):\n",
    "        return \"LCV-BIAS\"\n",
    "    elif value_or_material.startswith(\"122\") or value_or_material.startswith(\"125\"):\n",
    "        return \"LCV-RADIAL\"\n",
    "    elif value_or_material.startswith(\"1D1\") or value_or_material.startswith(\"1D3\"):\n",
    "        return \"SCV-BIAS\"\n",
    "    elif value_or_material.startswith(\"1D2\") or value_or_material.startswith(\"1D5\"):\n",
    "        return \"SCV-RADIAL\"\n",
    "    elif value_or_material.startswith(\"1S\"):\n",
    "        return \"SCOOTER\"\n",
    "    elif value_or_material.startswith(\"1B\"):\n",
    "        return \"MOTORCYCLE\"\n",
    "    elif value_or_material.startswith(\"1H\"):\n",
    "        return \"3W\"\n",
    "    elif value_or_material.startswith(\"111\") or value_or_material.startswith(\"113\"):\n",
    "        return \"TRUCK-BIAS\"\n",
    "    elif value_or_material.startswith(\"112\") or value_or_material.startswith(\"115\"):\n",
    "        return \"TRUCK-RADIAL\"\n",
    "    elif value_or_material.startswith(\"1E1\") or value_or_material.startswith(\"181\"):\n",
    "        return \"OTR\"\n",
    "    elif value_or_material.startswith(\"15\") or value_or_material.startswith(\"16\") or value_or_material.startswith(\"17\") or value_or_material.startswith(\"19\"):\n",
    "        return \"FARM\"\n",
    "    else:\n",
    "        return \"NA\"\n"
   ]
  },
  {
   "cell_type": "code",
   "execution_count": 165,
   "id": "05fde61d-068f-4b90-8b36-493a8ee107f4",
   "metadata": {},
   "outputs": [],
   "source": [
    "compiled_data['Product_type'] = compiled_data['Material'].apply(determine_product_type)"
   ]
  },
  {
   "cell_type": "code",
   "execution_count": 166,
   "id": "8eac332e-c272-4e2a-adae-8773baf82407",
   "metadata": {},
   "outputs": [
    {
     "data": {
      "text/plain": [
       "Month\n",
       "MAR 2022    119110\n",
       "FEB 2022    109586\n",
       "AUG 2021     42191\n",
       "JUL 2021     41882\n",
       "DEC 2021     41535\n",
       "OCT 2021     41062\n",
       "NOV 2021     40247\n",
       "SEP 2021     38892\n",
       "JAN 2022     35999\n",
       "JUN 2021     34957\n",
       "APR 2021     30067\n",
       "MAY 2021     17427\n",
       "Name: count, dtype: int64"
      ]
     },
     "execution_count": 166,
     "metadata": {},
     "output_type": "execute_result"
    }
   ],
   "source": [
    "compiled_data['Month'].value_counts()"
   ]
  },
  {
   "cell_type": "code",
   "execution_count": 167,
   "id": "2f96e389-34ab-46ae-9089-f6e327b75fb1",
   "metadata": {},
   "outputs": [],
   "source": [
    "def assign_quarter(month):\n",
    "    # Convert month to lowercase to make comparison case-insensitive\n",
    "    month_lower = month.lower()\n",
    "    \n",
    "    # Define the month-year combinations and their respective quarters\n",
    "    quarter_mapping = {\n",
    "        \"jan 2022\": \"Q4\",\n",
    "        \"feb 2022\": \"Q4\",\n",
    "        \"mar 2022\": \"Q4\",\n",
    "        \"apr 2021\": \"Q1\",\n",
    "        \"may 2021\": \"Q1\",\n",
    "        \"jun 2021\": \"Q1\",\n",
    "        \"jul 2021\": \"Q2\",\n",
    "        \"aug 2021\": \"Q2\",\n",
    "        \"sep 2021\": \"Q2\",\n",
    "        \"oct 2021\": \"Q3\",\n",
    "        \"nov 2021\": \"Q3\",\n",
    "        \"dec 2021\": \"Q3\",\n",
    "    }\n",
    "    \n",
    "    # Return the quarter if it exists in the mapping, else return \"Unknown\"\n",
    "    return quarter_mapping.get(month_lower, \"Unknown\")\n"
   ]
  },
  {
   "cell_type": "code",
   "execution_count": 168,
   "id": "626807af-e735-48db-b74e-50109b96a6cd",
   "metadata": {},
   "outputs": [],
   "source": [
    "compiled_data['Quarter'] = compiled_data['Month'].apply(assign_quarter)\n"
   ]
  },
  {
   "cell_type": "code",
   "execution_count": 169,
   "id": "9f9c7e81-ee43-46c7-a16a-de92ec037a87",
   "metadata": {},
   "outputs": [
    {
     "data": {
      "text/plain": [
       "Index(['Month', 'Zone', 'Region', 'Area', 'Account Group', 'Account Group.1',\n",
       "       'Bill Type', 'Classification', 'Classification.1', 'Customer',\n",
       "       'Customer.1', 'Inches', 'Material', 'Material.1', 'Pattern', 'Total',\n",
       "       'Product_type', 'Quarter'],\n",
       "      dtype='object')"
      ]
     },
     "execution_count": 169,
     "metadata": {},
     "output_type": "execute_result"
    }
   ],
   "source": [
    "compiled_data.columns"
   ]
  },
  {
   "cell_type": "code",
   "execution_count": 170,
   "id": "9eb2490d-e50a-44f5-ae2b-f4b4775c3f51",
   "metadata": {},
   "outputs": [],
   "source": [
    "df = pd.read_excel(r\"E:\\Sales closing Dump\\2021-22\\SAp id in score card.xlsx\")"
   ]
  },
  {
   "cell_type": "code",
   "execution_count": 171,
   "id": "f4fe6023-abe6-4a37-a295-6b72fa138796",
   "metadata": {},
   "outputs": [],
   "source": [
    "compiled_data['Exists'] = compiled_data['Customer'].isin(df['SAP ID']).map({True: 'Yes', False: 'No'})\n"
   ]
  },
  {
   "cell_type": "code",
   "execution_count": 208,
   "id": "eb07190b-5b19-44f2-bcce-615939166aa5",
   "metadata": {},
   "outputs": [
    {
     "name": "stdout",
     "output_type": "stream",
     "text": [
      "         Customer   Total\n",
      "Quarter                  \n",
      "Q1          67772  466495\n",
      "Q2          94530  681620\n",
      "Q3          94810  669755\n",
      "Q4          81866  545429\n"
     ]
    }
   ],
   "source": [
    "filtered_df = compiled_data[\n",
    "    (compiled_data['Exists'] == 'Yes') &\n",
    "    (compiled_data['Product_type'] == 'PCR-RADIAL') &\n",
    "    ((compiled_data['Account Group'] == 'Z001') | \n",
    "     ((compiled_data['Account Group'] == 'Z004') & compiled_data['Classification.1'].isin(['DB', 'RD','DISTRIBUTOR','Rural Distribution']))) &\n",
    "    (compiled_data['Bill Type'].isin(['ZOR', 'YOR', 'YPLT', 'ZPLT', 'ZRDR', 'YRDR','Depot Invoice','Depot Returns','Plant Invoice']))\n",
    "]\n",
    "\n",
    "pivot_table = filtered_df.pivot_table(\n",
    "    index='Quarter',\n",
    "    values=['Customer', 'Total'],\n",
    "    aggfunc={'Customer': 'count', 'Total': 'sum'},\n",
    "    fill_value=0\n",
    ")\n",
    "\n",
    "print(pivot_table)\n"
   ]
  },
  {
   "cell_type": "code",
   "execution_count": 204,
   "id": "9687439d-ba88-480c-85db-5e4d57d176f0",
   "metadata": {},
   "outputs": [],
   "source": [
    "df3 = compiled_data[compiled_data['Quarter'] == 'Q4'].copy()"
   ]
  },
  {
   "cell_type": "code",
   "execution_count": 214,
   "id": "26a7c41c-a84d-461d-9d53-938e17d0f736",
   "metadata": {},
   "outputs": [
    {
     "name": "stdout",
     "output_type": "stream",
     "text": [
      "         Customer   Total\n",
      "Quarter                  \n",
      "Q1          81132  537233\n",
      "Q2         121079  802783\n",
      "Q3         120900  786373\n",
      "Q4         101951  613510\n"
     ]
    }
   ],
   "source": [
    "filtered_df_all= compiled_data[\n",
    "     (compiled_data['Product_type'] == 'PCR-RADIAL') &\n",
    "    ((compiled_data['Account Group'] == 'Z001') | \n",
    "     ((compiled_data['Account Group'] == 'Z004') & compiled_data['Classification.1'].isin(['DB', 'RD','DISTRIBUTOR','Rural Distribution'])))\n",
    "]\n",
    "\n",
    "pivot_table_all= filtered_df_all.pivot_table(\n",
    "    index='Quarter',\n",
    "    values=['Customer', 'Total'],\n",
    "    aggfunc={'Customer': 'count', 'Total': 'sum'},\n",
    "    fill_value=0\n",
    ")\n",
    "\n",
    "print(pivot_table_all)\n"
   ]
  },
  {
   "cell_type": "code",
   "execution_count": 206,
   "id": "9088d1e7-b4a3-47fd-9509-965b1ef28805",
   "metadata": {},
   "outputs": [],
   "source": [
    "df3.to_csv(r\"E:\\Sales closing Dump\\2021-22\\Q4.csv\")"
   ]
  },
  {
   "cell_type": "code",
   "execution_count": null,
   "id": "cbd1ccab-52ab-487c-9faa-3c170e0eb52e",
   "metadata": {},
   "outputs": [],
   "source": []
  }
 ],
 "metadata": {
  "kernelspec": {
   "display_name": "Python 3 (ipykernel)",
   "language": "python",
   "name": "python3"
  },
  "language_info": {
   "codemirror_mode": {
    "name": "ipython",
    "version": 3
   },
   "file_extension": ".py",
   "mimetype": "text/x-python",
   "name": "python",
   "nbconvert_exporter": "python",
   "pygments_lexer": "ipython3",
   "version": "3.13.0"
  }
 },
 "nbformat": 4,
 "nbformat_minor": 5
}

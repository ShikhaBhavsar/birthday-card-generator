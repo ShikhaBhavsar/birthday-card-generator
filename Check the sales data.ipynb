{
 "cells": [
  {
   "cell_type": "code",
   "execution_count": 1,
   "id": "63b35613-e93d-4b3d-b081-201e8ec0f856",
   "metadata": {},
   "outputs": [],
   "source": [
    "import pandas as pd\n",
    "import os\n",
    "import numpy as np"
   ]
  },
  {
   "cell_type": "code",
   "execution_count": 73,
   "id": "2f9a50ff-d5d3-454f-b0e6-217f2f0583fa",
   "metadata": {},
   "outputs": [],
   "source": [
    "ch = pd.read_excel(r\"D:\\Shikha\\Data\\Baadshah Yearly sales data\\2023-2024\\compiled_sales_data_h2.xlsx\")"
   ]
  },
  {
   "cell_type": "code",
   "execution_count": 71,
   "id": "d0370991-15f5-46a2-aa94-a449b82a5e4a",
   "metadata": {},
   "outputs": [],
   "source": [
    "df = pd.read_excel (r\"D:\\Shikha\\Data\\Baadshah_sales files\\Oct'2023 Closing Sales dump.xlsx\")"
   ]
  },
  {
   "cell_type": "code",
   "execution_count": 74,
   "id": "925790a8-7da3-4d67-b039-6aaf22111781",
   "metadata": {},
   "outputs": [
    {
     "data": {
      "text/plain": [
       "Month\n",
       "OCT 2023    120032\n",
       "Name: count, dtype: int64"
      ]
     },
     "execution_count": 74,
     "metadata": {},
     "output_type": "execute_result"
    }
   ],
   "source": [
    "df['Month'].value_counts()"
   ]
  },
  {
   "cell_type": "code",
   "execution_count": 75,
   "id": "c27e2987-46ed-40d3-a585-c212b7aa0347",
   "metadata": {},
   "outputs": [
    {
     "data": {
      "text/plain": [
       "120715"
      ]
     },
     "execution_count": 75,
     "metadata": {},
     "output_type": "execute_result"
    }
   ],
   "source": []
  },
  {
   "cell_type": "code",
   "execution_count": 76,
   "id": "2a3c21ae-445a-4917-b73f-8c5fe84b8e6b",
   "metadata": {},
   "outputs": [
    {
     "data": {
      "text/html": [
       "<div>\n",
       "<style scoped>\n",
       "    .dataframe tbody tr th:only-of-type {\n",
       "        vertical-align: middle;\n",
       "    }\n",
       "\n",
       "    .dataframe tbody tr th {\n",
       "        vertical-align: top;\n",
       "    }\n",
       "\n",
       "    .dataframe thead th {\n",
       "        text-align: right;\n",
       "    }\n",
       "</style>\n",
       "<table border=\"1\" class=\"dataframe\">\n",
       "  <thead>\n",
       "    <tr style=\"text-align: right;\">\n",
       "      <th></th>\n",
       "      <th>Month_Name</th>\n",
       "      <th>Quantity</th>\n",
       "    </tr>\n",
       "  </thead>\n",
       "  <tbody>\n",
       "    <tr>\n",
       "      <th>0</th>\n",
       "      <td>Dec'2023</td>\n",
       "      <td>0.0</td>\n",
       "    </tr>\n",
       "    <tr>\n",
       "      <th>1</th>\n",
       "      <td>Feb'2024</td>\n",
       "      <td>0.0</td>\n",
       "    </tr>\n",
       "    <tr>\n",
       "      <th>2</th>\n",
       "      <td>Jan'2024</td>\n",
       "      <td>0.0</td>\n",
       "    </tr>\n",
       "    <tr>\n",
       "      <th>3</th>\n",
       "      <td>Mar'2024</td>\n",
       "      <td>0.0</td>\n",
       "    </tr>\n",
       "    <tr>\n",
       "      <th>4</th>\n",
       "      <td>Nov'2023</td>\n",
       "      <td>806787.0</td>\n",
       "    </tr>\n",
       "    <tr>\n",
       "      <th>5</th>\n",
       "      <td>Oct'2023</td>\n",
       "      <td>937211.0</td>\n",
       "    </tr>\n",
       "  </tbody>\n",
       "</table>\n",
       "</div>"
      ],
      "text/plain": [
       "  Month_Name  Quantity\n",
       "0   Dec'2023       0.0\n",
       "1   Feb'2024       0.0\n",
       "2   Jan'2024       0.0\n",
       "3   Mar'2024       0.0\n",
       "4   Nov'2023  806787.0\n",
       "5   Oct'2023  937211.0"
      ]
     },
     "execution_count": 76,
     "metadata": {},
     "output_type": "execute_result"
    }
   ],
   "source": [
    "monthly_sales = ch.groupby('Month_Name')['Quantity'].sum().reset_index()\n",
    "monthly_sales"
   ]
  },
  {
   "cell_type": "code",
   "execution_count": 77,
   "id": "86478c31-df33-4f2d-a23e-9350889d8577",
   "metadata": {},
   "outputs": [
    {
     "data": {
      "text/plain": [
       "Month_Name\n",
       "Oct'2023    120032\n",
       "Nov'2023    107524\n",
       "Mar'2024     50665\n",
       "Dec'2023     30183\n",
       "Feb'2024     25605\n",
       "Jan'2024     25232\n",
       "Name: count, dtype: int64"
      ]
     },
     "execution_count": 77,
     "metadata": {},
     "output_type": "execute_result"
    }
   ],
   "source": [
    "ch['Month_Name'].value_counts()"
   ]
  },
  {
   "cell_type": "code",
   "execution_count": 79,
   "id": "392be70f-1a18-4ee5-af3a-657afb89cfd4",
   "metadata": {},
   "outputs": [
    {
     "data": {
      "text/plain": [
       "Index(['Month', 'Zone', 'Region', 'Area', 'Customer Code', 'Customer',\n",
       "       'Account Group - Key', 'Account Group', 'Customer Classific.',\n",
       "       'Customer Classification', 'Inches', 'Material - Key', 'Tyre category',\n",
       "       'Material', 'Pattern', 'Billing type', 'Quantity', 'Truck BIAS',\n",
       "       'Truck RDL', 'LCV BIAS', 'LCV RDL', 'CAR BIAS', 'CAR RDL', 'Jeep BIAS',\n",
       "       'Jeep RDL', 'Tr. Rear BIAS', 'Tr. Front BIAS', 'Tr. Trailert BIAS',\n",
       "       'ADV BIAS', 'Scooter', 'OTR BIAS', 'SCV BIAS', 'SCV RDL', 'Motor Cycle',\n",
       "       '3 W'],\n",
       "      dtype='object')"
      ]
     },
     "execution_count": 79,
     "metadata": {},
     "output_type": "execute_result"
    }
   ],
   "source": [
    "df.columns"
   ]
  },
  {
   "cell_type": "code",
   "execution_count": 80,
   "id": "7ba071dc-ef60-4e3f-ae0e-85739a261b85",
   "metadata": {},
   "outputs": [
    {
     "data": {
      "text/plain": [
       "937211"
      ]
     },
     "execution_count": 80,
     "metadata": {},
     "output_type": "execute_result"
    }
   ],
   "source": [
    "df['Quantity'].sum()"
   ]
  },
  {
   "cell_type": "code",
   "execution_count": null,
   "id": "7f6014e2-b59f-4e79-ab41-5baa053e72dd",
   "metadata": {},
   "outputs": [],
   "source": []
  }
 ],
 "metadata": {
  "kernelspec": {
   "display_name": "Python [conda env:base] *",
   "language": "python",
   "name": "conda-base-py"
  },
  "language_info": {
   "codemirror_mode": {
    "name": "ipython",
    "version": 3
   },
   "file_extension": ".py",
   "mimetype": "text/x-python",
   "name": "python",
   "nbconvert_exporter": "python",
   "pygments_lexer": "ipython3",
   "version": "3.12.7"
  }
 },
 "nbformat": 4,
 "nbformat_minor": 5
}

{
 "cells": [
  {
   "cell_type": "code",
   "execution_count": 5,
   "id": "f9087dea-2369-4725-8c8e-7404ed977f8c",
   "metadata": {},
   "outputs": [],
   "source": [
    "import pandas as pd"
   ]
  },
  {
   "cell_type": "code",
   "execution_count": 13,
   "id": "4594893f-a00f-4278-a8b5-57b347aa3ab8",
   "metadata": {},
   "outputs": [],
   "source": [
    "df = pd.read_excel(r\"E:\\FY compiled Scorecard\\Advantage\\Consolidated files\\22-23\\1C13BF10.xlsx\")"
   ]
  },
  {
   "cell_type": "code",
   "execution_count": 22,
   "id": "3ee0bbe0-399f-4cdb-9ef1-8dde546a81ec",
   "metadata": {},
   "outputs": [
    {
     "data": {
      "text/plain": [
       "Index(['Data_type', 'Queter', 'Month', 'Zone', 'Region', 'Area',\n",
       "       'Customer Code', 'Customer', 'Account Group - Key', 'Account Group',\n",
       "       'Customer Classific.', 'Customer Classific..1', 'Inches',\n",
       "       'Premium or not', 'PCR BAIS OR RADIAL', 'Dealer type', 'Club',\n",
       "       'Eligible for Points as per club', 'Q1 Regular Total Points', 'Quarter',\n",
       "       'Sales Category'],\n",
       "      dtype='object')"
      ]
     },
     "execution_count": 22,
     "metadata": {},
     "output_type": "execute_result"
    }
   ],
   "source": [
    "df.columns"
   ]
  },
  {
   "cell_type": "code",
   "execution_count": 26,
   "id": "c4b96239-8381-41ec-bf19-34c57d9a85df",
   "metadata": {},
   "outputs": [
    {
     "data": {
      "text/plain": [
       "Month\n",
       "SEP 2022    38876\n",
       "JUL 2022    36557\n",
       "MAY 2022    36233\n",
       "JUN 2022    36167\n",
       "DEC 2022    35665\n",
       "AUG 2022    35108\n",
       "NOV 2022    34958\n",
       "OCT 2022    34576\n",
       "APR 2022    34234\n",
       "FEB 2023    32531\n",
       "MAR 2023    32375\n",
       "JAN 2023    32221\n",
       "Name: count, dtype: int64"
      ]
     },
     "execution_count": 26,
     "metadata": {},
     "output_type": "execute_result"
    }
   ],
   "source": [
    "df['Month'].value_counts()"
   ]
  },
  {
   "cell_type": "code",
   "execution_count": 28,
   "id": "dddd247e-a74b-4177-8026-17e56f3d8120",
   "metadata": {},
   "outputs": [],
   "source": [
    "df1 = df.drop_duplicates()\n"
   ]
  },
  {
   "cell_type": "code",
   "execution_count": 32,
   "id": "635b7209-837b-4526-99eb-fedce9036127",
   "metadata": {},
   "outputs": [
    {
     "data": {
      "text/plain": [
       "419501"
      ]
     },
     "execution_count": 32,
     "metadata": {},
     "output_type": "execute_result"
    }
   ],
   "source": [
    "df1['Month'].count()\n",
    "df['Month'].count()"
   ]
  },
  {
   "cell_type": "code",
   "execution_count": 34,
   "id": "81b1e21c-84c3-4e29-a6ac-f1fcd362cec0",
   "metadata": {},
   "outputs": [
    {
     "data": {
      "text/plain": [
       "221788"
      ]
     },
     "execution_count": 34,
     "metadata": {},
     "output_type": "execute_result"
    }
   ],
   "source": [
    "df1['Month'].count()\n"
   ]
  },
  {
   "cell_type": "code",
   "execution_count": 44,
   "id": "f081c824-52f4-442c-b356-724d3b98de7d",
   "metadata": {},
   "outputs": [],
   "source": [
    "df1.to_excel(r\"E:\\FY compiled Scorecard\\Advantage\\Consolidated files\\22-23\\Unique.xlsx\", index=False)\n"
   ]
  },
  {
   "cell_type": "code",
   "execution_count": 56,
   "id": "013375ac-03de-42e2-92f7-f457e78f1557",
   "metadata": {},
   "outputs": [
    {
     "data": {
      "text/plain": [
       "221788"
      ]
     },
     "execution_count": 56,
     "metadata": {},
     "output_type": "execute_result"
    }
   ],
   "source": [
    "df1['Month'].count()\n"
   ]
  },
  {
   "cell_type": "code",
   "execution_count": 58,
   "id": "3f2bd815-b1d3-4927-9ea8-b9d0b1399636",
   "metadata": {},
   "outputs": [],
   "source": [
    "df = pd.read_excel(r\"E:\\FY compiled Scorecard\\Advantage\\Consolidated files\\22-23\\Unique_1.xlsx\")"
   ]
  },
  {
   "cell_type": "code",
   "execution_count": 63,
   "id": "de57c317-2a3c-4ea9-844c-db747763e918",
   "metadata": {},
   "outputs": [],
   "source": [
    "df = df.drop_duplicates()"
   ]
  },
  {
   "cell_type": "code",
   "execution_count": 66,
   "id": "d63feb68-bcbf-4bc7-af35-61855f435d3f",
   "metadata": {},
   "outputs": [
    {
     "data": {
      "text/plain": [
       "221788"
      ]
     },
     "execution_count": 66,
     "metadata": {},
     "output_type": "execute_result"
    }
   ],
   "source": [
    "df['Month'].count()"
   ]
  },
  {
   "cell_type": "code",
   "execution_count": 65,
   "id": "1af7c821-f2cd-45dc-8897-ebfe222a6d3d",
   "metadata": {},
   "outputs": [],
   "source": [
    "df.to_excel(r\"E:\\FY compiled Scorecard\\Advantage\\Consolidated files\\22-23\\Unique_111.xlsx\")"
   ]
  },
  {
   "cell_type": "code",
   "execution_count": null,
   "id": "031b7d3c-d647-4eb5-a29d-81bffd428408",
   "metadata": {},
   "outputs": [],
   "source": []
  }
 ],
 "metadata": {
  "kernelspec": {
   "display_name": "Python 3 (ipykernel)",
   "language": "python",
   "name": "python3"
  },
  "language_info": {
   "codemirror_mode": {
    "name": "ipython",
    "version": 3
   },
   "file_extension": ".py",
   "mimetype": "text/x-python",
   "name": "python",
   "nbconvert_exporter": "python",
   "pygments_lexer": "ipython3",
   "version": "3.12.4"
  }
 },
 "nbformat": 4,
 "nbformat_minor": 5
}

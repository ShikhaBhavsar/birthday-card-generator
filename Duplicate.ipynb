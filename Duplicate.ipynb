{
 "cells": [
  {
   "cell_type": "code",
   "execution_count": 26,
   "id": "04b9a39d-0cd4-4ddf-b3a5-ad82fe8a502f",
   "metadata": {},
   "outputs": [],
   "source": [
    "import pandas as pd"
   ]
  },
  {
   "cell_type": "code",
   "execution_count": 27,
   "id": "6b0a25d5-2f57-4707-a33e-1d4a48d41844",
   "metadata": {},
   "outputs": [],
   "source": [
    "df1 = pd.read_excel(r\"E:\\Score Card\\Advantage\\Q2\\Smart\\Working sheet\\July.xlsx\")\n",
    "df2 = pd.read_excel(r\"E:\\Score Card\\Advantage\\Q2\\Smart\\Sensor.xlsx\")"
   ]
  },
  {
   "cell_type": "code",
   "execution_count": 28,
   "id": "ce159730-ca85-4899-b05a-44ec48cefa45",
   "metadata": {},
   "outputs": [],
   "source": [
    "df1['Billing Date'] = pd.to_datetime(df1['Billing Date'], errors='coerce')  # Convert to datetime\n",
    "df2['Billing Date'] = pd.to_datetime(df2['Billing Date'], errors='coerce')\n"
   ]
  },
  {
   "cell_type": "code",
   "execution_count": 29,
   "id": "36b3e86a-4455-4ea0-b5e9-1068428e3996",
   "metadata": {},
   "outputs": [],
   "source": [
    "duplicates = pd.merge(df1, df2, how='inner')\n"
   ]
  },
  {
   "cell_type": "code",
   "execution_count": 30,
   "id": "dc131556-9fc7-4a5a-bd3e-59d2d704dec9",
   "metadata": {},
   "outputs": [],
   "source": [
    "duplicates.to_excel(\"E:\\\\Score Card\\\\Advantage\\\\Q2\\\\duplicate_rows.xlsx\", index=False)\n"
   ]
  },
  {
   "cell_type": "code",
   "execution_count": 31,
   "id": "36838535-cdd7-4909-9ba9-c6c6789b36c1",
   "metadata": {},
   "outputs": [
    {
     "data": {
      "text/plain": [
       "Index(['Terr Zone', 'Terr Region', 'Territory', 'Territory.1',\n",
       "       'Billing Document No.', 'Billing Date', 'Rep Month', 'Customer',\n",
       "       'Customer Name', 'Account Group', 'Account Group.1', 'Classification',\n",
       "       'Classification.1', 'Bill Type', 'Material', 'Product', 'Car Rdl',\n",
       "       'Jeep Rdl', 'Total'],\n",
       "      dtype='object')"
      ]
     },
     "execution_count": 31,
     "metadata": {},
     "output_type": "execute_result"
    }
   ],
   "source": [
    "df1.columns"
   ]
  },
  {
   "cell_type": "code",
   "execution_count": null,
   "id": "d081aa08-70a2-4388-8034-7911ee9041af",
   "metadata": {},
   "outputs": [],
   "source": []
  }
 ],
 "metadata": {
  "kernelspec": {
   "display_name": "Python 3 (ipykernel)",
   "language": "python",
   "name": "python3"
  },
  "language_info": {
   "codemirror_mode": {
    "name": "ipython",
    "version": 3
   },
   "file_extension": ".py",
   "mimetype": "text/x-python",
   "name": "python",
   "nbconvert_exporter": "python",
   "pygments_lexer": "ipython3",
   "version": "3.12.4"
  }
 },
 "nbformat": 4,
 "nbformat_minor": 5
}

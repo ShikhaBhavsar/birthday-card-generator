{
 "cells": [
  {
   "cell_type": "code",
   "execution_count": 20,
   "id": "b0603fbe-de84-4ea5-a65e-1ab5ed9c3468",
   "metadata": {},
   "outputs": [],
   "source": [
    "import pandas as pd\n",
    "import os\n",
    "import re"
   ]
  },
  {
   "cell_type": "code",
   "execution_count": 40,
   "id": "72986bc7-0512-45b1-a8db-846e1005f8d7",
   "metadata": {},
   "outputs": [],
   "source": [
    "file_paths = [\n",
    "    r\"E:\\Sales closing Dump\\Sept'20.xlsx\",\n",
    "    r\"E:\\Sales closing Dump\\Apr'2020.xlsx\",\n",
    "    r\"E:\\Sales closing Dump\\Aug'2020.xlsx\",\n",
    "    r\"E:\\Sales closing Dump\\Dec'20.xlsx\",\n",
    "    r\"E:\\Sales closing Dump\\Feb'21.xlsx\",\n",
    "    r\"E:\\Sales closing Dump\\Jan'21.xlsx\",\n",
    "    r\"E:\\Sales closing Dump\\Jul'20.xlsx\",\n",
    "    r\"E:\\Sales closing Dump\\Jun'20.xlsx\",\n",
    "    r\"E:\\Sales closing Dump\\Mar'21.xlsx\",\n",
    "    r\"E:\\Sales closing Dump\\May'20.xlsx\",\n",
    "    r\"E:\\Sales closing Dump\\Nov'20.xlsx\",\n",
    "    r\"E:\\Sales closing Dump\\Oct'20.xlsx\"]"
   ]
  },
  {
   "cell_type": "code",
   "execution_count": 42,
   "id": "99b23fc1-a02b-4ad5-acc7-205fde2dde30",
   "metadata": {},
   "outputs": [],
   "source": [
    "def extract_month(file_path):\n",
    "    # Extract the file name without path\n",
    "    file_name = os.path.basename(file_path)\n",
    "    # Regex to extract the month part of the file name\n",
    "    match = re.search(r\"(Jan|Feb|Mar|Apr|May|Jun|Jul|Aug|Sep|Oct|Nov|Dec)[\\w']*\\s*\\d{2,4}\", file_name)\n",
    "    return match.group(0) if match else None"
   ]
  },
  {
   "cell_type": "code",
   "execution_count": 44,
   "id": "7df4d315-2d8b-491f-848f-7c222f4c4ee0",
   "metadata": {},
   "outputs": [],
   "source": [
    "dataframes = []\n",
    "\n",
    "for file in file_paths:\n",
    "    # Read the Excel file\n",
    "    df = pd.read_excel(file)\n",
    "    # Extract the month and add it as a new column\n",
    "    df['Month'] = extract_month(file)\n",
    "    # Append the dataframe to the list\n",
    "    dataframes.append(df)\n"
   ]
  },
  {
   "cell_type": "code",
   "execution_count": 45,
   "id": "97f7c20a-c758-4a19-8366-a3bbce73e5eb",
   "metadata": {},
   "outputs": [],
   "source": [
    "final_df = pd.concat(dataframes, ignore_index=True)\n"
   ]
  },
  {
   "cell_type": "code",
   "execution_count": 69,
   "id": "c06cfff3-a601-412a-83c3-932e42265f4f",
   "metadata": {},
   "outputs": [
    {
     "data": {
      "text/plain": [
       "Index(['Zone', 'Region', 'Area', 'Customer', ' 'Customer Name',\n",
       "       'Account Group', 'Customer Class', 'Customer Classific.',\n",
       "       'Customer Classific..1', 'Inches', 'Material', 'Discription', 'Pattern',\n",
       "       'Billing type', 'Total Net Qty', 'Month', 'Product_type', 'Quarter'],\n",
       "      dtype='object')"
      ]
     },
     "execution_count": 69,
     "metadata": {},
     "output_type": "execute_result"
    }
   ],
   "source": [
    "final_df.columns"
   ]
  },
  {
   "cell_type": "code",
   "execution_count": 48,
   "id": "c04d3b2f-4db1-40b0-8794-2dc7e63bcbf0",
   "metadata": {},
   "outputs": [
    {
     "data": {
      "text/plain": [
       "Month\n",
       "Oct'20      118440\n",
       "Sept'20     116419\n",
       "Dec'20      116331\n",
       "Mar'21      115863\n",
       "Jan'21      115036\n",
       "Feb'21      112688\n",
       "Nov'20      110983\n",
       "Jul'20      104969\n",
       "Aug'2020    104910\n",
       "Jun'20      102410\n",
       "May'20       69452\n",
       "Apr'2020     11392\n",
       "Name: count, dtype: int64"
      ]
     },
     "execution_count": 48,
     "metadata": {},
     "output_type": "execute_result"
    }
   ],
   "source": [
    "final_df['Month'].value_counts()"
   ]
  },
  {
   "cell_type": "code",
   "execution_count": 100,
   "id": "90e64abd-2bdc-4b67-8197-bcf51b2d0d94",
   "metadata": {},
   "outputs": [],
   "source": [
    "def determine_product_type(value_or_material):\n",
    "    # First, handle the PCR-BIAS and PCR-RADIAL conditions (from the first function)\n",
    "    if value_or_material.startswith(\"131\") or value_or_material.startswith(\"133\") or value_or_material.startswith(\"141\") or value_or_material.startswith(\"143\"):\n",
    "        return \"PCR-BIAS\"\n",
    "    elif value_or_material.startswith(\"132\") or value_or_material.startswith(\"142\") or value_or_material.startswith(\"145\"):\n",
    "        return \"PCR-RADIAL\"\n",
    "    elif value_or_material.startswith(\"121\") or value_or_material.startswith(\"123\"):\n",
    "        return \"LCV-BIAS\"\n",
    "    elif value_or_material.startswith(\"122\") or value_or_material.startswith(\"125\"):\n",
    "        return \"LCV-RADIAL\"\n",
    "    elif value_or_material.startswith(\"1D1\") or value_or_material.startswith(\"1D3\"):\n",
    "        return \"SCV-BIAS\"\n",
    "    elif value_or_material.startswith(\"1D2\") or value_or_material.startswith(\"1D5\"):\n",
    "        return \"SCV-RADIAL\"\n",
    "    elif value_or_material.startswith(\"1S\"):\n",
    "        return \"SCOOTER\"\n",
    "    elif value_or_material.startswith(\"1B\"):\n",
    "        return \"MOTORCYCLE\"\n",
    "    elif value_or_material.startswith(\"1H\"):\n",
    "        return \"3W\"\n",
    "    elif value_or_material.startswith(\"111\") or value_or_material.startswith(\"113\"):\n",
    "        return \"TRUCK-BIAS\"\n",
    "    elif value_or_material.startswith(\"112\") or value_or_material.startswith(\"115\"):\n",
    "        return \"TRUCK-RADIAL\"\n",
    "    elif value_or_material.startswith(\"1E1\") or value_or_material.startswith(\"181\"):\n",
    "        return \"OTR\"\n",
    "    elif value_or_material.startswith(\"15\") or value_or_material.startswith(\"16\") or value_or_material.startswith(\"17\") or value_or_material.startswith(\"19\"):\n",
    "        return \"FARM\"\n",
    "    else:\n",
    "        return \"NA\"\n"
   ]
  },
  {
   "cell_type": "code",
   "execution_count": 102,
   "id": "1717ab37-b10c-46c0-9299-1484bde80eca",
   "metadata": {},
   "outputs": [],
   "source": [
    "final_df['Product_type'] = final_df['Material'].apply(determine_product_type)"
   ]
  },
  {
   "cell_type": "code",
   "execution_count": 128,
   "id": "0012b47d-9bf7-47de-b5cd-0339c5ff79e2",
   "metadata": {},
   "outputs": [
    {
     "data": {
      "text/plain": [
       "Customer Classific.\n",
       "PD            224625\n",
       "CO            190070\n",
       "SW            161677\n",
       "NT            125773\n",
       "DB            124329\n",
       "TP            112875\n",
       "TR             70744\n",
       "XW             50858\n",
       "PP             39481\n",
       "RD             14529\n",
       "IC             12122\n",
       "TW              5135\n",
       "FM              5058\n",
       "HC              4861\n",
       "#               4072\n",
       "FW              3468\n",
       "OT              3396\n",
       "CP              3090\n",
       "MS              2311\n",
       "WV              1444\n",
       "Non truck       1329\n",
       "EC              1288\n",
       "1                773\n",
       "PS               434\n",
       "MB               322\n",
       "RN               269\n",
       "01               127\n",
       "EN               125\n",
       "2P                87\n",
       "IP                45\n",
       "HD                45\n",
       "M4                31\n",
       "NS                19\n",
       "HY                15\n",
       "HT                 8\n",
       "M5                 6\n",
       "IN                 4\n",
       "B-customer         2\n",
       "N5                 1\n",
       "Name: count, dtype: int64"
      ]
     },
     "execution_count": 128,
     "metadata": {},
     "output_type": "execute_result"
    }
   ],
   "source": [
    "final_df['Customer Classific.'].value_counts()"
   ]
  },
  {
   "cell_type": "code",
   "execution_count": 108,
   "id": "614b6d4a-492b-46db-ab29-a5223c1f5974",
   "metadata": {},
   "outputs": [],
   "source": [
    "def assign_quarter(month):\n",
    "    month_lower = month.lower()\n",
    "    \n",
    "    # Check for Q4: Jan'21, Feb'21, Mar'21\n",
    "    if \"jan'21\" in month_lower or \"feb'21\" in month_lower or \"mar'21\" in month_lower:\n",
    "        return \"Q4\"\n",
    "    \n",
    "    # Check for Q1: Apr'2020, May'20, Jun'20\n",
    "    elif \"apr'2020\" in month_lower or \"may'20\" in month_lower or \"jun'20\" in month_lower:\n",
    "        return \"Q1\"\n",
    "    \n",
    "    # Check for Q2: Jul'20, Aug'2020, Sept'20\n",
    "    elif \"jul'20\" in month_lower or \"aug'2020\" in month_lower or \"sept'20\" in month_lower:\n",
    "        return \"Q2\"\n",
    "    \n",
    "    # Check for Q3: Oct'20, Nov'20, Dec'20\n",
    "    elif \"oct'20\" in month_lower or \"nov'20\" in month_lower or \"dec'20\" in month_lower:\n",
    "        return \"Q3\"\n",
    "    \n",
    "    else:\n",
    "        return \"Unknown\"\n"
   ]
  },
  {
   "cell_type": "code",
   "execution_count": 112,
   "id": "ead0b28f-2ffd-431c-8cc5-cdb8d37a1974",
   "metadata": {},
   "outputs": [],
   "source": [
    "final_df['Quarter'] = final_df['Month'].apply(assign_quarter)\n"
   ]
  },
  {
   "cell_type": "code",
   "execution_count": 114,
   "id": "d065fb50-43c7-4c34-81f7-e2af892b114c",
   "metadata": {},
   "outputs": [],
   "source": [
    "df = pd.read_excel(r\"E:\\Sales closing Dump\\SAP id in score card.xlsx\")"
   ]
  },
  {
   "cell_type": "code",
   "execution_count": 116,
   "id": "b90cb17b-ee84-4339-9569-86e45dfe20d5",
   "metadata": {},
   "outputs": [],
   "source": [
    "final_df['Exists'] = final_df['Customer'].isin(df['SAP ID']).map({True: 'Yes', False: 'No'})\n"
   ]
  },
  {
   "cell_type": "code",
   "execution_count": 118,
   "id": "945d59be-650f-400e-83ee-4984dc8b6aab",
   "metadata": {},
   "outputs": [
    {
     "data": {
      "text/plain": [
       "Index(['Zone', 'Region', 'Area', 'Customer', ' 'Customer Name',\n",
       "       'Account Group', 'Customer Class', 'Customer Classific.',\n",
       "       'Customer Classific..1', 'Inches', 'Material', 'Discription', 'Pattern',\n",
       "       'Billing type', 'Total Net Qty', 'Month', 'Product_type', 'Quarter',\n",
       "       'Exists'],\n",
       "      dtype='object')"
      ]
     },
     "execution_count": 118,
     "metadata": {},
     "output_type": "execute_result"
    }
   ],
   "source": [
    "final_df.columns"
   ]
  },
  {
   "cell_type": "code",
   "execution_count": 134,
   "id": "89771a62-68e7-45d9-9e34-1e250d9a3036",
   "metadata": {},
   "outputs": [
    {
     "name": "stdout",
     "output_type": "stream",
     "text": [
      "         Customer  Total Net Qty\n",
      "Quarter                         \n",
      "Q1          29447         175692\n",
      "Q2          70258         534838\n",
      "Q3          85191         682937\n",
      "Q4          83610         627940\n"
     ]
    }
   ],
   "source": [
    "filtered_df = final_df[\n",
    "    (final_df['Exists'] == 'Yes') &\n",
    "    (final_df['Product_type'] == 'PCR-RADIAL') &\n",
    "    ((final_df['Account Group'] == 'Z001') | \n",
    "     ((final_df['Account Group'] == 'Z004') & final_df['Customer Classific.'].isin(['DB', 'RD']))) &\n",
    "    (final_df['Billing type'].isin(['ZOR', 'YOR', 'YPLT', 'ZPLT', 'ZRDR', 'YRDR']))\n",
    "]\n",
    "\n",
    "pivot_table = filtered_df.pivot_table(\n",
    "    index='Quarter',\n",
    "    values=['Customer', 'Total Net Qty'],\n",
    "    aggfunc={'Customer': 'count', 'Total Net Qty': 'sum'},\n",
    "    fill_value=0\n",
    ")\n",
    "\n",
    "print(pivot_table)\n"
   ]
  },
  {
   "cell_type": "code",
   "execution_count": 138,
   "id": "2ba698ec-8d61-442e-a3c3-6d54548a6e36",
   "metadata": {},
   "outputs": [
    {
     "name": "stdout",
     "output_type": "stream",
     "text": [
      "         Customer  Total Net Qty\n",
      "Quarter                         \n",
      "Q1          32749         179896\n",
      "Q2          81507         551985\n",
      "Q3          96539         700396\n",
      "Q4          95572         645347\n"
     ]
    }
   ],
   "source": [
    "filtered_df = final_df[\n",
    "    (final_df['Exists'] == 'Yes') &\n",
    "    (final_df['Product_type'] == 'PCR-RADIAL') &\n",
    "    ((final_df['Account Group'] == 'Z001') | \n",
    "     ((final_df['Account Group'] == 'Z004') & final_df['Customer Classific.'].isin(['DB', 'RD'])))\n",
    "]\n",
    "\n",
    "pivot_table = filtered_df.pivot_table(\n",
    "    index='Quarter',\n",
    "    values=['Customer', 'Total Net Qty'],\n",
    "    aggfunc={'Customer': 'count', 'Total Net Qty': 'sum'},\n",
    "    fill_value=0\n",
    ")\n",
    "\n",
    "print(pivot_table)\n",
    "\n"
   ]
  },
  {
   "cell_type": "code",
   "execution_count": null,
   "id": "700b32d3-9538-4cef-b8c9-f9fd6f1c0793",
   "metadata": {},
   "outputs": [],
   "source": []
  }
 ],
 "metadata": {
  "kernelspec": {
   "display_name": "Python 3 (ipykernel)",
   "language": "python",
   "name": "python3"
  },
  "language_info": {
   "codemirror_mode": {
    "name": "ipython",
    "version": 3
   },
   "file_extension": ".py",
   "mimetype": "text/x-python",
   "name": "python",
   "nbconvert_exporter": "python",
   "pygments_lexer": "ipython3",
   "version": "3.12.4"
  }
 },
 "nbformat": 4,
 "nbformat_minor": 5
}

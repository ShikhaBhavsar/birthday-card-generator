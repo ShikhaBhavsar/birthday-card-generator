{
 "cells": [
  {
   "cell_type": "code",
   "execution_count": 1,
   "id": "d5fbee66-bf8a-4bd6-beea-cf5a9aaf9021",
   "metadata": {},
   "outputs": [],
   "source": [
    "import pandas as pd"
   ]
  },
  {
   "cell_type": "code",
   "execution_count": 2,
   "id": "64ec4227-d06e-45c6-8ac6-12b62fa5de99",
   "metadata": {},
   "outputs": [
    {
     "name": "stderr",
     "output_type": "stream",
     "text": [
      "C:\\Users\\HP\\AppData\\Local\\Temp\\ipykernel_15816\\2065211303.py:1: DtypeWarning: Columns (11) have mixed types. Specify dtype option on import or set low_memory=False.\n",
      "  df = pd.read_csv(r\"C:\\Users\\HP\\Downloads\\data.csv\")\n"
     ]
    }
   ],
   "source": [
    "df = pd.read_csv(r\"C:\\Users\\HP\\Downloads\\data.csv\")"
   ]
  },
  {
   "cell_type": "code",
   "execution_count": 5,
   "id": "ffc4a12f-6485-42f5-9492-11408e74e692",
   "metadata": {},
   "outputs": [
    {
     "data": {
      "text/plain": [
       "Index(['FinancialYear', 'Quarter', 'Year', 'Month', 'Zone', 'Region',\n",
       "       'CustomerCode', 'Customer', 'AccountGroupKey', 'AccountGroup',\n",
       "       'CustomerClassification', 'Inches', 'Material', 'TyreCategory',\n",
       "       'Pattern', 'BillingType', 'Quantity', 'Category'],\n",
       "      dtype='object')"
      ]
     },
     "execution_count": 5,
     "metadata": {},
     "output_type": "execute_result"
    }
   ],
   "source": [
    "df.columns"
   ]
  },
  {
   "cell_type": "code",
   "execution_count": 19,
   "id": "83e9c715-0ee7-4b10-99d7-8574da80513d",
   "metadata": {},
   "outputs": [],
   "source": [
    "def determine_product_type(value_or_material):\n",
    "    # First, handle the PCR-BIAS and PCR-RADIAL conditions (from the first function)\n",
    "    if value_or_material.startswith(\"131\") or value_or_material.startswith(\"133\") or value_or_material.startswith(\"141\") or value_or_material.startswith(\"143\"):\n",
    "        return \"PCR-BIAS\"\n",
    "    elif value_or_material.startswith(\"132\") or value_or_material.startswith(\"142\") or value_or_material.startswith(\"145\"):\n",
    "        return \"PCR-RADIAL\"\n",
    "    elif value_or_material.startswith(\"121\") or value_or_material.startswith(\"123\"):\n",
    "        return \"LCV-BIAS\"\n",
    "    elif value_or_material.startswith(\"122\") or value_or_material.startswith(\"125\"):\n",
    "        return \"LCV-RADIAL\"\n",
    "    elif value_or_material.startswith(\"1D1\") or value_or_material.startswith(\"1D3\"):\n",
    "        return \"SCV-BIAS\"\n",
    "    elif value_or_material.startswith(\"1D2\") or value_or_material.startswith(\"1D5\"):\n",
    "        return \"SCV-RADIAL\"\n",
    "    elif value_or_material.startswith(\"1S\"):\n",
    "        return \"SCOOTER\"\n",
    "    elif value_or_material.startswith(\"1B\"):\n",
    "        return \"MOTORCYCLE\"\n",
    "    elif value_or_material.startswith(\"1H\"):\n",
    "        return \"3W\"\n",
    "    elif value_or_material.startswith(\"111\") or value_or_material.startswith(\"113\"):\n",
    "        return \"TRUCK-BIAS\"\n",
    "    elif value_or_material.startswith(\"112\") or value_or_material.startswith(\"115\"):\n",
    "        return \"TRUCK-RADIAL\"\n",
    "    elif value_or_material.startswith(\"1E1\") or value_or_material.startswith(\"181\"):\n",
    "        return \"OTR\"\n",
    "    elif value_or_material.startswith(\"15\") or value_or_material.startswith(\"16\") or value_or_material.startswith(\"17\") or value_or_material.startswith(\"19\"):\n",
    "        return \"FARM\"\n",
    "    else:\n",
    "        return \"NA\"\n"
   ]
  },
  {
   "cell_type": "code",
   "execution_count": 23,
   "id": "074682e6-728d-4f4d-a830-b7330fedbb30",
   "metadata": {},
   "outputs": [],
   "source": [
    "df['Product_type'] = df['Material'].apply(determine_product_type)"
   ]
  },
  {
   "cell_type": "code",
   "execution_count": 37,
   "id": "9d772c10-8524-46a0-b6c6-2fa4c717935d",
   "metadata": {},
   "outputs": [
    {
     "data": {
      "text/plain": [
       "AccountGroupKey\n",
       "Z001    5424619\n",
       "Z004     524316\n",
       "Z009      95562\n",
       "#         54120\n",
       "Z010      13843\n",
       "Z006       5946\n",
       "Z003       5907\n",
       "Z015         66\n",
       "Z007         11\n",
       "Z005          6\n",
       "Name: count, dtype: int64"
      ]
     },
     "execution_count": 37,
     "metadata": {},
     "output_type": "execute_result"
    }
   ],
   "source": [
    "df['AccountGroupKey'].value_counts()"
   ]
  },
  {
   "cell_type": "code",
   "execution_count": 196,
   "id": "526bab45-ce18-40ea-a631-80aa63ba0b8f",
   "metadata": {},
   "outputs": [],
   "source": [
    "E_df = df[\n",
    "    (df['Product_type'].isin(['PCR-RADIAL','PCR-BIAS'])) & \n",
    "    ((df['AccountGroupKey'] == 'Z001') | \n",
    "     ((df['AccountGroupKey'] == 'Z004') & df['CustomerClassification'].isin(['DB', 'RD'])))\n",
    "].copy()\n"
   ]
  },
  {
   "cell_type": "code",
   "execution_count": 198,
   "id": "9fd7e1d2-6ca6-4a1e-8e74-67a1fca62698",
   "metadata": {},
   "outputs": [],
   "source": [
    "# E_df = df[(df['Product_type'].isin(['PCR-BIAS','PCR-RADIAL'])) & (df['AccountGroupKey'].isin(['Z001','Z004']))].copy()\n",
    "# # E_df = df[(df['Product_type'] == 'PCR-RADIAL') & (df['AccountGroupKey'].isin(['Z001', 'Z004']))].copy()\n"
   ]
  },
  {
   "cell_type": "code",
   "execution_count": 200,
   "id": "58d8bcf1-a503-4fcc-b906-65f39bd19b52",
   "metadata": {},
   "outputs": [
    {
     "data": {
      "text/plain": [
       "FinancialYear\n",
       "19-20    2251175.0\n",
       "20-21    2428949.0\n",
       "21-22    2763142.0\n",
       "22-23    3223372.0\n",
       "23-24    2974509.0\n",
       "Name: Quantity, dtype: float64"
      ]
     },
     "execution_count": 200,
     "metadata": {},
     "output_type": "execute_result"
    }
   ],
   "source": [
    "Total_sales =E_df.groupby('FinancialYear')['Quantity'].sum()\n",
    "Total_sales"
   ]
  },
  {
   "cell_type": "code",
   "execution_count": 202,
   "id": "9bc557fa-48a6-4477-b207-5c3d17273f5c",
   "metadata": {},
   "outputs": [
    {
     "data": {
      "text/plain": [
       "FinancialYear\n",
       "19-20    187597.916667\n",
       "20-21    202412.416667\n",
       "21-22    230261.833333\n",
       "22-23    268614.333333\n",
       "23-24    247875.750000\n",
       "Name: Quantity, dtype: float64"
      ]
     },
     "execution_count": 202,
     "metadata": {},
     "output_type": "execute_result"
    }
   ],
   "source": [
    "APM_Offtake = Total_sales /12\n",
    "APM_Offtake"
   ]
  },
  {
   "cell_type": "code",
   "execution_count": 204,
   "id": "c8ae5f24-272b-4217-9291-e51a3072d415",
   "metadata": {},
   "outputs": [],
   "source": [
    "april_PCR = E_df[E_df['FinancialYear'] == '22-23'].copy()\n"
   ]
  },
  {
   "cell_type": "code",
   "execution_count": 205,
   "id": "9649ad5f-8ec3-4ac1-8553-08ddd328f356",
   "metadata": {},
   "outputs": [
    {
     "data": {
      "text/plain": [
       "3223372.0"
      ]
     },
     "execution_count": 205,
     "metadata": {},
     "output_type": "execute_result"
    }
   ],
   "source": [
    "april_PCR['Quantity'].sum()\n"
   ]
  },
  {
   "cell_type": "code",
   "execution_count": 208,
   "id": "b6eb4017-5fb1-4a6a-a34c-e99daf584ab5",
   "metadata": {},
   "outputs": [],
   "source": [
    "April_Month =april_PCR.groupby('Month')['Quantity'].sum()\n"
   ]
  },
  {
   "cell_type": "code",
   "execution_count": 210,
   "id": "09ba8045-3c54-4127-9c1f-c51738366d78",
   "metadata": {},
   "outputs": [
    {
     "data": {
      "text/plain": [
       "Month\n",
       "APR    241009.0\n",
       "AUG    272709.0\n",
       "DEC    288525.0\n",
       "FEB    266174.0\n",
       "JAN    251038.0\n",
       "JUL    281856.0\n",
       "JUN    274655.0\n",
       "MAR    270171.0\n",
       "MAY    259473.0\n",
       "NOV    264046.0\n",
       "OCT    251540.0\n",
       "SEP    302176.0\n",
       "Name: Quantity, dtype: float64"
      ]
     },
     "execution_count": 210,
     "metadata": {},
     "output_type": "execute_result"
    }
   ],
   "source": [
    "April_Month"
   ]
  },
  {
   "cell_type": "code",
   "execution_count": 212,
   "id": "0b806ef7-1fac-40c6-b018-550e7b182a3a",
   "metadata": {},
   "outputs": [
    {
     "data": {
      "text/plain": [
       "-2282"
      ]
     },
     "execution_count": 212,
     "metadata": {},
     "output_type": "execute_result"
    }
   ],
   "source": [
    "241009-243291"
   ]
  },
  {
   "cell_type": "code",
   "execution_count": 214,
   "id": "4d369e56-16dd-4bee-be69-34cec7599c4d",
   "metadata": {},
   "outputs": [
    {
     "data": {
      "text/plain": [
       "786661"
      ]
     },
     "execution_count": 214,
     "metadata": {},
     "output_type": "execute_result"
    }
   ],
   "source": [
    "243291+267628+275742"
   ]
  },
  {
   "cell_type": "code",
   "execution_count": null,
   "id": "4676b068-6f72-4ea5-8f71-2352c49360d6",
   "metadata": {},
   "outputs": [],
   "source": []
  }
 ],
 "metadata": {
  "kernelspec": {
   "display_name": "Python 3 (ipykernel)",
   "language": "python",
   "name": "python3"
  },
  "language_info": {
   "codemirror_mode": {
    "name": "ipython",
    "version": 3
   },
   "file_extension": ".py",
   "mimetype": "text/x-python",
   "name": "python",
   "nbconvert_exporter": "python",
   "pygments_lexer": "ipython3",
   "version": "3.12.4"
  }
 },
 "nbformat": 4,
 "nbformat_minor": 5
}

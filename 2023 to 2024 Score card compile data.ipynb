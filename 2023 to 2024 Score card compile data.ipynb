{
 "cells": [
  {
   "cell_type": "code",
   "execution_count": 3,
   "id": "9541cd5c-2a63-4a38-a91e-f51dadc88d53",
   "metadata": {},
   "outputs": [],
   "source": [
    "import pandas as pd"
   ]
  },
  {
   "cell_type": "code",
   "execution_count": 17,
   "id": "3285b21e-fe0d-4de5-83b1-e5b6e4199508",
   "metadata": {},
   "outputs": [
    {
     "name": "stdout",
     "output_type": "stream",
     "text": [
      "Sheet names: [\"Q4'2023-24 SC\", 'Point table', 'New Pivot - Regular Sales', \"Q4'24 - New Vishal's PCR Sales\", 'New Pivot- smart sales', \"Q4'24 - Smart Sales\"]\n"
     ]
    }
   ],
   "source": [
    "file_path =r\"E:\\FY compiled Scorecard\\Advantage\\Consolidated files\\23-24\\PCR Manual Scorecard Q4 FY 23-24 - without indore (1).xlsx\"\n",
    "\n",
    "excel_file = pd.ExcelFile(file_path)\n",
    "\n",
    "sheet_names = excel_file.sheet_names\n",
    "\n",
    "print(\"Sheet names:\", sheet_names)\n"
   ]
  },
  {
   "cell_type": "code",
   "execution_count": 31,
   "id": "7ac35a42-5728-4019-951e-da0d16d0d6bc",
   "metadata": {},
   "outputs": [],
   "source": [
    "df1 = pd.read_excel(r\"E:\\FY compiled Scorecard\\Advantage\\Consolidated files\\23-24\\PCR Manual Scorecard Q1 FY 23-24.xlsx\",\n",
    "                    sheet_name=\"Q1'2023-24 SC\",header=2)\n",
    "df2 = pd.read_excel(r\"E:\\FY compiled Scorecard\\Advantage\\Consolidated files\\23-24\\PCR Manual Scorecard Q2 FY 23-24 Sep 23.xlsx\",\n",
    "                   sheet_name=\"Q2'2023-24 SC\",header=2)\n",
    "df3 = pd.read_excel(r\"E:\\FY compiled Scorecard\\Advantage\\Consolidated files\\23-24\\PCR Manual Scorecard Q3 FY 23-24 (1).xlsx\",\n",
    "                   sheet_name='Q32023-24 SC',header=2)\n",
    "df4 = pd.read_excel(r\"E:\\FY compiled Scorecard\\Advantage\\Consolidated files\\23-24\\PCR Manual Scorecard Q4 FY 23-24 - Indore.xlsx\",\n",
    "                   sheet_name=\"Q4'2023-24 SC\",header=2)\n",
    "df5 = pd.read_excel(r\"E:\\FY compiled Scorecard\\Advantage\\Consolidated files\\23-24\\PCR Manual Scorecard Q4 FY 23-24 - without indore (1).xlsx\",\n",
    "                    sheet_name=\"Q4'2023-24 SC\",header=2)"
   ]
  },
  {
   "cell_type": "code",
   "execution_count": null,
   "id": "97306efd-5a22-45e7-b412-071549950f9d",
   "metadata": {},
   "outputs": [],
   "source": [
    "df4.apply(pd.Series.value_counts)\n"
   ]
  },
  {
   "cell_type": "code",
   "execution_count": 100,
   "id": "5d8ebac7-a2dc-4a53-9216-deabda967bd2",
   "metadata": {},
   "outputs": [],
   "source": [
    "df1_needtotake = df1[['SAP ID', 'Dealer type', 'Club', 'Eligible for Points as per club','Total eligible sales', 'Q1 Regular Total Points']].copy()\n",
    "df2_needtotake = df2[['SAP ID', 'Dealer type- Final', 'Club','Eligible for Points as per club','Total eligible sales', 'Q2 Regular Total Points']].copy()\n",
    "df3_needtotake = df3[['SAP ID', 'Dealer type- Final', 'Club-Dec 22 ','Eligible for Points as per club','Total eligible sales', 'Unnamed: 92']].copy()\n",
    "df4_needtotake = df4[['SAP ID', 'Dealer type- Final','Club-MARCH2023 End','Eligible for Points as per club','Total eligible sales', 'Unnamed: 92']].copy()"
   ]
  },
  {
   "cell_type": "code",
   "execution_count": 104,
   "id": "a36f485b-c780-48ec-96ba-07b9c1f73336",
   "metadata": {},
   "outputs": [],
   "source": [
    "df2_needtotake = df2_needtotake.rename(columns={'Dealer type- Final': 'Dealer type', 'Club': 'Club','Q2 Regular Total Points':'Q1 Regular Total Points'})\n",
    "df3_needtotake = df3_needtotake.rename(columns={'Dealer type- Final': 'Dealer type', 'Club-Dec 22': 'Club','Unnamed: 92':'Q1 Regular Total Points',})\n",
    "df4_needtotake = df4_needtotake.rename(columns={'Dealer type- Final': 'Dealer type', 'Club-MARCH2023 End': 'Club','Unnamed: 92':'Q1 Regular Total Points'})"
   ]
  },
  {
   "cell_type": "code",
   "execution_count": 106,
   "id": "cb13ea15-91da-4a89-8518-13bd7b509193",
   "metadata": {},
   "outputs": [],
   "source": [
    "df_combined = pd.concat([df1_needtotake, df2_needtotake, df3_needtotake, df4_needtotake], ignore_index=True)\n"
   ]
  },
  {
   "cell_type": "code",
   "execution_count": 108,
   "id": "3f74a3ba-79da-44cb-8e8f-f3ff8591a3a2",
   "metadata": {},
   "outputs": [],
   "source": [
    "df_combined.to_excel(r\"E:\\FY compiled Scorecard\\Advantage\\Consolidated files\\22-23\\PCR_compile score card FY 2022-23.xlsx\",sheet_name=\"Compile file\",index=False)"
   ]
  },
  {
   "cell_type": "code",
   "execution_count": null,
   "id": "db56607c-7462-4448-bd7e-a85a6fef5216",
   "metadata": {},
   "outputs": [],
   "source": []
  },
  {
   "cell_type": "code",
   "execution_count": null,
   "id": "ec95c570-500a-458f-92f1-04fb3244b8cb",
   "metadata": {},
   "outputs": [],
   "source": []
  }
 ],
 "metadata": {
  "kernelspec": {
   "display_name": "Python 3 (ipykernel)",
   "language": "python",
   "name": "python3"
  },
  "language_info": {
   "codemirror_mode": {
    "name": "ipython",
    "version": 3
   },
   "file_extension": ".py",
   "mimetype": "text/x-python",
   "name": "python",
   "nbconvert_exporter": "python",
   "pygments_lexer": "ipython3",
   "version": "3.12.4"
  }
 },
 "nbformat": 4,
 "nbformat_minor": 5
}

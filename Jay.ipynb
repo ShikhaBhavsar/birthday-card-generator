{
 "cells": [
  {
   "cell_type": "code",
   "execution_count": 1,
   "id": "0a410a06-374c-422a-94b8-902d9c4a8e18",
   "metadata": {},
   "outputs": [],
   "source": [
    "import pandas as pd"
   ]
  },
  {
   "cell_type": "code",
   "execution_count": 2,
   "id": "677e114a-7c1a-438a-a0bd-c5f747996e93",
   "metadata": {},
   "outputs": [],
   "source": [
    "df = pd.read_excel(r\"C:\\Users\\HP\\Downloads\\Merge data.xlsx\")"
   ]
  },
  {
   "cell_type": "code",
   "execution_count": 3,
   "id": "41ffa157-9edc-450b-b315-d8b229c87b6b",
   "metadata": {},
   "outputs": [
    {
     "data": {
      "text/plain": [
       "Index(['Rep Month', 'Billing Date', 'Month', 'Region', 'Territory', 'Zone',\n",
       "       'Customer', 'Customer_code', 'Business name', 'Account Group',\n",
       "       'Account Group.1', 'Classification', 'Dealer Applicable or Not',\n",
       "       'Billing type', 'Material', 'Inch for tyre', 'Inch fro Pivot',\n",
       "       'Tyre Type', 'Tyre Category', 'Description', 'Car Rdl', 'Jeep Rdl',\n",
       "       'total'],\n",
       "      dtype='object')"
      ]
     },
     "execution_count": 3,
     "metadata": {},
     "output_type": "execute_result"
    }
   ],
   "source": [
    "df.columns"
   ]
  },
  {
   "cell_type": "code",
   "execution_count": 4,
   "id": "39b56c94-1339-4abe-898b-42cc1731cfa0",
   "metadata": {},
   "outputs": [],
   "source": [
    "df2 = df[['Zone', 'Region', 'Customer', 'Business name', 'Account Group', 'Account Group.1', \n",
    "          'Classification', 'Inch for tyre', 'Material', 'Description', 'Billing type', \n",
    "          'total', 'Car Rdl', 'Jeep Rdl']].copy()\n"
   ]
  },
  {
   "cell_type": "code",
   "execution_count": 5,
   "id": "d6a22edf-2461-46f2-a22f-bc1afb3aefc4",
   "metadata": {},
   "outputs": [
    {
     "data": {
      "text/plain": [
       "Index(['Zone', 'Region', 'Customer', 'Business name', 'Account Group',\n",
       "       'Account Group.1', 'Classification', 'Inch for tyre', 'Material',\n",
       "       'Description', 'Billing type', 'total', 'Car Rdl', 'Jeep Rdl'],\n",
       "      dtype='object')"
      ]
     },
     "execution_count": 5,
     "metadata": {},
     "output_type": "execute_result"
    }
   ],
   "source": [
    "df2.columns"
   ]
  },
  {
   "cell_type": "code",
   "execution_count": 6,
   "id": "a1bfd77b-7a4a-4944-8b6a-955e622b250c",
   "metadata": {},
   "outputs": [
    {
     "name": "stdout",
     "output_type": "stream",
     "text": [
      "   Zone   Region  Customer_code                     Customer  \\\n",
      "0  East  KOLKATA        1103083  UNITED SALES AGEN CAL(P)LTD   \n",
      "1  East  KOLKATA        1103083  UNITED SALES AGEN CAL(P)LTD   \n",
      "2  East  KOLKATA        1103083  UNITED SALES AGEN CAL(P)LTD   \n",
      "3  East  KOLKATA        1103083  UNITED SALES AGEN CAL(P)LTD   \n",
      "4  East  KOLKATA        1103083  UNITED SALES AGEN CAL(P)LTD   \n",
      "\n",
      "  Account Group Key Account Group Customer Classification  Inches  \\\n",
      "0              Z001        Dealer                      SW      15   \n",
      "1              Z001        Dealer                      SW      13   \n",
      "2              Z001        Dealer                      SW      13   \n",
      "3              Z001        Dealer                      SW      13   \n",
      "4              Z001        Dealer                      SW      14   \n",
      "\n",
      "         Material Key                                  Material Billing type  \\\n",
      "0  1325121715100SBRT0              215/75R15 BRUTE 4X4_100_S_TT         ZBCL   \n",
      "1  1325215813079SUHL0         155/80 R13_ULTIMA HI^LIFE_79 S TL         ZBCL   \n",
      "2  1325215813079TUNE3  155/80R13 Ultima Neo 79T MSIL YL7 BSVI T         ZBCL   \n",
      "3  1325215813079TUNE3  155/80R13 Ultima Neo 79T MSIL YL7 BSVI T         ZBCL   \n",
      "4  1325216814085STMX0                165/80 R14_TAXIMAX_85 S TL         ZBCL   \n",
      "\n",
      "   Quantity  CAR RDL  Jeep RDL  \n",
      "0         1      1.0         0  \n",
      "1         1      1.0         0  \n",
      "2         1      1.0         0  \n",
      "3         1      1.0         0  \n",
      "4         1      1.0         0  \n"
     ]
    }
   ],
   "source": [
    "rename_dict = {\n",
    "    'Zone': 'Zone',\n",
    "    'Region': 'Region',\n",
    "    'Customer': 'Customer_code',\n",
    "    'Business name': 'Customer',\n",
    "    'Account Group': 'Account Group Key',\n",
    "    'Account Group.1': 'Account Group',\n",
    "    'Classification': 'Customer Classification',\n",
    "    'Inch for tyre': 'Inches',\n",
    "    'Material': 'Material Key',\n",
    "    'Description': 'Material',\n",
    "    'Billing type': 'Billing type',\n",
    "    'total': 'Quantity',\n",
    "    'Car Rdl': 'CAR RDL',\n",
    "    'Jeep Rdl': 'Jeep RDL'\n",
    "}\n",
    "df2.rename(columns=rename_dict, inplace=True)\n",
    "print(df2.head())\n"
   ]
  },
  {
   "cell_type": "code",
   "execution_count": 13,
   "id": "f640381e-36b6-4a95-906a-953b5c65cf24",
   "metadata": {
    "scrolled": true
   },
   "outputs": [
    {
     "data": {
      "text/plain": [
       "Index(['Zone', 'Region', 'Customer_code', 'Customer', 'Account Group Key',\n",
       "       'Account Group', 'Customer Classification', 'Inches', 'Material Key',\n",
       "       'Material', 'Billing type', 'Quantity', 'CAR RDL', 'Jeep RDL'],\n",
       "      dtype='object')"
      ]
     },
     "execution_count": 13,
     "metadata": {},
     "output_type": "execute_result"
    }
   ],
   "source": [
    "df2.columns"
   ]
  },
  {
   "cell_type": "code",
   "execution_count": 15,
   "id": "0f87d652-e798-4f97-b94c-ebe2e150a45a",
   "metadata": {},
   "outputs": [],
   "source": [
    "df3 = pd.read_excel(r\"C:\\Users\\HP\\Downloads\\Ref files.xlsx\")"
   ]
  },
  {
   "cell_type": "code",
   "execution_count": 17,
   "id": "e362cb8d-84a7-4bdd-9f63-f84219433255",
   "metadata": {},
   "outputs": [
    {
     "data": {
      "text/plain": [
       "Index(['Customer Classific.', 'Customer class'], dtype='object')"
      ]
     },
     "execution_count": 17,
     "metadata": {},
     "output_type": "execute_result"
    }
   ],
   "source": [
    "df3.columns"
   ]
  },
  {
   "cell_type": "code",
   "execution_count": 19,
   "id": "340bad65-bfa5-4889-8d0f-9391efc0f6d1",
   "metadata": {},
   "outputs": [],
   "source": [
    "df2 = df2.merge(df3[['Customer class', 'Customer Classific.']].rename(columns={'Customer Classific.': 'Customer Classification'}), \n",
    "                on='Customer Classification', \n",
    "                how='left')"
   ]
  },
  {
   "cell_type": "code",
   "execution_count": 21,
   "id": "6cb8dd79-c4f5-4bc5-988d-14b558b2e08c",
   "metadata": {},
   "outputs": [
    {
     "data": {
      "text/plain": [
       "Index(['Zone', 'Region', 'Customer_code', 'Customer', 'Account Group Key',\n",
       "       'Account Group', 'Customer Classification', 'Inches', 'Material Key',\n",
       "       'Material', 'Billing type', 'Quantity', 'CAR RDL', 'Jeep RDL',\n",
       "       'Customer class'],\n",
       "      dtype='object')"
      ]
     },
     "execution_count": 21,
     "metadata": {},
     "output_type": "execute_result"
    }
   ],
   "source": [
    "df2.columns"
   ]
  },
  {
   "cell_type": "code",
   "execution_count": 23,
   "id": "b1c2e7f6-8960-49ae-8909-241756463132",
   "metadata": {},
   "outputs": [],
   "source": [
    "df4 = df2[['Zone', 'Region', 'Customer_code', 'Customer', 'Account Group Key',\n",
    "       'Account Group', 'Customer Classification','Customer class', 'Inches', 'Material Key',\n",
    "       'Material', 'Billing type', 'Quantity', 'CAR RDL', 'Jeep RDL']].copy()"
   ]
  },
  {
   "cell_type": "code",
   "execution_count": 78,
   "id": "7cc2a694-941d-4c90-a544-f19fc82d6add",
   "metadata": {},
   "outputs": [
    {
     "data": {
      "text/plain": [
       "Index(['Zone', 'Region', 'Customer_code', 'Customer', 'Account Group Key',\n",
       "       'Account Group', 'Customer Classification', 'Customer class', 'Inches',\n",
       "       'Material Key', 'Material', 'Billing type', 'Quantity', 'CAR RDL',\n",
       "       'Jeep RDL', 'Product_type'],\n",
       "      dtype='object')"
      ]
     },
     "execution_count": 78,
     "metadata": {},
     "output_type": "execute_result"
    }
   ],
   "source": [
    "df4.columns"
   ]
  },
  {
   "cell_type": "code",
   "execution_count": 27,
   "id": "1eb4e02f-ca06-418e-8c53-7ffe1770d089",
   "metadata": {},
   "outputs": [
    {
     "data": {
      "text/plain": [
       "Zone                       372190\n",
       "Region                     372190\n",
       "Customer_code              372190\n",
       "Customer                   372190\n",
       "Account Group Key          372190\n",
       "Account Group              372190\n",
       "Customer Classification    360689\n",
       "Customer class                  0\n",
       "Inches                     372190\n",
       "Material Key               372190\n",
       "Material                   372190\n",
       "Billing type               372190\n",
       "Quantity                   372190\n",
       "CAR RDL                    370822\n",
       "Jeep RDL                   372190\n",
       "dtype: int64"
      ]
     },
     "execution_count": 27,
     "metadata": {},
     "output_type": "execute_result"
    }
   ],
   "source": [
    "df4.count()"
   ]
  },
  {
   "cell_type": "code",
   "execution_count": 39,
   "id": "f88b30f7-2e95-4321-bb88-b0c512b7693b",
   "metadata": {},
   "outputs": [
    {
     "data": {
      "text/plain": [
       "Customer Classification\n",
       "SW    120416\n",
       "TP     86445\n",
       "CO     84214\n",
       "XW     26078\n",
       "PD     15811\n",
       "NT      9499\n",
       "DB      8593\n",
       "TR      4416\n",
       "FW      1777\n",
       "RD       697\n",
       "IC       647\n",
       "MS       614\n",
       "HC       588\n",
       "TW       536\n",
       "TO       137\n",
       "WV       120\n",
       "CP        43\n",
       "01        21\n",
       "RN        16\n",
       "HY         6\n",
       "#          6\n",
       "EC         6\n",
       "D          2\n",
       "OT         1\n",
       "Name: count, dtype: int64"
      ]
     },
     "execution_count": 39,
     "metadata": {},
     "output_type": "execute_result"
    }
   ],
   "source": [
    "df4['Customer Classification'].value_counts()"
   ]
  },
  {
   "cell_type": "code",
   "execution_count": 31,
   "id": "4d07f6ca-d999-497a-844c-d26912079cb4",
   "metadata": {},
   "outputs": [],
   "source": [
    "def determine_product_type(value_or_material):\n",
    "    # First, handle the PCR-BIAS and PCR-RADIAL conditions (from the first function)\n",
    "    if value_or_material.startswith(\"131\") or value_or_material.startswith(\"133\") or value_or_material.startswith(\"141\") or value_or_material.startswith(\"143\"):\n",
    "        return \"PCR-BIAS\"\n",
    "    elif value_or_material.startswith(\"132\") or value_or_material.startswith(\"142\") or value_or_material.startswith(\"145\"):\n",
    "        return \"PCR-RADIAL\"\n",
    "    elif value_or_material.startswith(\"121\") or value_or_material.startswith(\"123\"):\n",
    "        return \"LCV-BIAS\"\n",
    "    elif value_or_material.startswith(\"122\") or value_or_material.startswith(\"125\"):\n",
    "        return \"LCV-RADIAL\"\n",
    "    elif value_or_material.startswith(\"1D1\") or value_or_material.startswith(\"1D3\"):\n",
    "        return \"SCV-BIAS\"\n",
    "    elif value_or_material.startswith(\"1D2\") or value_or_material.startswith(\"1D5\"):\n",
    "        return \"SCV-RADIAL\"\n",
    "    elif value_or_material.startswith(\"1S\"):\n",
    "        return \"SCOOTER\"\n",
    "    elif value_or_material.startswith(\"1B\"):\n",
    "        return \"MOTORCYCLE\"\n",
    "    elif value_or_material.startswith(\"1H\"):\n",
    "        return \"3W\"\n",
    "    elif value_or_material.startswith(\"111\") or value_or_material.startswith(\"113\"):\n",
    "        return \"TRUCK-BIAS\"\n",
    "    elif value_or_material.startswith(\"112\") or value_or_material.startswith(\"115\"):\n",
    "        return \"TRUCK-RADIAL\"\n",
    "    elif value_or_material.startswith(\"1E1\") or value_or_material.startswith(\"181\"):\n",
    "        return \"OTR\"\n",
    "    elif value_or_material.startswith(\"15\") or value_or_material.startswith(\"16\") or value_or_material.startswith(\"17\") or value_or_material.startswith(\"19\"):\n",
    "        return \"FARM\"\n",
    "    else:\n",
    "        return \"NA\"\n"
   ]
  },
  {
   "cell_type": "code",
   "execution_count": 33,
   "id": "6f44b39f-62ba-4e4e-a23e-5f8bf390db03",
   "metadata": {},
   "outputs": [],
   "source": [
    "df4['Product_type'] = df4['Material'].apply(determine_product_type)"
   ]
  },
  {
   "cell_type": "code",
   "execution_count": 82,
   "id": "0989a88a-63ea-44f7-8df6-59f577506847",
   "metadata": {},
   "outputs": [],
   "source": [
    "E_df = df4[\n",
    "    (df4['Product_type'] == 'PCR-RADIAL') & \n",
    "    ((df4['Account Group Key'] == 'Z001') | \n",
    "     ((df4['Account Group Key'] == 'Z004') & df4['Customer Classification'].isin(['DB', 'RD'])))\n",
    "].copy()"
   ]
  },
  {
   "cell_type": "code",
   "execution_count": 104,
   "id": "c6d88879-7e1a-4f50-89a2-fd4af82c6fc9",
   "metadata": {},
   "outputs": [],
   "source": [
    "ee_df = df4[(df4['Product_type'] == 'PCR-RADIAL') & (df4['Account Group Key'].isin(['Z001','Z004']))].copy()"
   ]
  },
  {
   "cell_type": "code",
   "execution_count": 108,
   "id": "e05411ca-fba8-442d-a6b7-e938e35403df",
   "metadata": {},
   "outputs": [
    {
     "data": {
      "text/plain": [
       "249511"
      ]
     },
     "execution_count": 108,
     "metadata": {},
     "output_type": "execute_result"
    }
   ],
   "source": [
    "ee_df['Quantity'].sum()"
   ]
  },
  {
   "cell_type": "code",
   "execution_count": 90,
   "id": "1ab6c70b-18dd-40d9-8154-ee463168e580",
   "metadata": {},
   "outputs": [
    {
     "data": {
      "text/plain": [
       "247032"
      ]
     },
     "execution_count": 90,
     "metadata": {},
     "output_type": "execute_result"
    }
   ],
   "source": [
    "E_df['Quantity'].sum()"
   ]
  },
  {
   "cell_type": "code",
   "execution_count": 112,
   "id": "ae261617-87f9-4268-82bf-dd7a6dede183",
   "metadata": {},
   "outputs": [
    {
     "data": {
      "text/plain": [
       "41585.166666666664"
      ]
     },
     "execution_count": 112,
     "metadata": {},
     "output_type": "execute_result"
    }
   ],
   "source": [
    "249511/6"
   ]
  },
  {
   "cell_type": "code",
   "execution_count": 97,
   "id": "c0c9a558-8901-4e86-9215-e06270bcec01",
   "metadata": {},
   "outputs": [],
   "source": [
    "df4.to_csv(r\"C:\\Users\\HP\\Downloads\\Merge-new data.csv\")"
   ]
  },
  {
   "cell_type": "code",
   "execution_count": 127,
   "id": "48b7c521-a359-4d36-83a5-39423aedf88c",
   "metadata": {},
   "outputs": [],
   "source": [
    "df5 = pd.read_csv(r\"C:\\Users\\HP\\Downloads\\Merge-new data.csv\")"
   ]
  },
  {
   "cell_type": "code",
   "execution_count": 129,
   "id": "10b2cf59-4528-4411-9c12-86c618aa5774",
   "metadata": {},
   "outputs": [
    {
     "data": {
      "text/plain": [
       "Zone                       372190\n",
       "Region                     372190\n",
       "Area                       372190\n",
       "Month                      372190\n",
       "Customer_code              372190\n",
       "Customer                   372190\n",
       "Account Group Key          372190\n",
       "Account Group              372190\n",
       "Customer Classification    360689\n",
       "Customer class             360668\n",
       "Inches                     372190\n",
       "Material Key               372190\n",
       "Material                   372190\n",
       "Pattern                    372190\n",
       "Billing type               372190\n",
       "Quantity                   372190\n",
       "CAR RDL                    370822\n",
       "Jeep RDL                   372190\n",
       "dtype: int64"
      ]
     },
     "execution_count": 129,
     "metadata": {},
     "output_type": "execute_result"
    }
   ],
   "source": [
    "df5.count()"
   ]
  },
  {
   "cell_type": "code",
   "execution_count": 137,
   "id": "9a887ed0-0e50-45ec-8728-ae6f196d61fd",
   "metadata": {},
   "outputs": [
    {
     "name": "stdout",
     "output_type": "stream",
     "text": [
      "Saved: C:\\Users\\HP\\Downloads\\new/April_Central_chunk_1.csv\n",
      "Saved: C:\\Users\\HP\\Downloads\\new/April_East_chunk_1.csv\n",
      "Saved: C:\\Users\\HP\\Downloads\\new/April_North_chunk_1.csv\n",
      "Saved: C:\\Users\\HP\\Downloads\\new/April_South - I_chunk_1.csv\n",
      "Saved: C:\\Users\\HP\\Downloads\\new/April_South - II_chunk_1.csv\n",
      "Saved: C:\\Users\\HP\\Downloads\\new/April_West_chunk_1.csv\n",
      "Saved: C:\\Users\\HP\\Downloads\\new/August_Central_chunk_1.csv\n",
      "Saved: C:\\Users\\HP\\Downloads\\new/August_East_chunk_1.csv\n",
      "Saved: C:\\Users\\HP\\Downloads\\new/August_North_chunk_1.csv\n",
      "Saved: C:\\Users\\HP\\Downloads\\new/August_South - I_chunk_1.csv\n",
      "Saved: C:\\Users\\HP\\Downloads\\new/August_South - II_chunk_1.csv\n",
      "Saved: C:\\Users\\HP\\Downloads\\new/August_West_chunk_1.csv\n",
      "Saved: C:\\Users\\HP\\Downloads\\new/July_Central_chunk_1.csv\n",
      "Saved: C:\\Users\\HP\\Downloads\\new/July_East_chunk_1.csv\n",
      "Saved: C:\\Users\\HP\\Downloads\\new/July_North_chunk_1.csv\n",
      "Saved: C:\\Users\\HP\\Downloads\\new/July_South - I_chunk_1.csv\n",
      "Saved: C:\\Users\\HP\\Downloads\\new/July_South - II_chunk_1.csv\n",
      "Saved: C:\\Users\\HP\\Downloads\\new/July_West_chunk_1.csv\n",
      "Saved: C:\\Users\\HP\\Downloads\\new/June_Central_chunk_1.csv\n",
      "Saved: C:\\Users\\HP\\Downloads\\new/June_East_chunk_1.csv\n",
      "Saved: C:\\Users\\HP\\Downloads\\new/June_North_chunk_1.csv\n",
      "Saved: C:\\Users\\HP\\Downloads\\new/June_Not assigned_chunk_1.csv\n",
      "Saved: C:\\Users\\HP\\Downloads\\new/June_South - I_chunk_1.csv\n",
      "Saved: C:\\Users\\HP\\Downloads\\new/June_South - II_chunk_1.csv\n",
      "Saved: C:\\Users\\HP\\Downloads\\new/June_West_chunk_1.csv\n",
      "Saved: C:\\Users\\HP\\Downloads\\new/May_Central_chunk_1.csv\n",
      "Saved: C:\\Users\\HP\\Downloads\\new/May_East_chunk_1.csv\n",
      "Saved: C:\\Users\\HP\\Downloads\\new/May_North_chunk_1.csv\n",
      "Saved: C:\\Users\\HP\\Downloads\\new/May_Not assigned_chunk_1.csv\n",
      "Saved: C:\\Users\\HP\\Downloads\\new/May_South - I_chunk_1.csv\n",
      "Saved: C:\\Users\\HP\\Downloads\\new/May_South - II_chunk_1.csv\n",
      "Saved: C:\\Users\\HP\\Downloads\\new/May_West_chunk_1.csv\n",
      "Saved: C:\\Users\\HP\\Downloads\\new/Sep_Central_chunk_1.csv\n",
      "Saved: C:\\Users\\HP\\Downloads\\new/Sep_East_chunk_1.csv\n",
      "Saved: C:\\Users\\HP\\Downloads\\new/Sep_North_chunk_1.csv\n",
      "Saved: C:\\Users\\HP\\Downloads\\new/Sep_Not assigned_chunk_1.csv\n",
      "Saved: C:\\Users\\HP\\Downloads\\new/Sep_South - I_chunk_1.csv\n",
      "Saved: C:\\Users\\HP\\Downloads\\new/Sep_South - II_chunk_1.csv\n",
      "Saved: C:\\Users\\HP\\Downloads\\new/Sep_West_chunk_1.csv\n"
     ]
    }
   ],
   "source": [
    "import pandas as pd\n",
    "import os\n",
    "\n",
    "# Assuming df5 is already loaded\n",
    "# Specify the output directory\n",
    "output_dir = r\"C:\\Users\\HP\\Downloads\\new\"\n",
    "os.makedirs(output_dir, exist_ok=True)  # Create the folder if it doesn't exist\n",
    "\n",
    "# Group data by the 'Month' and 'Zone' columns\n",
    "for (month, zone), group_df in df5.groupby(['Month', 'Zone']):\n",
    "    # Reset the index for each group's DataFrame\n",
    "    group_df = group_df.reset_index(drop=True)\n",
    "    \n",
    "    # Split the group's data into chunks of 30,000 rows\n",
    "    num_chunks = (len(group_df) // 30000) + 1\n",
    "    for chunk_idx in range(num_chunks):\n",
    "        chunk = group_df.iloc[chunk_idx * 30000:(chunk_idx + 1) * 30000]\n",
    "        if not chunk.empty:\n",
    "            # Define the file name with both Month and Zone\n",
    "            file_name = f\"{output_dir}/{month}_{zone}_chunk_{chunk_idx + 1}.csv\"\n",
    "            # Save the chunk to a CSV file\n",
    "            chunk.to_csv(file_name, index=False)\n",
    "            print(f\"Saved: {file_name}\")\n"
   ]
  },
  {
   "cell_type": "code",
   "execution_count": null,
   "id": "1a047d41-7c12-4205-9e64-79c6e26050cb",
   "metadata": {},
   "outputs": [],
   "source": []
  }
 ],
 "metadata": {
  "kernelspec": {
   "display_name": "Python 3 (ipykernel)",
   "language": "python",
   "name": "python3"
  },
  "language_info": {
   "codemirror_mode": {
    "name": "ipython",
    "version": 3
   },
   "file_extension": ".py",
   "mimetype": "text/x-python",
   "name": "python",
   "nbconvert_exporter": "python",
   "pygments_lexer": "ipython3",
   "version": "3.12.4"
  }
 },
 "nbformat": 4,
 "nbformat_minor": 5
}

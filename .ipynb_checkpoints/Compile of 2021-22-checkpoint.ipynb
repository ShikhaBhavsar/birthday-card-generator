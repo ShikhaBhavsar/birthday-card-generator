{
 "cells": [
  {
   "cell_type": "code",
   "execution_count": 37,
   "id": "3a7f9664-ef8e-4426-ac9e-248ad22a2450",
   "metadata": {},
   "outputs": [],
   "source": [
    "import pandas as pd\n",
    "import os\n",
    "import re"
   ]
  },
  {
   "cell_type": "code",
   "execution_count": 41,
   "id": "451f7ae6-bcf1-4e22-a389-b37a3588e5d4",
   "metadata": {},
   "outputs": [],
   "source": [
    "file_paths = [\n",
    "    r\"E:\\Sales closing Dump\\2021-22\\Daily sales original Feb22 (1).xlsx\",\n",
    "    r\"E:\\Sales closing Dump\\2021-22\\March22 Closing Dump (1).xlsx\",\n",
    "    r\"E:\\Sales closing Dump\\2021-22\\PCR Apr21 (1).xlsx\",\n",
    "    r\"E:\\Sales closing Dump\\2021-22\\PCR Aug21.xlsx\",\n",
    "    r\"E:\\Sales closing Dump\\2021-22\\PCR Dec21.xlsx\",\n",
    "    r\"E:\\Sales closing Dump\\2021-22\\PCR Jan22 (1).xlsx\",\n",
    "    r\"E:\\Sales closing Dump\\2021-22\\PCR Jul21.xlsx\",\n",
    "    r\"E:\\Sales closing Dump\\2021-22\\PCR Jun21 (1).xlsx\",\n",
    "    r\"E:\\Sales closing Dump\\2021-22\\PCR May21 (1).xlsx\",\n",
    "    r\"E:\\Sales closing Dump\\2021-22\\PCR Nov21 (1).xlsx\",\n",
    "    r\"E:\\Sales closing Dump\\2021-22\\PCR Oct21 (1).xlsx\",\n",
    "    r\"E:\\Sales closing Dump\\2021-22\\PCR Sep21 (1).xlsx\"\n",
    "]"
   ]
  },
  {
   "cell_type": "code",
   "execution_count": 43,
   "id": "ea348fa6-96c6-44b3-9773-a01375caae1f",
   "metadata": {},
   "outputs": [],
   "source": [
    "# The rest of the code remains unchanged\n",
    "compiled_data = pd.DataFrame()\n",
    "\n",
    "for file_path in file_paths:\n",
    "    data = pd.read_excel(file_path)\n",
    "    compiled_data = pd.concat([compiled_data, data], ignore_index=True)\n"
   ]
  },
  {
   "cell_type": "code",
   "execution_count": 49,
   "id": "cea5f0d6-0ded-41b8-80e2-1ebd5dee9de0",
   "metadata": {},
   "outputs": [
    {
     "data": {
      "text/plain": [
       "Index(['Month', 'Zone', 'Region', 'Area', 'Account Group', 'Account Group.1',\n",
       "       'Bill Type', 'Classification', 'Classification.1', 'Customer',\n",
       "       'Customer.1', 'Inches', 'Material', 'Material.1', 'Pattern', 'Total',\n",
       "       'Table', 'Unnamed: 1', 'Unnamed: 2', 'Unnamed: 3', 'Unnamed: 4',\n",
       "       'Unnamed: 5', 'Unnamed: 6', 'Unnamed: 7', 'Unnamed: 8', 'Unnamed: 9',\n",
       "       'Unnamed: 10', 'Unnamed: 11', 'Unnamed: 12', 'Unnamed: 13',\n",
       "       'Unnamed: 14', 'Unnamed: 15'],\n",
       "      dtype='object')"
      ]
     },
     "execution_count": 49,
     "metadata": {},
     "output_type": "execute_result"
    }
   ],
   "source": [
    "compiled_data.columns"
   ]
  },
  {
   "cell_type": "code",
   "execution_count": 45,
   "id": "eb5464ce-5720-4025-b450-c7492ac6a270",
   "metadata": {},
   "outputs": [],
   "source": [
    "def determine_product_type(material):\n",
    "    if material.startswith(\"13\") or material.startswith(\"14\"):\n",
    "        return \"PCR\"\n",
    "    elif material.startswith(\"121\") or material.startswith(\"123\"):\n",
    "        return \"LCV-BIAS\"\n",
    "    elif material.startswith(\"122\") or material.startswith(\"125\"):\n",
    "        return \"LCV-RADIAL\"\n",
    "    elif material.startswith(\"1D1\") or material.startswith(\"1D3\"):\n",
    "        return \"SCV-BIAS\"\n",
    "    elif material.startswith(\"1D2\") or material.startswith(\"1D5\"):\n",
    "        return \"SCV-RADIAL\"\n",
    "    elif material.startswith(\"1S\"):\n",
    "        return \"SCOOTER\"\n",
    "    elif material.startswith(\"1B\"):\n",
    "        return \"MOTORCYCLE\"\n",
    "    elif material.startswith(\"1H\"):\n",
    "        return \"3W\"\n",
    "    elif material.startswith(\"111\") or material.startswith(\"113\"):\n",
    "        return \"TRUCK-BIAS\"\n",
    "    elif material.startswith(\"112\") or material.startswith(\"115\"):\n",
    "        return \"TRUCK-RADIAL\"\n",
    "    elif material.startswith(\"1E1\") or material.startswith(\"181\"):\n",
    "        return \"OTR\"\n",
    "    elif material.startswith(\"15\") or material.startswith(\"16\") or material.startswith(\"17\") or material.startswith(\"19\"):\n",
    "        return \"FARM\"\n",
    "    else:\n",
    "        return \"NA\"\n",
    "\n"
   ]
  },
  {
   "cell_type": "code",
   "execution_count": 47,
   "id": "05fde61d-068f-4b90-8b36-493a8ee107f4",
   "metadata": {},
   "outputs": [
    {
     "ename": "NameError",
     "evalue": "name 'df' is not defined",
     "output_type": "error",
     "traceback": [
      "\u001b[1;31m---------------------------------------------------------------------------\u001b[0m",
      "\u001b[1;31mNameError\u001b[0m                                 Traceback (most recent call last)",
      "Cell \u001b[1;32mIn[47], line 1\u001b[0m\n\u001b[1;32m----> 1\u001b[0m df[\u001b[38;5;124m'\u001b[39m\u001b[38;5;124mProduct_type\u001b[39m\u001b[38;5;124m'\u001b[39m] \u001b[38;5;241m=\u001b[39m df[\u001b[38;5;124m'\u001b[39m\u001b[38;5;124mMaterial\u001b[39m\u001b[38;5;124m'\u001b[39m]\u001b[38;5;241m.\u001b[39mapply(determine_product_type)\n",
      "\u001b[1;31mNameError\u001b[0m: name 'df' is not defined"
     ]
    }
   ],
   "source": [
    "df['Product_type'] = df['Material'].apply(determine_product_type)"
   ]
  },
  {
   "cell_type": "code",
   "execution_count": null,
   "id": "8eac332e-c272-4e2a-adae-8773baf82407",
   "metadata": {},
   "outputs": [],
   "source": []
  }
 ],
 "metadata": {
  "kernelspec": {
   "display_name": "Python 3 (ipykernel)",
   "language": "python",
   "name": "python3"
  },
  "language_info": {
   "codemirror_mode": {
    "name": "ipython",
    "version": 3
   },
   "file_extension": ".py",
   "mimetype": "text/x-python",
   "name": "python",
   "nbconvert_exporter": "python",
   "pygments_lexer": "ipython3",
   "version": "3.12.4"
  }
 },
 "nbformat": 4,
 "nbformat_minor": 5
}

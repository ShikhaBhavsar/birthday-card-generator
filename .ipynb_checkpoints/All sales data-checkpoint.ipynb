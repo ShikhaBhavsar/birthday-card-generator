{
 "cells": [
  {
   "cell_type": "code",
   "execution_count": 1,
   "id": "1951ef8c-b7a3-4d36-bf4d-7ec6f00f6842",
   "metadata": {},
   "outputs": [],
   "source": [
    "import pandas as pd\n"
   ]
  },
  {
   "cell_type": "code",
   "execution_count": 2,
   "id": "861e6b55-1747-449b-a211-9275477d5ffb",
   "metadata": {},
   "outputs": [
    {
     "name": "stderr",
     "output_type": "stream",
     "text": [
      "C:\\Users\\HP\\AppData\\Local\\Temp\\ipykernel_7828\\4151337634.py:1: DtypeWarning: Columns (11) have mixed types. Specify dtype option on import or set low_memory=False.\n",
      "  df6 = pd.read_csv(r\"C:\\Users\\HP\\Downloads\\data.csv\")\n"
     ]
    }
   ],
   "source": [
    "df6 = pd.read_csv(r\"C:\\Users\\HP\\Downloads\\data.csv\")"
   ]
  },
  {
   "cell_type": "code",
   "execution_count": 3,
   "id": "942a0cc2-a5ad-4b6e-a399-78399f01fd27",
   "metadata": {},
   "outputs": [],
   "source": [
    "def determine_product_type(value):\n",
    "    if value.startswith(\"131\") or value.startswith(\"133\") or value.startswith(\"141\") or value.startswith(\"143\"):\n",
    "        return \"PCR-BIAS\"\n",
    "    elif value.startswith(\"132\") or value.startswith(\"142\") or value.startswith(\"145\"):\n",
    "        return \"PCR-RADIAL\"\n",
    "    else:\n",
    "        return \"NA\"\n",
    "df6['Product_Type'] = df6['Material'].apply(determine_product_type)\n",
    "\n"
   ]
  },
  {
   "cell_type": "code",
   "execution_count": 17,
   "id": "5ef6ffc1-6097-47ae-9ee4-62c305951253",
   "metadata": {},
   "outputs": [
    {
     "data": {
      "text/plain": [
       "Index(['FinancialYear', 'Quarter', 'Year', 'Month', 'Zone', 'Region',\n",
       "       'CustomerCode', 'Customer', 'AccountGroupKey', 'AccountGroup',\n",
       "       'CustomerClassification', 'Inches', 'Material', 'TyreCategory',\n",
       "       'Pattern', 'BillingType', 'Quantity', 'Category', 'Product_Type'],\n",
       "      dtype='object')"
      ]
     },
     "execution_count": 17,
     "metadata": {},
     "output_type": "execute_result"
    }
   ],
   "source": [
    "df6.columns"
   ]
  },
  {
   "cell_type": "code",
   "execution_count": 6,
   "id": "90847ef8-fea1-445e-a3ab-228e6de9dc54",
   "metadata": {},
   "outputs": [
    {
     "name": "stdout",
     "output_type": "stream",
     "text": [
      "              CustomerCode   Quantity\n",
      "Quarter Year                         \n",
      "Q1      2019        394442   984481.0\n",
      "        2020        183254  1711153.0\n",
      "        2021        275248  2532481.0\n",
      "        2022        384299  3089499.0\n",
      "        2023        392736  3010597.0\n",
      "Q2      2019        280590  1506243.0\n",
      "        2020        326298  3145011.0\n",
      "        2021        122965   864443.0\n",
      "        2022        397934  3278102.0\n",
      "        2023        374621  3093801.0\n",
      "Q3      2019        286376  2837972.0\n",
      "        2020        345754  3357723.0\n",
      "        2021        122844   835421.0\n",
      "        2022        381257  3007339.0\n",
      "        2023        352433  2842142.0\n",
      "Q4      2020        206782  1457751.0\n",
      "        2021        343587  3173469.0\n",
      "        2022        264695  2124124.0\n",
      "        2023        364990  2875212.0\n",
      "        2024        323291  2196871.0\n"
     ]
    }
   ],
   "source": [
    "filtered_df = df6[\n",
    "    (df6['Product_Type'] == 'PCR-RADIAL') &\n",
    "    ((df6['AccountGroupKey'] == 'Z001') | \n",
    "     ((df6['AccountGroupKey'] == 'Z004') & df6['CustomerClassification'].isin(['DB', 'RD','DISTRIBUTOR','Rural Distribution'])))]\n",
    "\n",
    "pivot_table = df6.pivot_table(\n",
    "    index=['Quarter','Year'],\n",
    "    values=['CustomerCode', 'Quantity'],\n",
    "    aggfunc={'CustomerCode': 'count', 'Quantity': 'sum'},\n",
    "    fill_value=0\n",
    ")\n",
    "\n",
    "print(pivot_table)\n"
   ]
  },
  {
   "cell_type": "code",
   "execution_count": 7,
   "id": "ffbd8a03-42ed-4cff-a96f-3869619c83e9",
   "metadata": {},
   "outputs": [
    {
     "name": "stdout",
     "output_type": "stream",
     "text": [
      "               CustomerCode    Quantity\n",
      "FinancialYear                          \n",
      "19-20               1168190   6786447.0\n",
      "20-21               1198893  11387356.0\n",
      "21-22                785752   6356469.0\n",
      "22-23               1528480  12250152.0\n",
      "23-24               1443081  11143411.0\n"
     ]
    }
   ],
   "source": [
    "filtered_df = df6[\n",
    "    (df6['Product_Type'] == 'PCR-RADIAL') &\n",
    "    ((df6['AccountGroupKey'] == 'Z001') | \n",
    "     ((df6['AccountGroupKey'] == 'Z004') & df6['CustomerClassification'].isin(['DB', 'RD','DISTRIBUTOR','Rural Distribution'])))]\n",
    "\n",
    "pivot_table = df6.pivot_table(\n",
    "    index=['FinancialYear'],\n",
    "    values=['CustomerCode', 'Quantity'],\n",
    "    aggfunc={'CustomerCode': 'count', 'Quantity': 'sum'},\n",
    "    fill_value=0\n",
    ")\n",
    "\n",
    "print(pivot_table)\n"
   ]
  },
  {
   "cell_type": "code",
   "execution_count": 31,
   "id": "3f576dcd-3afe-41bc-951c-81b2c76a25ab",
   "metadata": {},
   "outputs": [
    {
     "data": {
      "text/plain": [
       "AccountGroupKey\n",
       "Z001    5424619\n",
       "Z004     524316\n",
       "Z009      95562\n",
       "#         54120\n",
       "Z010      13843\n",
       "Z006       5946\n",
       "Z003       5907\n",
       "Z015         66\n",
       "Z007         11\n",
       "Z005          6\n",
       "Name: count, dtype: int64"
      ]
     },
     "execution_count": 31,
     "metadata": {},
     "output_type": "execute_result"
    }
   ],
   "source": [
    "df6['AccountGroupKey'].value_counts()"
   ]
  },
  {
   "cell_type": "code",
   "execution_count": 43,
   "id": "be278e4c-8e01-46fd-b5c2-84ac7db5b9ee",
   "metadata": {},
   "outputs": [
    {
     "name": "stdout",
     "output_type": "stream",
     "text": [
      "                Quantity\n",
      "Product_Type            \n",
      "NA            33815833.0\n",
      "PCR-BIAS        110615.0\n",
      "PCR-RADIAL    13997387.0\n"
     ]
    }
   ],
   "source": [
    "\n",
    "pivot_table_2= df6.pivot_table(\n",
    "    index=['Product_Type'],\n",
    "    values=['Quantity'],\n",
    "    aggfunc={'Quantity': 'sum'},\n",
    "    fill_value=0\n",
    ")\n",
    "\n",
    "print(pivot_table_2)\n"
   ]
  },
  {
   "cell_type": "code",
   "execution_count": 47,
   "id": "bb292fb6-fb81-44b7-83d1-38dd2dda286b",
   "metadata": {},
   "outputs": [
    {
     "name": "stdout",
     "output_type": "stream",
     "text": [
      "               CustomerCode   Quantity\n",
      "FinancialYear                         \n",
      "19-20                381240  2226201.0\n",
      "20-21                343034  2404746.0\n",
      "21-22                427135  2754837.0\n",
      "22-23                493572  3201390.0\n",
      "23-24                420097  2951331.0\n"
     ]
    }
   ],
   "source": [
    "filtered_df = df6[\n",
    "    (df6['Product_Type'] == 'PCR-RADIAL') &\n",
    "    ((df6['AccountGroupKey'] == 'Z001') | \n",
    "     ((df6['AccountGroupKey'] == 'Z004') & df6['CustomerClassification'].isin(['DB', 'RD','DISTRIBUTOR','Rural Distribution'])))]\n",
    "\n",
    "pivot_table = filtered_df.pivot_table(\n",
    "    index=['FinancialYear'],\n",
    "    values=['CustomerCode', 'Quantity'],\n",
    "    aggfunc={'CustomerCode': 'count', 'Quantity': 'sum'},\n",
    "    fill_value=0\n",
    ")\n",
    "\n",
    "print(pivot_table)"
   ]
  },
  {
   "cell_type": "code",
   "execution_count": null,
   "id": "b457d7c4-89b6-4b31-a873-9fa4f2308d44",
   "metadata": {},
   "outputs": [],
   "source": [
    "filter =df6[\n",
    "    (df6['Product_Type'] == 'PCR-RADIAL')&\n",
    "    (df6['AccountGroupKey'].isin('Z001','Z004')]\n",
    "\n",
    "pivot_table_2= filter.pivot_table(\n",
    "    index=['Product_Type'],\n",
    "    values=['Quantity'],\n",
    "    aggfunc={'Quantity': 'sum'},\n",
    "    fill_value=0\n",
    ")\n",
    "\n",
    "print(pivot_table_2)\n"
   ]
  }
 ],
 "metadata": {
  "kernelspec": {
   "display_name": "Python 3 (ipykernel)",
   "language": "python",
   "name": "python3"
  },
  "language_info": {
   "codemirror_mode": {
    "name": "ipython",
    "version": 3
   },
   "file_extension": ".py",
   "mimetype": "text/x-python",
   "name": "python",
   "nbconvert_exporter": "python",
   "pygments_lexer": "ipython3",
   "version": "3.12.4"
  }
 },
 "nbformat": 4,
 "nbformat_minor": 5
}

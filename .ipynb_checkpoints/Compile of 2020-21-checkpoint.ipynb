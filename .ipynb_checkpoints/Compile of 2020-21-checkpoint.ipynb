{
 "cells": [
  {
   "cell_type": "code",
   "execution_count": 3,
   "id": "b0603fbe-de84-4ea5-a65e-1ab5ed9c3468",
   "metadata": {},
   "outputs": [],
   "source": [
    "import pandas as pd\n",
    "import os\n",
    "import re"
   ]
  },
  {
   "cell_type": "code",
   "execution_count": 7,
   "id": "72986bc7-0512-45b1-a8db-846e1005f8d7",
   "metadata": {},
   "outputs": [],
   "source": [
    "file_paths = [\n",
    "    r\"E:\\Sales closing Dump\\Sept'20 Final Combine (1).xlsx\",\n",
    "    r\"E:\\Sales closing Dump\\April Final 2020 .xlsx\",\n",
    "    r\"E:\\Sales closing Dump\\Aug 2020 Final Combine (2).xlsx\",\n",
    "    r\"E:\\Sales closing Dump\\Dec'20 Final Combine.xlsx\",\n",
    "    r\"E:\\Sales closing Dump\\Feb'21 Final Combine.xlsx\",\n",
    "    r\"E:\\Sales closing Dump\\Jan'21 Final Combine.xlsx\",\n",
    "    r\"E:\\Sales closing Dump\\July'20 FInal Combine (1).xlsx\",\n",
    "    r\"E:\\Sales closing Dump\\June'20 Final Combine.xlsx\",\n",
    "    r\"E:\\Sales closing Dump\\March'21 Final combine.xlsx\",\n",
    "    r\"E:\\Sales closing Dump\\May'20 Final Combine.xlsx\",\n",
    "    r\"E:\\Sales closing Dump\\Nov'20 Final Combine.xlsx\",\n",
    "    r\"E:\\Sales closing Dump\\Oct'20 final combine.xlsx\"]"
   ]
  },
  {
   "cell_type": "code",
   "execution_count": 9,
   "id": "99b23fc1-a02b-4ad5-acc7-205fde2dde30",
   "metadata": {},
   "outputs": [],
   "source": [
    "def extract_month(file_path):\n",
    "    # Extract the file name without path\n",
    "    file_name = os.path.basename(file_path)\n",
    "    # Regex to extract the month part of the file name\n",
    "    match = re.search(r\"(Jan|Feb|Mar|Apr|May|Jun|Jul|Aug|Sep|Oct|Nov|Dec)[\\w']*\\s*\\d{2,4}\", file_name)\n",
    "    return match.group(0) if match else None"
   ]
  },
  {
   "cell_type": "code",
   "execution_count": 11,
   "id": "7df4d315-2d8b-491f-848f-7c222f4c4ee0",
   "metadata": {},
   "outputs": [],
   "source": [
    "dataframes = []\n",
    "\n",
    "for file in file_paths:\n",
    "    # Read the Excel file\n",
    "    df = pd.read_excel(file)\n",
    "    # Extract the month and add it as a new column\n",
    "    df['Month'] = extract_month(file)\n",
    "    # Append the dataframe to the list\n",
    "    dataframes.append(df)\n"
   ]
  },
  {
   "cell_type": "code",
   "execution_count": 12,
   "id": "97f7c20a-c758-4a19-8366-a3bbce73e5eb",
   "metadata": {},
   "outputs": [],
   "source": [
    "final_df = pd.concat(dataframes, ignore_index=True)\n"
   ]
  },
  {
   "cell_type": "code",
   "execution_count": null,
   "id": "c06cfff3-a601-412a-83c3-932e42265f4f",
   "metadata": {},
   "outputs": [],
   "source": []
  }
 ],
 "metadata": {
  "kernelspec": {
   "display_name": "Python 3 (ipykernel)",
   "language": "python",
   "name": "python3"
  },
  "language_info": {
   "codemirror_mode": {
    "name": "ipython",
    "version": 3
   },
   "file_extension": ".py",
   "mimetype": "text/x-python",
   "name": "python",
   "nbconvert_exporter": "python",
   "pygments_lexer": "ipython3",
   "version": "3.12.4"
  }
 },
 "nbformat": 4,
 "nbformat_minor": 5
}

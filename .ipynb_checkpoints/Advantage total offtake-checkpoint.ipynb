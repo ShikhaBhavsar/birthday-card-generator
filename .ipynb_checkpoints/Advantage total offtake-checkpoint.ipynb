{
 "cells": [
  {
   "cell_type": "code",
   "execution_count": 3,
   "id": "414d4531-544c-4f00-9631-911cc8e3cbc0",
   "metadata": {},
   "outputs": [],
   "source": [
    "import pandas as pd\n"
   ]
  },
  {
   "cell_type": "code",
   "execution_count": 7,
   "id": "852f7a86-f641-4ff1-814a-5156381cdece",
   "metadata": {},
   "outputs": [
    {
     "name": "stderr",
     "output_type": "stream",
     "text": [
      "C:\\Users\\HP\\AppData\\Local\\Temp\\ipykernel_5248\\3516768435.py:3: DtypeWarning: Columns (10) have mixed types. Specify dtype option on import or set low_memory=False.\n",
      "  df3 = pd.read_csv(r\"C:\\Users\\HP\\Downloads\\fy_2021-22.csv\")\n",
      "C:\\Users\\HP\\AppData\\Local\\Temp\\ipykernel_5248\\3516768435.py:5: DtypeWarning: Columns (10) have mixed types. Specify dtype option on import or set low_memory=False.\n",
      "  df5 = pd.read_csv(r\"C:\\Users\\HP\\Downloads\\fy_2023-24.csv\")\n"
     ]
    }
   ],
   "source": [
    "df1 = pd.read_csv(r\"C:\\Users\\HP\\Downloads\\fy_2019-20.csv\")\n",
    "df2 = pd.read_csv(r\"C:\\Users\\HP\\Downloads\\fy_2020-21.csv\")\n",
    "df3 = pd.read_csv(r\"C:\\Users\\HP\\Downloads\\fy_2021-22.csv\")\n",
    "df4 = pd.read_csv(r\"C:\\Users\\HP\\Downloads\\fy_2022-23.csv\")\n",
    "df5 = pd.read_csv(r\"C:\\Users\\HP\\Downloads\\fy_2023-24.csv\")"
   ]
  },
  {
   "cell_type": "code",
   "execution_count": 17,
   "id": "5c1d4618-4e12-4464-acf2-e2af0cc8f88c",
   "metadata": {},
   "outputs": [
    {
     "data": {
      "text/plain": [
       "Index(['Quarter', 'Year', 'Month', 'Zone', 'Region', 'CustomerCode',\n",
       "       'Customer', 'AccountGroupKey', 'AccountGroup', 'CustomerClassification',\n",
       "       'Inches', 'Material', 'TyreCategory', 'Pattern', 'BillingType',\n",
       "       'Quantity', 'Category'],\n",
       "      dtype='object')"
      ]
     },
     "execution_count": 17,
     "metadata": {},
     "output_type": "execute_result"
    }
   ],
   "source": [
    "df5.columns"
   ]
  },
  {
   "cell_type": "code",
   "execution_count": 57,
   "id": "841be6a7-6674-4dc7-9144-a6771645f5c5",
   "metadata": {},
   "outputs": [],
   "source": [
    "df1['Source'] = 'df1'\n",
    "df1['FiscalYear'] = 'fy_2019-20'\n",
    "\n",
    "df2['Source'] = 'df2'\n",
    "df2['FiscalYear'] = 'fy_2020-21'\n",
    "\n",
    "df3['Source'] = 'df3'\n",
    "df3['FiscalYear'] = 'fy_2021-22'\n",
    "\n",
    "df4['Source'] = 'df4'\n",
    "df4['FiscalYear'] = 'fy_2022-23'\n",
    "\n",
    "df5['Source'] = 'df5'\n",
    "df5['FiscalYear'] = 'fy_2023-24'\n",
    "\n",
    "combined_df = pd.concat([df1, df2, df3, df4, df5], ignore_index=True)\n",
    "\n"
   ]
  },
  {
   "cell_type": "code",
   "execution_count": 59,
   "id": "046f820f-15c8-4646-901d-3e9acd0f5e62",
   "metadata": {},
   "outputs": [
    {
     "data": {
      "text/plain": [
       "Index(['Quarter', 'Year', 'Month', 'Zone', 'Region', 'CustomerCode',\n",
       "       'Customer', 'AccountGroupKey', 'AccountGroup', 'CustomerClassification',\n",
       "       'Inches', 'Material', 'TyreCategory', 'Pattern', 'BillingType',\n",
       "       'Quantity', 'Category', 'Source', 'FiscalYear'],\n",
       "      dtype='object')"
      ]
     },
     "execution_count": 59,
     "metadata": {},
     "output_type": "execute_result"
    }
   ],
   "source": [
    "combined_df.columns"
   ]
  },
  {
   "cell_type": "code",
   "execution_count": 67,
   "id": "138db103-66cd-4fdf-be23-c5255b58e5ee",
   "metadata": {},
   "outputs": [],
   "source": [
    "filtered_df = combined_df[combined_df['BillingType'].isin(['ZOR', 'YOR', 'YPLT', 'YRDR', 'ZPLT', 'ZRDR'])]\n",
    "\n",
    "\n",
    "pivot = pd.pivot_table(combined_df,values='Quantity',\n",
    "                       index=['FiscalYear', 'TyreCategory', 'BillingType','AccountGroupKey','AccountGroup','Category'],\n",
    "                       aggfunc='sum')"
   ]
  },
  {
   "cell_type": "code",
   "execution_count": 111,
   "id": "a4c04866-99a4-4873-8745-4e00c69bf47c",
   "metadata": {},
   "outputs": [
    {
     "name": "stdout",
     "output_type": "stream",
     "text": [
      "                                                                                                            Quantity\n",
      "FinancialYear TyreCategory   BillingType AccountGroupKey AccountGroup      Category CustomerClassification          \n",
      "19-20         2-3W           YOR         Z001            Dealer            #        CO                       11417.0\n",
      "                                                                                    EC                         165.0\n",
      "                                                                                    EN                          15.0\n",
      "                                                                                    FW                         286.0\n",
      "                                                                                    HC                         338.0\n",
      "...                                                                                                              ...\n",
      "23-24         PUNCTURE-GUARD ZOR         Z009            Fleet A/C         CAR RDL  FM                          41.0\n",
      "                                                                                    MB                           2.0\n",
      "                                                                                    TR                           6.0\n",
      "                                         Z010            One-time customer CAR RDL  #                           28.0\n",
      "                             ZPLT        Z001            Dealer            CAR RDL  SW                         500.0\n",
      "\n",
      "[5983 rows x 1 columns]\n"
     ]
    }
   ],
   "source": [
    "print(pivot)\n"
   ]
  },
  {
   "cell_type": "code",
   "execution_count": 69,
   "id": "8817f898-c9a8-4974-9ff8-ce122ea0b50e",
   "metadata": {},
   "outputs": [],
   "source": [
    "pivot.to_csv(r\"C:\\Users\\HP\\Downloads\\compile value.csv\")"
   ]
  },
  {
   "cell_type": "code",
   "execution_count": 70,
   "id": "da71a0fd-d22b-4542-9cee-67c6ac06adcd",
   "metadata": {},
   "outputs": [
    {
     "data": {
      "text/plain": [
       "Year\n",
       "2019    961408\n",
       "2020    206782\n",
       "Name: count, dtype: int64"
      ]
     },
     "execution_count": 70,
     "metadata": {},
     "output_type": "execute_result"
    }
   ],
   "source": [
    "df1['Year'].value_counts()"
   ]
  },
  {
   "cell_type": "code",
   "execution_count": 71,
   "id": "c4ce59f0-71a4-4191-af07-5a4d0159bab6",
   "metadata": {},
   "outputs": [
    {
     "data": {
      "text/plain": [
       "FiscalYear\n",
       "fy_2022-23    1528480\n",
       "fy_2023-24    1443081\n",
       "fy_2020-21    1198893\n",
       "fy_2019-20    1168190\n",
       "fy_2021-22     785752\n",
       "Name: count, dtype: int64"
      ]
     },
     "execution_count": 71,
     "metadata": {},
     "output_type": "execute_result"
    }
   ],
   "source": [
    "combined_df['FiscalYear'].value_counts()"
   ]
  },
  {
   "cell_type": "code",
   "execution_count": 77,
   "id": "8e3bad58-5970-4950-a163-f02cbfa85dc9",
   "metadata": {},
   "outputs": [
    {
     "name": "stderr",
     "output_type": "stream",
     "text": [
      "C:\\Users\\HP\\AppData\\Local\\Temp\\ipykernel_5248\\4151337634.py:1: DtypeWarning: Columns (11) have mixed types. Specify dtype option on import or set low_memory=False.\n",
      "  df6 = pd.read_csv(r\"C:\\Users\\HP\\Downloads\\data.csv\")\n"
     ]
    }
   ],
   "source": [
    "df6 = pd.read_csv(r\"C:\\Users\\HP\\Downloads\\data.csv\")"
   ]
  },
  {
   "cell_type": "code",
   "execution_count": 145,
   "id": "30a5de98-031a-419a-af3b-9f7044b150a4",
   "metadata": {},
   "outputs": [],
   "source": [
    "def determine_product_type(value):\n",
    "    if value.startswith(\"131\") or value.startswith(\"133\") or value.startswith(\"141\") or value.startswith(\"143\"):\n",
    "        return \"PCR-BIAS\"\n",
    "    elif value.startswith(\"132\") or value.startswith(\"142\") or value.startswith(\"145\"):\n",
    "        return \"PCR-RADIAL\"\n",
    "    else:\n",
    "        return \"NA\"\n",
    "df6['Product_Type'] = df6['Material'].apply(determine_product_type)\n",
    "\n"
   ]
  },
  {
   "cell_type": "code",
   "execution_count": 147,
   "id": "bdff98b0-685d-4d49-90d4-9e2d67b65046",
   "metadata": {},
   "outputs": [
    {
     "data": {
      "text/plain": [
       "Index(['FinancialYear', 'Quarter', 'Year', 'Month', 'Zone', 'Region',\n",
       "       'CustomerCode', 'Customer', 'AccountGroupKey', 'AccountGroup',\n",
       "       'CustomerClassification', 'Inches', 'Material', 'TyreCategory',\n",
       "       'Pattern', 'BillingType', 'Quantity', 'Category', 'Product_Type'],\n",
       "      dtype='object')"
      ]
     },
     "execution_count": 147,
     "metadata": {},
     "output_type": "execute_result"
    }
   ],
   "source": [
    "df6.columns"
   ]
  },
  {
   "cell_type": "code",
   "execution_count": 149,
   "id": "33e54fca-88cc-425c-9886-527a0595dd63",
   "metadata": {},
   "outputs": [],
   "source": [
    "filtered_df = df6[\n",
    "    (df6['Quantity'] > 0) &\n",
    "    (df6['AccountGroupKey'].isin(['#','Z001','Z004']))]"
   ]
  },
  {
   "cell_type": "code",
   "execution_count": 219,
   "id": "1ac7ed82-8d27-4203-805e-0fcb94585c31",
   "metadata": {},
   "outputs": [
    {
     "data": {
      "text/plain": [
       "BillingType\n",
       "ZOR                    3524288\n",
       "YOR                    1495612\n",
       "Claim Award Billing     464448\n",
       "ZVCR                    210862\n",
       "YBCL                    202203\n",
       "ZBCL                     92213\n",
       "FOC Claim Invoice        32996\n",
       "YPLT                     25153\n",
       "ZRDR                     14342\n",
       "ZPLT                     12571\n",
       "ZFCL                      8880\n",
       "S1                        8708\n",
       "ZBHU                      5590\n",
       "YRDR                      5368\n",
       "ZCC                       5277\n",
       "YFCL                      5120\n",
       "S2                        3610\n",
       "Govt Billing              3255\n",
       "FOC ND/DIT                1265\n",
       "YCC                        534\n",
       "Scrap Inv - Depot          490\n",
       "ZCCR                       396\n",
       "ZGOV                       342\n",
       "ZEXP                       175\n",
       "YBHU                       167\n",
       "ZBFO                       152\n",
       "Export Invoice              77\n",
       "ND/DIT/Old Item Inv         69\n",
       "YBFO                        60\n",
       "ZTRL                        51\n",
       "YEXP                        27\n",
       "YCCR                        27\n",
       "Plant Returns               23\n",
       "ZSCD                        15\n",
       "ZVDR                        12\n",
       "ZSRT                         5\n",
       "FOC Invoice                  4\n",
       "ZOJ                          4\n",
       "ZROP                         3\n",
       "ZFOC                         1\n",
       "ZOCT                         1\n",
       "Name: count, dtype: int64"
      ]
     },
     "execution_count": 219,
     "metadata": {},
     "output_type": "execute_result"
    }
   ],
   "source": [
    "df6['BillingType'].value_counts()"
   ]
  },
  {
   "cell_type": "code",
   "execution_count": 153,
   "id": "f32e15c2-d033-41bb-9d3d-aac250c70139",
   "metadata": {},
   "outputs": [],
   "source": [
    "pivot = pd.pivot_table(\n",
    "    filtered_df,\n",
    "    values=['Quantity', 'CustomerCode'],\n",
    "    index=['FinancialYear', 'Product_Type', 'TyreCategory', 'BillingType', 'AccountGroupKey', 'AccountGroup', 'Category', 'CustomerClassification'],\n",
    "    aggfunc={'Quantity': 'sum', 'CustomerCode': 'count'}\n",
    ")"
   ]
  },
  {
   "cell_type": "code",
   "execution_count": 154,
   "id": "a4364290-a0c0-42a8-9743-f19d522b9ca6",
   "metadata": {},
   "outputs": [],
   "source": [
    "pivot.to_csv(r\"C:\\Users\\HP\\Downloads\\compile value.csv\")"
   ]
  },
  {
   "cell_type": "code",
   "execution_count": 243,
   "id": "d72dcd0c-70fb-46e4-bc13-8b89eac14551",
   "metadata": {},
   "outputs": [],
   "source": [
    "filtered_df_1 = df6[\n",
    "    (df6['Quantity'] > 0) &\n",
    "    (df6['Product_Type'].isin(['PCR-BIAS','PCR-RADIAL'])) &\n",
    "    (df6['AccountGroupKey'].isin(['#','Z001','Z004']))]\n",
    "\n",
    "pivot2 = pd.pivot_table(\n",
    "    filtered_df_1,\n",
    "    values=['Quantity', 'CustomerCode'],\n",
    "    index=['FinancialYear', 'Product_Type','Quarter','CustomerClassification','AccountGroupKey'],\n",
    "    aggfunc={'Quantity': 'sum', 'CustomerCode': 'count'}\n",
    ")"
   ]
  },
  {
   "cell_type": "code",
   "execution_count": 244,
   "id": "767e8714-4f21-406d-b33d-c3de0efcc014",
   "metadata": {},
   "outputs": [
    {
     "name": "stdout",
     "output_type": "stream",
     "text": [
      "                                                                           CustomerCode  \\\n",
      "FinancialYear Product_Type Quarter CustomerClassification AccountGroupKey                 \n",
      "19-20         PCR-BIAS     Q1      CO                     Z001                      314   \n",
      "                                   EC                     Z001                        2   \n",
      "                                   FW                     Z001                        6   \n",
      "                                   HC                     Z001                        2   \n",
      "                                   IC                     Z001                       14   \n",
      "...                                                                                 ...   \n",
      "23-24         PCR-RADIAL   Q4      TR                     Z001                     1053   \n",
      "                                                          Z004                      139   \n",
      "                                   TW                     Z001                       94   \n",
      "                                   WV                     Z004                       37   \n",
      "                                   XW                     Z001                     5178   \n",
      "\n",
      "                                                                           Quantity  \n",
      "FinancialYear Product_Type Quarter CustomerClassification AccountGroupKey            \n",
      "19-20         PCR-BIAS     Q1      CO                     Z001               1658.0  \n",
      "                                   EC                     Z001                  6.0  \n",
      "                                   FW                     Z001                 20.0  \n",
      "                                   HC                     Z001                  4.0  \n",
      "                                   IC                     Z001                 38.0  \n",
      "...                                                                             ...  \n",
      "23-24         PCR-RADIAL   Q4      TR                     Z001               3228.0  \n",
      "                                                          Z004               3824.0  \n",
      "                                   TW                     Z001                272.0  \n",
      "                                   WV                     Z004                314.0  \n",
      "                                   XW                     Z001              22031.0  \n",
      "\n",
      "[795 rows x 2 columns]\n"
     ]
    }
   ],
   "source": [
    "print(pivot2)"
   ]
  },
  {
   "cell_type": "code",
   "execution_count": 239,
   "id": "ddfd9e9e-62e3-4456-a44d-2fb59aa240ff",
   "metadata": {},
   "outputs": [],
   "source": [
    "df7 = df6[df6['FinancialYear'].isin(['23-24']) & df6['Quarter'].isin(['Q4','Q1']) & df6['AccountGroupKey'].isin(['#','Z001','Z004'])].copy()\n",
    "df8 = df6[df6['FinancialYear'].isin(['23-24']) & df6['Quarter'].isin(['Q2','Q3']) ].copy()\n"
   ]
  },
  {
   "cell_type": "code",
   "execution_count": 228,
   "id": "44b3d081-f8ab-48f5-aefa-961a1043c8d8",
   "metadata": {},
   "outputs": [
    {
     "data": {
      "text/plain": [
       "Index(['FinancialYear', 'Quarter', 'Year', 'Month', 'Zone', 'Region',\n",
       "       'CustomerCode', 'Customer', 'AccountGroupKey', 'AccountGroup',\n",
       "       'CustomerClassification', 'Inches', 'Material', 'TyreCategory',\n",
       "       'Pattern', 'BillingType', 'Quantity', 'Category', 'Product_Type'],\n",
       "      dtype='object')"
      ]
     },
     "execution_count": 228,
     "metadata": {},
     "output_type": "execute_result"
    }
   ],
   "source": [
    "df7.columns"
   ]
  },
  {
   "cell_type": "code",
   "execution_count": 233,
   "id": "0d843cac-da15-45a3-9827-c0e63b8a79b5",
   "metadata": {},
   "outputs": [
    {
     "data": {
      "text/plain": [
       "Quarter\n",
       "Q1    392736\n",
       "Q2    374621\n",
       "Q3    352433\n",
       "Q4    323291\n",
       "Name: count, dtype: int64"
      ]
     },
     "execution_count": 233,
     "metadata": {},
     "output_type": "execute_result"
    }
   ],
   "source": [
    "df7['Quarter'].value_counts()"
   ]
  },
  {
   "cell_type": "code",
   "execution_count": 241,
   "id": "fd2e6532-25fe-4bdd-b6d6-78f9b3cf4ea4",
   "metadata": {},
   "outputs": [],
   "source": [
    "df7.to_csv(r\"E:\\FY compiled Scorecard\\Advantage\\Final\\Final\\FY-23_24(whole data_Q4&1).csv\")\n",
    "df8.to_csv(r\"E:\\FY compiled Scorecard\\Advantage\\Final\\Final\\FY-23_24(whole data_Q2&3).csv\")"
   ]
  },
  {
   "cell_type": "code",
   "execution_count": 247,
   "id": "36928bd7-8b28-4bde-9621-3c185fe1a06e",
   "metadata": {},
   "outputs": [],
   "source": [
    "pivot2.to_csv(r\"E:\\FY compiled Scorecard\\Advantage\\Final\\Final\\new.csv\")"
   ]
  },
  {
   "cell_type": "code",
   "execution_count": 223,
   "id": "d5e5e614-0508-4a58-8195-3e8d5299f3d5",
   "metadata": {},
   "outputs": [],
   "source": [
    "filtered_df_3 = df6[\n",
    "    (df6['Quantity'] > 0) &\n",
    "    (df6['FinancialYear'].isin(['23-24']))&\n",
    "    (df6['Product_Type'].isin(['PCR-BIAS','PCR-RADIAL'])) &\n",
    "    (df6['BillingType'].isin(['ZOR','YOR','YPLT','YRDR','ZPLT','ZRDR']))&\n",
    "    (df6['AccountGroupKey'].isin(['#','Z001','Z004']))]\n",
    "\n",
    "pivot2 = pd.pivot_table(\n",
    "    filtered_df_3,\n",
    "    values=['Quantity'],\n",
    "    index=['FinancialYear', 'CustomerCode','Product_Type','Quarter','CustomerClassification','AccountGroupKey'],\n",
    "    aggfunc={'Quantity': 'sum'}\n",
    ")"
   ]
  },
  {
   "cell_type": "code",
   "execution_count": 225,
   "id": "c19f718a-bffd-4b69-86a6-52b864ec3e26",
   "metadata": {},
   "outputs": [],
   "source": [
    "pivot2.to_csv(r\"E:\\FY compiled Scorecard\\Advantage\\Final\\Final\\FY-23_24.csv\")"
   ]
  },
  {
   "cell_type": "code",
   "execution_count": null,
   "id": "74cafc9b-f044-47c3-a287-eb01f8428d71",
   "metadata": {},
   "outputs": [],
   "source": []
  }
 ],
 "metadata": {
  "kernelspec": {
   "display_name": "Python 3 (ipykernel)",
   "language": "python",
   "name": "python3"
  },
  "language_info": {
   "codemirror_mode": {
    "name": "ipython",
    "version": 3
   },
   "file_extension": ".py",
   "mimetype": "text/x-python",
   "name": "python",
   "nbconvert_exporter": "python",
   "pygments_lexer": "ipython3",
   "version": "3.12.4"
  }
 },
 "nbformat": 4,
 "nbformat_minor": 5
}

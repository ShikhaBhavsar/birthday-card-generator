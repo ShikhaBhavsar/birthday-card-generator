{
 "cells": [
  {
   "cell_type": "code",
   "execution_count": 1,
   "id": "9541cd5c-2a63-4a38-a91e-f51dadc88d53",
   "metadata": {},
   "outputs": [],
   "source": [
    "import pandas as pd"
   ]
  },
  {
   "cell_type": "code",
   "execution_count": 37,
   "id": "7ac35a42-5728-4019-951e-da0d16d0d6bc",
   "metadata": {},
   "outputs": [],
   "source": [
    "df1 = pd.read_excel(r\"E:\\FY compiled Scorecard\\Advantage\\Consolidated files\\22-23\\PCR Q1'22 Point calculations - FY 2022-23.xlsx\",\n",
    "                    sheet_name=\"Q1'2022-23 SC\",header=2)\n",
    "df2 = pd.read_excel(r\"E:\\FY compiled Scorecard\\Advantage\\Consolidated files\\22-23\\PCR Q2'22 Point calculations- FY 2022-23.xlsx\",\n",
    "                   sheet_name=\"Q2'2022-23 SC\",header=2)\n",
    "df3 = pd.read_excel(r\"E:\\FY compiled Scorecard\\Advantage\\Consolidated files\\22-23\\PCR Q3'22 Point Calculation- FY 2022-23.xlsx\",\n",
    "                   sheet_name=\"Q3'2022-23 SC\",header=2)\n",
    "df4 = pd.read_excel(r\"E:\\FY compiled Scorecard\\Advantage\\Consolidated files\\22-23\\PCR Q4'23 Point calculations- FY 2022-23.xlsx\",\n",
    "                   sheet_name=\"Q4'2022-23 SC\",header=2)"
   ]
  },
  {
   "cell_type": "code",
   "execution_count": 13,
   "id": "3285b21e-fe0d-4de5-83b1-e5b6e4199508",
   "metadata": {},
   "outputs": [
    {
     "name": "stdout",
     "output_type": "stream",
     "text": [
      "Sheet names: ['Pivot Regular sales', \"Q4'23 Regular updated sales\", 'Pivot Smart sales', \"Q4'23 Smart sales\", \"Q4'2022-23 SC\", 'point table']\n"
     ]
    }
   ],
   "source": [
    "# file_path =r\"E:\\FY compiled Scorecard\\Advantage\\Consolidated files\\22-23\\PCR Q4'23 Point calculations- FY 2022-23.xlsx\"\n",
    "\n",
    "# excel_file = pd.ExcelFile(file_path)\n",
    "\n",
    "# sheet_names = excel_file.sheet_names\n",
    "\n",
    "# print(\"Sheet names:\", sheet_names)\n"
   ]
  },
  {
   "cell_type": "code",
   "execution_count": 90,
   "id": "0499f265-4927-4598-ab89-38f1f37cd5bd",
   "metadata": {},
   "outputs": [
    {
     "data": {
      "text/plain": [
       "Index(['SAP ID', 'Dealer type- Final', 'SAS-March23 End', 'Club-MARCH2023 End',\n",
       "       'Eligible for Points as per club', 'Unnamed: 5', '12-13 inch',\n",
       "       '14-15 inch', '16 and above', '12-13 inch.1', '14-15 inch.1',\n",
       "       '16 and above.1', '12-13 inch.2', '14-15 inch.2', '16 and above.2',\n",
       "       '12-13 inch.3', '14-15 inch.3', '16 and above.3', '12-13 inch.4',\n",
       "       '14-15 inch.4', '16 and above.4', 'Feb'23 Eligible Offtake',\n",
       "       '12-13 inch.5', '14-15 inch.5', '16 and above.5', '12-13 inch.6',\n",
       "       '14-15 inch.6', '16 and above.6', '12-13 inch.7', '14-15 inch.7',\n",
       "       '16 and above.7', '12-13 inch.8', '14-15 inch.8', '16 and above.8',\n",
       "       '12-13 inch.9', '14-15 inch.9', '16 and above.9',\n",
       "       'March'23 Eligible Offtake', '12-13 inch.10', '14-15 inch.10',\n",
       "       '16 and above.10', '12-13 inch.11', '14-15 inch.11', '16 and above.11',\n",
       "       '12-13 inch.12', '14-15 inch.12', '16 and above.12', '12-13 inch.13',\n",
       "       '14-15 inch.13', '16 and above.13', '12-13 inch.14', '14-15 inch.14',\n",
       "       '16 and above.14', 'Total eligible sales', 'Unnamed: 54',\n",
       "       '12-13 inch.15', '14-15 inch.15', '16 and above.15', '12-13 inch.16',\n",
       "       '14-15 inch.16', '16 and above.16', '12-13 inch.17', '14-15 inch.17',\n",
       "       '16 and above.17', '12-13 inch.18', '14-15 inch.18', '16 and above.18',\n",
       "       '12-13 inch.19', '14-15 inch.19', '16 and above.19', '12-13 inch.20',\n",
       "       '14-15 inch.20', '16 and above.20', '12-13 inch.21', '14-15 inch.21',\n",
       "       '16 and above.21', '12-13 inch.22', '14-15 inch.22', '16 and above.22',\n",
       "       '12-13 inch.23', '14-15 inch.23', '16 and above.23', '12-13 inch.24',\n",
       "       '14-15 inch.24', '16 and above.24', '12-13 inch.25', '14-15 inch.25',\n",
       "       '16 and above.25', '12-13 inch.26', '14-15 inch.26', '16 and above.26',\n",
       "       'Unnamed: 91', 'Unnamed: 92'],\n",
       "      dtype='object')"
      ]
     },
     "execution_count": 90,
     "metadata": {},
     "output_type": "execute_result"
    }
   ],
   "source": [
    "df4.columns"
   ]
  },
  {
   "cell_type": "code",
   "execution_count": 100,
   "id": "5d8ebac7-a2dc-4a53-9216-deabda967bd2",
   "metadata": {},
   "outputs": [],
   "source": [
    "df1_needtotake = df1[['SAP ID', 'Dealer type', 'Club', 'Eligible for Points as per club','Total eligible sales', 'Q1 Regular Total Points']].copy()\n",
    "df2_needtotake = df2[['SAP ID', 'Dealer type- Final', 'Club','Eligible for Points as per club','Total eligible sales', 'Q2 Regular Total Points']].copy()\n",
    "df3_needtotake = df3[['SAP ID', 'Dealer type- Final', 'Club-Dec 22 ','Eligible for Points as per club','Total eligible sales', 'Unnamed: 92']].copy()\n",
    "df4_needtotake = df4[['SAP ID', 'Dealer type- Final','Club-MARCH2023 End','Eligible for Points as per club','Total eligible sales', 'Unnamed: 92']].copy()"
   ]
  },
  {
   "cell_type": "code",
   "execution_count": 104,
   "id": "a36f485b-c780-48ec-96ba-07b9c1f73336",
   "metadata": {},
   "outputs": [],
   "source": [
    "df2_needtotake = df2_needtotake.rename(columns={'Dealer type- Final': 'Dealer type', 'Club': 'Club','Q2 Regular Total Points':'Q1 Regular Total Points'})\n",
    "df3_needtotake = df3_needtotake.rename(columns={'Dealer type- Final': 'Dealer type', 'Club-Dec 22': 'Club','Unnamed: 92':'Q1 Regular Total Points',})\n",
    "df4_needtotake = df4_needtotake.rename(columns={'Dealer type- Final': 'Dealer type', 'Club-MARCH2023 End': 'Club','Unnamed: 92':'Q1 Regular Total Points'})"
   ]
  },
  {
   "cell_type": "code",
   "execution_count": 106,
   "id": "cb13ea15-91da-4a89-8518-13bd7b509193",
   "metadata": {},
   "outputs": [],
   "source": [
    "df_combined = pd.concat([df1_needtotake, df2_needtotake, df3_needtotake, df4_needtotake], ignore_index=True)\n"
   ]
  },
  {
   "cell_type": "code",
   "execution_count": 108,
   "id": "3f74a3ba-79da-44cb-8e8f-f3ff8591a3a2",
   "metadata": {},
   "outputs": [],
   "source": [
    "df_combined.to_excel(r\"E:\\FY compiled Scorecard\\Advantage\\Consolidated files\\22-23\\PCR_compile score card FY 2022-23.xlsx\",sheet_name=\"Compile file\",index=False)"
   ]
  },
  {
   "cell_type": "code",
   "execution_count": null,
   "id": "db56607c-7462-4448-bd7e-a85a6fef5216",
   "metadata": {},
   "outputs": [],
   "source": []
  },
  {
   "cell_type": "code",
   "execution_count": null,
   "id": "ec95c570-500a-458f-92f1-04fb3244b8cb",
   "metadata": {},
   "outputs": [],
   "source": []
  }
 ],
 "metadata": {
  "kernelspec": {
   "display_name": "Python 3 (ipykernel)",
   "language": "python",
   "name": "python3"
  },
  "language_info": {
   "codemirror_mode": {
    "name": "ipython",
    "version": 3
   },
   "file_extension": ".py",
   "mimetype": "text/x-python",
   "name": "python",
   "nbconvert_exporter": "python",
   "pygments_lexer": "ipython3",
   "version": "3.12.4"
  }
 },
 "nbformat": 4,
 "nbformat_minor": 5
}

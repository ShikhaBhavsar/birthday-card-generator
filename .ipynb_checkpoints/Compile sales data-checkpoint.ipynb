{
 "cells": [
  {
   "cell_type": "code",
   "execution_count": null,
   "id": "d5fbee66-bf8a-4bd6-beea-cf5a9aaf9021",
   "metadata": {},
   "outputs": [],
   "source": [
    "import pandas as pd"
   ]
  },
  {
   "cell_type": "code",
   "execution_count": null,
   "id": "64ec4227-d06e-45c6-8ac6-12b62fa5de99",
   "metadata": {},
   "outputs": [],
   "source": [
    "df = pd.read_csv(r\"C:\\Users\\HP\\Downloads\\data.csv\")"
   ]
  },
  {
   "cell_type": "code",
   "execution_count": null,
   "id": "ffc4a12f-6485-42f5-9492-11408e74e692",
   "metadata": {},
   "outputs": [],
   "source": [
    "df.columns"
   ]
  },
  {
   "cell_type": "code",
   "execution_count": null,
   "id": "58d8bcf1-a503-4fcc-b906-65f39bd19b52",
   "metadata": {},
   "outputs": [],
   "source": [
    "df['Quantity'].sum()"
   ]
  },
  {
   "cell_type": "code",
   "execution_count": null,
   "id": "5b0e4c1d-e0bc-4c4e-ad4c-a5e287d2e673",
   "metadata": {},
   "outputs": [],
   "source": [
    "filter_year = df[df['FinancialYear'] == \"19-20\"]"
   ]
  },
  {
   "cell_type": "code",
   "execution_count": null,
   "id": "73e0a6e7-a10c-4042-97d9-247d9ca9de04",
   "metadata": {},
   "outputs": [],
   "source": [
    "filter_year['FinancialYear'].value_counts()"
   ]
  },
  {
   "cell_type": "code",
   "execution_count": null,
   "id": "998f10ff-28e7-4827-b6dd-383318d2f45f",
   "metadata": {},
   "outputs": [],
   "source": [
    "# zone_avg = filter_year.groupby('Zone')['Quantity'].mean()\n",
    "# print(zone_avg)"
   ]
  },
  {
   "cell_type": "code",
   "execution_count": null,
   "id": "e6af736a-9ab8-436a-9d69-c5ca7bc3a9df",
   "metadata": {},
   "outputs": [],
   "source": [
    "# filter_year['Days_in_Month'] = pd.to_datetime(df[['Year', 'Month']].assign(Day=1)).dt.days_in_month\n",
    "\n"
   ]
  },
  {
   "cell_type": "code",
   "execution_count": null,
   "id": "ad237d5b-6a35-4a9d-84b4-fad0eecf387b",
   "metadata": {},
   "outputs": [],
   "source": [
    "Total_Offtake_19_20 = filter_year['Quantity'].sum()\n",
    "Avg_Offtake_19_20 = Total_Offtake_19_20 / 12\n",
    "\n",
    " "
   ]
  },
  {
   "cell_type": "code",
   "execution_count": null,
   "id": "92f554ce-7dd1-4b95-b3c8-e4381786c634",
   "metadata": {},
   "outputs": [],
   "source": [
    "print(Total_Offtake_19_20,Avg_Offtake_19_20)"
   ]
  },
  {
   "cell_type": "code",
   "execution_count": null,
   "id": "1c47be37-74b9-4837-938e-66d76558d06b",
   "metadata": {},
   "outputs": [],
   "source": []
  }
 ],
 "metadata": {
  "kernelspec": {
   "display_name": "Python 3 (ipykernel)",
   "language": "python",
   "name": "python3"
  },
  "language_info": {
   "codemirror_mode": {
    "name": "ipython",
    "version": 3
   },
   "file_extension": ".py",
   "mimetype": "text/x-python",
   "name": "python",
   "nbconvert_exporter": "python",
   "pygments_lexer": "ipython3",
   "version": "3.12.4"
  }
 },
 "nbformat": 4,
 "nbformat_minor": 5
}

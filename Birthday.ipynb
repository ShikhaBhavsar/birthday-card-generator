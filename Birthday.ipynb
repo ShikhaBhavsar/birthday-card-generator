{
 "cells": [
  {
   "cell_type": "code",
   "execution_count": 56,
   "id": "c2d39101-12ac-4654-a204-2304d9751a8f",
   "metadata": {},
   "outputs": [],
   "source": [
    "from PIL import Image, ImageDraw, ImageFont\n",
    "import pandas as pd\n",
    "import os\n",
    "import shutil\n"
   ]
  },
  {
   "cell_type": "code",
   "execution_count": 57,
   "id": "219e1bd7-8b8e-401b-bc47-b0fc1f460a31",
   "metadata": {},
   "outputs": [],
   "source": [
    "# Load Excel file\n",
    "file_path = r\"C:\\Users\\DELL\\Downloads\\birthday.xlsx\"  # Path to your Excel file\n",
    "sheet_data = pd.read_excel(file_path)\n",
    "\n",
    "# # Check column containing names\n",
    "# names = sheet_data['Owner Name']\n",
    "# business = sheet_data'Business Name']\n",
    "\n",
    "df = pd.DataFrame(sheet_data)"
   ]
  },
  {
   "cell_type": "code",
   "execution_count": 58,
   "id": "01be1560-b754-4dc1-b6c1-854db7bd83d5",
   "metadata": {},
   "outputs": [
    {
     "name": "stdout",
     "output_type": "stream",
     "text": [
      "Sushil Arora\n",
      "VARUNA INTEGRATED LOGISTICS PVT LTD\n"
     ]
    }
   ],
   "source": [
    "name = df['Owner Name'][0]\n",
    "business = df['Business Name'][0]\n",
    "\n",
    "print(name)\n",
    "print(business)"
   ]
  },
  {
   "cell_type": "code",
   "execution_count": 68,
   "id": "cbadcc0a-0592-4430-a3c6-0a31d3af6c70",
   "metadata": {},
   "outputs": [],
   "source": [
    "from PIL import Image, ImageDraw, ImageFont\n",
    "import os\n",
    "\n",
    "# File paths\n",
    "template_path = r\"C:\\Users\\DELL\\Downloads\\birthday celebration.png\"\n",
    "output_dir = 'generated_birthday_wishes/'\n",
    "os.makedirs(output_dir, exist_ok=True)\n",
    "\n",
    "# Load the template image\n",
    "template = Image.open(template_path)\n",
    "template_width = template.width\n",
    "\n",
    "# Font setup\n",
    "font_path = \"C:/Windows/Fonts/arialbd.ttf\"\n",
    "font = ImageFont.truetype(font_path, size=25)\n",
    "\n",
    "def get_centered_position(text, font, y_position, image_width):\n",
    "    # Get text dimensions\n",
    "    bbox = font.getbbox(text)\n",
    "    text_width = bbox[2] - bbox[0]\n",
    "    # Calculate x coordinate to center the text\n",
    "    return ((image_width - text_width) // 2, y_position)\n",
    "\n",
    "# Generate images\n",
    "for i in range(len(df)):\n",
    "    name = df['Owner Name'][i]\n",
    "    business = df['Business Name'][i]\n",
    "    \n",
    "    img = template.copy()\n",
    "    draw = ImageDraw.Draw(img)\n",
    "    \n",
    "    # Calculate centered positions\n",
    "    name_position = get_centered_position(name, font, 590, template_width)\n",
    "    business_position = get_centered_position(f\"({business})\", font, 660, template_width)\n",
    "    \n",
    "    # Add the centered text\n",
    "    draw.text(name_position, name, fill=\"black\", font=font)\n",
    "    draw.text(business_position, f\"({business})\", fill=\"black\", font=font)\n",
    "    \n",
    "    # Save the image\n",
    "    output_file = os.path.join(output_dir, f\"{name.replace(' ', '_')}_birthday.png\")\n",
    "    img.save(output_file)"
   ]
  },
  {
   "cell_type": "code",
   "execution_count": 69,
   "id": "2df6be5b-db58-474f-9a87-6182a173dfe7",
   "metadata": {},
   "outputs": [
    {
     "data": {
      "text/plain": [
       "'C:\\\\Users\\\\DELL\\\\Downloads\\\\generated_birthday_wishes.zip'"
      ]
     },
     "execution_count": 69,
     "metadata": {},
     "output_type": "execute_result"
    }
   ],
   "source": [
    "# Path for the zip file\n",
    "zip_file_path = r\"C:\\Users\\DELL\\Downloads\\generated_birthday_wishes.zip\"\n",
    "\n",
    "# Create a zip file containing all generated images\n",
    "shutil.make_archive(base_name=zip_file_path.replace('.zip', ''), format='zip', root_dir=output_dir)\n"
   ]
  },
  {
   "cell_type": "code",
   "execution_count": null,
   "id": "6cf513a7-3f82-4084-9148-25f1ed8c85ad",
   "metadata": {},
   "outputs": [],
   "source": []
  },
  {
   "cell_type": "code",
   "execution_count": null,
   "id": "481d9a87-d36b-453b-b51e-a932ed4cd5d3",
   "metadata": {},
   "outputs": [],
   "source": []
  }
 ],
 "metadata": {
  "kernelspec": {
   "display_name": "Python 3 (ipykernel)",
   "language": "python",
   "name": "python3"
  },
  "language_info": {
   "codemirror_mode": {
    "name": "ipython",
    "version": 3
   },
   "file_extension": ".py",
   "mimetype": "text/x-python",
   "name": "python",
   "nbconvert_exporter": "python",
   "pygments_lexer": "ipython3",
   "version": "3.13.0"
  }
 },
 "nbformat": 4,
 "nbformat_minor": 5
}

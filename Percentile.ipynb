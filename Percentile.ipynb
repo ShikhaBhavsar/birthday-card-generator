{
 "cells": [
  {
   "cell_type": "code",
   "execution_count": 1,
   "id": "1d95b769-a54e-4c67-9324-996524805d84",
   "metadata": {},
   "outputs": [],
   "source": [
    "import pandas as pd\n",
    "import numpy as py"
   ]
  },
  {
   "cell_type": "code",
   "execution_count": 3,
   "id": "7bcf4857-9cc4-4e7e-bfd6-424ce4c09670",
   "metadata": {},
   "outputs": [],
   "source": [
    "df = pd.read_excel(r\"E:\\Advantae priority check.xlsx\")"
   ]
  },
  {
   "cell_type": "code",
   "execution_count": 5,
   "id": "4a1c7250-5109-4945-9278-c4fd34d2adc7",
   "metadata": {},
   "outputs": [],
   "source": [
    "df['percentile'] = df.groupby('Zone')['Final Point Balance FY 23-24'].transform(lambda x: pd.qcut(x.rank(method='first'), q=4, labels=[4, 3, 2, 1]))\n"
   ]
  },
  {
   "cell_type": "code",
   "execution_count": 9,
   "id": "f1b72151-81d6-4988-b16c-865a9b48c8eb",
   "metadata": {},
   "outputs": [],
   "source": [
    "df.to_excel(r\"E:\\new_Advantae priority check.xlsx\")"
   ]
  },
  {
   "cell_type": "code",
   "execution_count": null,
   "id": "7709ed65-7822-44b0-98e7-8c5b103942d3",
   "metadata": {},
   "outputs": [],
   "source": []
  }
 ],
 "metadata": {
  "kernelspec": {
   "display_name": "Python 3 (ipykernel)",
   "language": "python",
   "name": "python3"
  },
  "language_info": {
   "codemirror_mode": {
    "name": "ipython",
    "version": 3
   },
   "file_extension": ".py",
   "mimetype": "text/x-python",
   "name": "python",
   "nbconvert_exporter": "python",
   "pygments_lexer": "ipython3",
   "version": "3.12.4"
  }
 },
 "nbformat": 4,
 "nbformat_minor": 5
}

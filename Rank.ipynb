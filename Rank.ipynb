{
 "cells": [
  {
   "cell_type": "code",
   "execution_count": 1,
   "id": "1089da4a-fddc-4e60-9394-5c493ead184d",
   "metadata": {},
   "outputs": [],
   "source": [
    "import pandas as pd\n",
    "import numpy as np\n"
   ]
  },
  {
   "cell_type": "code",
   "execution_count": 7,
   "id": "ad56d773-9776-4780-8f19-b68fd4bd36b8",
   "metadata": {},
   "outputs": [],
   "source": [
    "df2 = pd.read_excel(r\"E:\\FY compiled Scorecard\\Advantage\\Final\\Book3.xlsx\")"
   ]
  },
  {
   "cell_type": "code",
   "execution_count": 17,
   "id": "7ce75bad-3461-4fbd-92cf-a150ad174301",
   "metadata": {},
   "outputs": [
    {
     "data": {
      "text/plain": [
       "Year\n",
       "2020-2021    31396\n",
       "2021-2022    28812\n",
       "2019-2020    25880\n",
       "2022-2023    19853\n",
       "2023-2024    19660\n",
       "2018-2019    10180\n",
       "2017-2018     8716\n",
       "2016-2017     7664\n",
       "Name: count, dtype: int64"
      ]
     },
     "execution_count": 17,
     "metadata": {},
     "output_type": "execute_result"
    }
   ],
   "source": [
    "df2['Year'].value_counts()"
   ]
  },
  {
   "cell_type": "code",
   "execution_count": 19,
   "id": "b6f33682-bc17-444f-8580-d4cd5a959462",
   "metadata": {},
   "outputs": [],
   "source": [
    "df2 = df2.sort_values(by=['Year', 'Qtr', 'Total Offtake'], ascending=[True, True, False])\n",
    "df2['Rank'] = df2.groupby(['Year', 'Qtr'])['Total Offtake'].rank(ascending=False, method='dense')\n"
   ]
  },
  {
   "cell_type": "code",
   "execution_count": 23,
   "id": "2c2b6e47-f10c-4ab9-9c78-9697d36b8141",
   "metadata": {},
   "outputs": [],
   "source": [
    "def assign_slab(rank):\n",
    "    if rank <= 25 :\n",
    "        return \"Top\"\n",
    "    elif rank <= 50:\n",
    "        return \"High\"\n",
    "    elif rank <= 500:\n",
    "        return \"Medium\"\n",
    "    else:\n",
    "        return \"Low\""
   ]
  },
  {
   "cell_type": "code",
   "execution_count": 25,
   "id": "b663e7d0-0b6d-43e6-9077-811bea308921",
   "metadata": {},
   "outputs": [],
   "source": [
    "df2['Rank Slab'] = df2['Rank'].apply(assign_slab)"
   ]
  },
  {
   "cell_type": "code",
   "execution_count": 35,
   "id": "c004345a-44eb-4726-a673-99981cf597e5",
   "metadata": {},
   "outputs": [
    {
     "name": "stderr",
     "output_type": "stream",
     "text": [
      "C:\\Users\\HP\\AppData\\Local\\Temp\\ipykernel_13476\\996869355.py:9: DeprecationWarning: DataFrameGroupBy.apply operated on the grouping columns. This behavior is deprecated, and in a future version of pandas the grouping columns will be excluded from the operation. Either pass `include_groups=False` to exclude the groupings or explicitly select the grouping columns after groupby to silence this warning.\n",
      "  df2 = df2.groupby(['Year', 'Qtr'], group_keys=False).apply(calculate_percentile)\n"
     ]
    }
   ],
   "source": [
    "from scipy.stats import percentileofscore\n",
    "\n",
    "# Define a function to calculate percentile and round it\n",
    "def calculate_percentile(group):\n",
    "    group['Percentile'] = group['Total Offtake'].apply(lambda x: round(percentileofscore(group['Total Offtake'], x), 0))\n",
    "    return group\n",
    "\n",
    "# Apply the function to each Year and Quarter group\n",
    "df2 = df2.groupby(['Year', 'Qtr'], group_keys=False).apply(calculate_percentile)\n"
   ]
  },
  {
   "cell_type": "code",
   "execution_count": 37,
   "id": "b8a069e2-bf73-43b1-a122-b73e74938d58",
   "metadata": {},
   "outputs": [
    {
     "data": {
      "text/plain": [
       "261         1.0\n",
       "282         2.0\n",
       "7           3.0\n",
       "943         4.0\n",
       "1375        5.0\n",
       "          ...  \n",
       "150464    624.0\n",
       "148657    625.0\n",
       "152040    626.0\n",
       "148029    627.0\n",
       "148670    628.0\n",
       "Name: Rank, Length: 152161, dtype: float64"
      ]
     },
     "execution_count": 37,
     "metadata": {},
     "output_type": "execute_result"
    }
   ],
   "source": [
    "df2['Rank']"
   ]
  },
  {
   "cell_type": "code",
   "execution_count": 39,
   "id": "30ef6d19-a047-454c-a2e2-c04e23b141bf",
   "metadata": {},
   "outputs": [],
   "source": [
    "df2.to_excel(r\"E:\\FY compiled Scorecard\\Advantage\\Final\\grouped_df(Updated)1.xlsx\")"
   ]
  },
  {
   "cell_type": "code",
   "execution_count": null,
   "id": "8cb258dd-2a88-4c60-814a-cfa33c0f71ee",
   "metadata": {},
   "outputs": [],
   "source": []
  }
 ],
 "metadata": {
  "kernelspec": {
   "display_name": "Python 3 (ipykernel)",
   "language": "python",
   "name": "python3"
  },
  "language_info": {
   "codemirror_mode": {
    "name": "ipython",
    "version": 3
   },
   "file_extension": ".py",
   "mimetype": "text/x-python",
   "name": "python",
   "nbconvert_exporter": "python",
   "pygments_lexer": "ipython3",
   "version": "3.12.4"
  }
 },
 "nbformat": 4,
 "nbformat_minor": 5
}

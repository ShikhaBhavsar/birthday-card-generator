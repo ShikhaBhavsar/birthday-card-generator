{
 "cells": [
  {
   "cell_type": "code",
   "execution_count": null,
   "id": "7a26a2e5-e997-4e1a-a4d4-4b69e6ca4fdf",
   "metadata": {},
   "outputs": [],
   "source": [
    "import pandas as pd\n",
    "\n",
    "# Load your Excel data\n",
    "df = pd.read_excel(\"your_file.xlsx\")\n",
    "\n",
    "# Separate monthly and quarterly data\n",
    "monthly_data = df[df['Month'] != '-']  # Monthly data where Month is not \"-\"\n",
    "quarterly_data = df[df['Month'] == '-']  # Quarterly data where Month is \"-\"\n",
    "\n",
    "# Convert monthly data to quarterly by grouping and aggregating\n",
    "# Replace 'Value' with the relevant column to aggregate\n",
    "aggregated_monthly = (\n",
    "    monthly_data.groupby(['Year', (monthly_data['Month'].astype(int) - 1) // 3 + 1])  # Calculate quarter from month\n",
    "    .sum()  # Use the appropriate aggregation function here\n",
    "    .reset_index()\n",
    ")\n",
    "\n",
    "# Rename columns to match the quarterly structure\n",
    "aggregated_monthly.columns = ['Year', 'Quarter', 'Value']  # Adjust as needed\n",
    "aggregated_monthly['Quarter'] = 'Q' + aggregated_monthly['Quarter'].astype(str)\n",
    "\n",
    "# Combine the aggregated monthly data with the original quarterly data\n",
    "result = pd.concat([quarterly_data, aggregated_monthly], ignore_index=True)\n",
    "\n",
    "# Save the result to Excel\n",
    "result.to_excel(\"converted_to_quarterly.xlsx\", index=False)\n"
   ]
  },
  {
   "cell_type": "code",
   "execution_count": 3,
   "id": "9ba85759-8500-4c67-849b-d0bfa7194914",
   "metadata": {},
   "outputs": [],
   "source": [
    "import pandas as pd"
   ]
  },
  {
   "cell_type": "code",
   "execution_count": null,
   "id": "5465bf7f-8247-4530-8ab7-76370886fd92",
   "metadata": {},
   "outputs": [],
   "source": [
    "df = pd.read_excel(r\"E:\\FY compiled Scorecard\\Advantage\\Advantage_Score card compile file.xlsx\")"
   ]
  },
  {
   "cell_type": "code",
   "execution_count": 9,
   "id": "a06b02e5-21f5-4254-97ad-2de9cadc774b",
   "metadata": {},
   "outputs": [
    {
     "data": {
      "text/plain": [
       "Index(['Year', 'Qtr', 'Month', 'SAP ID', 'Dealer type', 'Business Name',\n",
       "       'Owner Name', 'HO Customer Class', 'Is Active', 'Pincode',\n",
       "       ...\n",
       "       '14-15 inch\\nPuncture Gaurad_Points',\n",
       "       '16 and above\\nPuncture Gaurad_Points',\n",
       "       '12-13 inch Smart_normal_\\nPoints', '14-15 inch Smart_normal_\\nPoints',\n",
       "       '16 and above Smart_normal_\\nPoints',\n",
       "       '12-13 inch Smart_premium_\\nPoints',\n",
       "       '14-15 inch Smart_premium_\\nPoints',\n",
       "       '16 and above Smart_premium_\\nPoints', 'Additional Scheme Points',\n",
       "       'Comments'],\n",
       "      dtype='object', length=102)"
      ]
     },
     "execution_count": 9,
     "metadata": {},
     "output_type": "execute_result"
    }
   ],
   "source": [
    "df.columns"
   ]
  },
  {
   "cell_type": "code",
   "execution_count": 17,
   "id": "1a0acdd5-26ee-46a3-bb46-70d2f664866b",
   "metadata": {},
   "outputs": [
    {
     "data": {
      "text/plain": [
       "Month\n",
       "--       86088\n",
       "April    16702\n",
       "May      16702\n",
       "Oct      16533\n",
       "Nov      16533\n",
       "Dec      16533\n",
       "Jan      16422\n",
       "Feb      16422\n",
       "Mar      16422\n",
       "Aug      16416\n",
       "Sep      16416\n",
       "July     14237\n",
       "June     11797\n",
       "june      4905\n",
       "Jul       2179\n",
       "Name: count, dtype: int64"
      ]
     },
     "execution_count": 17,
     "metadata": {},
     "output_type": "execute_result"
    }
   ],
   "source": [
    "df['Month'].value_counts()"
   ]
  },
  {
   "cell_type": "code",
   "execution_count": 41,
   "id": "eada3aef-5379-477f-9d09-97235abeb308",
   "metadata": {},
   "outputs": [
    {
     "name": "stdout",
     "output_type": "stream",
     "text": [
      "{'Year': 8, 'Qtr': 6, 'Month': 15, 'SAP ID': 11138, 'Dealer type': 9, 'Business Name': 2426, 'Owner Name': 2310, 'HO Customer Class': 19, 'Is Active': 2, 'Pincode': 1794, 'City': 924, 'District': 601, 'State': 50, 'Territory Name': 186, 'Area': 77, 'Region': 28, 'Zone': 5, 'Zone Name': 5, 'SO Name': 149, 'AM Name': 74, 'RM Name': 27, 'ZM Name': 5, 'Joining \\nBouns': 160, 'Total Offtake': 2604, 'PCR\\nOfftake': 2146, 'PCR\\nPoints': 30758, 'Truck TBR Offtake': 737, 'Truck TBR Point': 1018, 'Truck TBB Offtake': 682, 'Truck TBB Point': 963, 'LCV \\nOfftake': 459, 'LCV Point': 2471, 'SCV \\nOfftake': 454, 'SCV Point': 1505, 'CAR+UV\\nOfftake': 1063, 'CAR+UV': 8681, 'Farm\\nOfftake': 402, 'Farm Point': 571, '2/3 Wheelers Offtake': 539, '2/3 Wheelers Point': 766, 'Other\\nOfftake': 13, 'Other Point': 0, 'Trade Scheme &Additional Points  ': 7195, 'SCV \\n12 to 14 inches\\nOfftake': 380, 'SCV \\n14 to 15 inches\\nOfftake': 212, 'SCV \\n16 and above inches\\nOfftake': 17, 'Truck TBR \\n16 and above inches\\nOfftake': 737, 'Truck TBB \\n16 and above inches\\nOfftake': 682, 'LCV \\n12 to 14 inches\\nOfftake': 13, 'LCV \\n14 to 15 inches\\nOfftake': 402, 'LCV \\n16 and above inches\\nOfftake': 212, 'Farm \\n12 to 14 inches\\nOfftake': 33, 'Farm \\n14 to 15 inches\\nOfftake': 14, 'Farm \\n16 and above inches\\nOfftake': 397, '2/3 Wheelers \\n12 to 14 inches\\nOfftake': 366, '2/3 Wheelers \\n14 to 15 inches\\nOfftake': 6, '2/3 Wheelers \\n16 and above inches\\nOfftake': 370, 'Other12-13': 2, 'OtherMore Than 16': 13, 'CAR+UV \\n12 to 14 inches\\nOfftake': 870, 'CAR+UV \\n15 to 17 inches\\nOfftake': 541, '12-13 inch Normal_Offtake': 1128, '14-15 inch Normal_Offtake': 1255, '16 and above Normal_Offtake': 560, '12-13 inch Premiun_Offtake': 2, '14-15 inch Premiun_Offtake': 524, '16 and above Premiun_Offtake': 640, '12-13 inch\\nLevitas_Offtake': 2, '14-15 inch\\nLevitas_Offtake': 2, '16 and above\\nLevitas_Offtake': 39, '12-13 inch\\nPuncture Gaurad_Offtake': 2, '14-15 inch\\nPuncture Gaurad_Offtake': 47, '16 and above\\nPuncture Gaurad_Offtake': 47, '12-13 inch Smart_normal_Offtake': 10, '14-15 inch Smart_normal_Offtake': 105, '16 and above Smart_normal_Offtake': 217, '12-13 inch Smart_premium_Offtake': 11, '14-15 inch Smart_premium_Offtake': 52, '16 and above Smart_premium_Offtake': 190, 'SCV \\n12 to 14 inches\\nPoints': 794, 'CAR+UV \\n12 to 14 inches\\nPoints': 3010, 'CAR+UV \\n15 to 17 inches\\nPoints': 1966, '12-13 inch Normal_Points': 2834, '14-15 inch Normal_Points': 5559, '16 and above Normal_Points': 3377, '12-13 inch Premiun_Points': 1, '14-15 inch Premiun_Points': 1580, '16 and above Premiun_Points': 1669, '12-13 inch\\nLevitas_Points': 1, '14-15 inch\\nLevitas_Points': 60, '16 and above\\nLevitas_Points': 204, '12-13 inch\\nPuncture Gaurad_Points': 1, '14-15 inch\\nPuncture Gaurad_Points': 731, '16 and above\\nPuncture Gaurad_Points': 696, '12-13 inch Smart_normal_\\nPoints': 37, '14-15 inch Smart_normal_\\nPoints': 331, '16 and above Smart_normal_\\nPoints': 1326, '12-13 inch Smart_premium_\\nPoints': 25, '14-15 inch Smart_premium_\\nPoints': 117, '16 and above Smart_premium_\\nPoints': 651, 'Additional Scheme Points': 8017, 'Comments': 1758}\n"
     ]
    }
   ],
   "source": [
    "# Get count of unique values for all columns\n",
    "unique_counts = {col: df[col].nunique() for col in df.columns}\n",
    "\n",
    "# Display the result\n",
    "print(unique_counts)\n"
   ]
  },
  {
   "cell_type": "code",
   "execution_count": 35,
   "id": "2350e6e4-384e-40a8-8f89-d87abdc40c3a",
   "metadata": {},
   "outputs": [],
   "source": [
    "# Separate monthly and quarterly data\n",
    "monthly_data = df[df['Month'] != '--']  # Monthly data where Month is not \"-\"\n",
    "quarterly_data = df[df['Month'] == '--']  # Quarterly data where Month is \"-\"\n",
    "\n",
    "# Ensure \"Month\" column has only numeric values for monthly_data\n",
    "monthly_data = monthly_data[pd.to_numeric(monthly_data['Month'], errors='coerce').notna()]\n",
    "monthly_data['Month'] = monthly_data['Month'].astype(int)\n",
    "\n",
    "# Select columns to aggregate (columns that contain 'Points')\n",
    "points_columns = [col for col in df.columns if 'Points' in col]\n",
    "\n",
    "# Group and aggregate monthly data by year and calculated quarter\n",
    "aggregated_monthly = (\n",
    "    monthly_data.groupby(['Year', (monthly_data['Month'] - 1) // 3 + 1])  # Calculate quarter\n",
    "    [points_columns].sum()  # Aggregate only the points columns\n",
    "    .reset_index()\n",
    ")\n",
    "\n",
    "# Rename the calculated quarter column for consistency\n",
    "aggregated_monthly.columns = ['Year', 'Quarter'] + points_columns\n",
    "aggregated_monthly['Quarter'] = 'Q' + aggregated_monthly['Quarter'].astype(str)\n",
    "\n",
    "# Combine the aggregated monthly data with the original quarterly data\n",
    "result = pd.concat([quarterly_data, aggregated_monthly], ignore_index=True)"
   ]
  },
  {
   "cell_type": "code",
   "execution_count": 37,
   "id": "fd4b1af1-fdbd-4f07-a5bd-41799fbcc878",
   "metadata": {},
   "outputs": [],
   "source": [
    "# Save the result to Excel\n",
    "result.to_excel(r\"E:\\FY compiled Scorecard\\Advantage\\converted_to_quarterly.xlsx\", index=False)"
   ]
  },
  {
   "cell_type": "code",
   "execution_count": 49,
   "id": "3e2dacc6-5fb5-4d83-abbe-68f9822f4a8c",
   "metadata": {},
   "outputs": [
    {
     "ename": "KeyError",
     "evalue": "\"Columns not found: '2/3 Wheelers 16 and above inches Offtake', 'LCV Offtake', 'SCV 14 to 15 inches Offtake', 'LCV 16 and above inches Offtake', 'SCV Offtake', 'LCV 12 to 14 inches Offtake', 'CAR+UV 12 to 14 inches Points', 'SCV 12 to 14 inches Points', '2/3 Wheelers 14 to 15 inches Offtake', 'Farm 16 and above inches Offtake', 'Farm 14 to 15 inches Offtake', '2/3 Wheelers 12 to 14 inches Offtake', 'CAR+UV 15 to 17 inches Points', 'LCV 14 to 15 inches Offtake', 'Truck TBR 16 and above inches Offtake', 'Truck TBB 16 and above inches Offtake', 'SCV 16 and above inches Offtake', 'Joining Bouns', 'Farm 12 to 14 inches Offtake', 'CAR+UV 15 to 17 inches Offtake', 'CAR+UV 12 to 14 inches Offtake', 'SCV 12 to 14 inches Offtake'\"",
     "output_type": "error",
     "traceback": [
      "\u001b[1;31m---------------------------------------------------------------------------\u001b[0m",
      "\u001b[1;31mKeyError\u001b[0m                                  Traceback (most recent call last)",
      "Cell \u001b[1;32mIn[49], line 55\u001b[0m\n\u001b[0;32m     25\u001b[0m columns_to_sum \u001b[38;5;241m=\u001b[39m [\n\u001b[0;32m     26\u001b[0m     \u001b[38;5;124m'\u001b[39m\u001b[38;5;124mJoining Bouns\u001b[39m\u001b[38;5;124m'\u001b[39m, \u001b[38;5;124m'\u001b[39m\u001b[38;5;124mTotal Offtake\u001b[39m\u001b[38;5;124m'\u001b[39m, \u001b[38;5;124m'\u001b[39m\u001b[38;5;124mPCR Offtake\u001b[39m\u001b[38;5;124m'\u001b[39m, \u001b[38;5;124m'\u001b[39m\u001b[38;5;124mPCR Points\u001b[39m\u001b[38;5;124m'\u001b[39m, \u001b[38;5;124m'\u001b[39m\u001b[38;5;124mTruck TBR Offtake\u001b[39m\u001b[38;5;124m'\u001b[39m, \n\u001b[0;32m     27\u001b[0m     \u001b[38;5;124m'\u001b[39m\u001b[38;5;124mTruck TBR Point\u001b[39m\u001b[38;5;124m'\u001b[39m, \u001b[38;5;124m'\u001b[39m\u001b[38;5;124mTruck TBB Offtake\u001b[39m\u001b[38;5;124m'\u001b[39m, \u001b[38;5;124m'\u001b[39m\u001b[38;5;124mTruck TBB Point\u001b[39m\u001b[38;5;124m'\u001b[39m, \u001b[38;5;124m'\u001b[39m\u001b[38;5;124mLCV Offtake\u001b[39m\u001b[38;5;124m'\u001b[39m, \u001b[38;5;124m'\u001b[39m\u001b[38;5;124mLCV Point\u001b[39m\u001b[38;5;124m'\u001b[39m, \n\u001b[1;32m   (...)\u001b[0m\n\u001b[0;32m     51\u001b[0m     \u001b[38;5;124m'\u001b[39m\u001b[38;5;124m14-15 inch Smart_premium_ Points\u001b[39m\u001b[38;5;124m'\u001b[39m, \u001b[38;5;124m'\u001b[39m\u001b[38;5;124m16 and above Smart_premium_ Points\u001b[39m\u001b[38;5;124m'\u001b[39m, \u001b[38;5;124m'\u001b[39m\u001b[38;5;124mAdditional Scheme Points\u001b[39m\u001b[38;5;124m'\u001b[39m\n\u001b[0;32m     52\u001b[0m ]\n\u001b[0;32m     54\u001b[0m \u001b[38;5;66;03m# Group by Year and Quarter and sum the values for the columns\u001b[39;00m\n\u001b[1;32m---> 55\u001b[0m df_quarterly \u001b[38;5;241m=\u001b[39m df_monthly\u001b[38;5;241m.\u001b[39mgroupby([\u001b[38;5;124m'\u001b[39m\u001b[38;5;124mYear\u001b[39m\u001b[38;5;124m'\u001b[39m, \u001b[38;5;124m'\u001b[39m\u001b[38;5;124mQtr\u001b[39m\u001b[38;5;124m'\u001b[39m], as_index\u001b[38;5;241m=\u001b[39m\u001b[38;5;28;01mFalse\u001b[39;00m)[columns_to_sum]\u001b[38;5;241m.\u001b[39msum()\n\u001b[0;32m     57\u001b[0m \u001b[38;5;66;03m# Merge the quarterly data back into the original dataframe\u001b[39;00m\n\u001b[0;32m     58\u001b[0m df \u001b[38;5;241m=\u001b[39m pd\u001b[38;5;241m.\u001b[39mmerge(df, df_quarterly, how\u001b[38;5;241m=\u001b[39m\u001b[38;5;124m'\u001b[39m\u001b[38;5;124mleft\u001b[39m\u001b[38;5;124m'\u001b[39m, on\u001b[38;5;241m=\u001b[39m[\u001b[38;5;124m'\u001b[39m\u001b[38;5;124mYear\u001b[39m\u001b[38;5;124m'\u001b[39m, \u001b[38;5;124m'\u001b[39m\u001b[38;5;124mQtr\u001b[39m\u001b[38;5;124m'\u001b[39m])\n",
      "File \u001b[1;32m~\\anaconda3\\Lib\\site-packages\\pandas\\core\\groupby\\generic.py:1951\u001b[0m, in \u001b[0;36mDataFrameGroupBy.__getitem__\u001b[1;34m(self, key)\u001b[0m\n\u001b[0;32m   1944\u001b[0m \u001b[38;5;28;01mif\u001b[39;00m \u001b[38;5;28misinstance\u001b[39m(key, \u001b[38;5;28mtuple\u001b[39m) \u001b[38;5;129;01mand\u001b[39;00m \u001b[38;5;28mlen\u001b[39m(key) \u001b[38;5;241m>\u001b[39m \u001b[38;5;241m1\u001b[39m:\n\u001b[0;32m   1945\u001b[0m     \u001b[38;5;66;03m# if len == 1, then it becomes a SeriesGroupBy and this is actually\u001b[39;00m\n\u001b[0;32m   1946\u001b[0m     \u001b[38;5;66;03m# valid syntax, so don't raise\u001b[39;00m\n\u001b[0;32m   1947\u001b[0m     \u001b[38;5;28;01mraise\u001b[39;00m \u001b[38;5;167;01mValueError\u001b[39;00m(\n\u001b[0;32m   1948\u001b[0m         \u001b[38;5;124m\"\u001b[39m\u001b[38;5;124mCannot subset columns with a tuple with more than one element. \u001b[39m\u001b[38;5;124m\"\u001b[39m\n\u001b[0;32m   1949\u001b[0m         \u001b[38;5;124m\"\u001b[39m\u001b[38;5;124mUse a list instead.\u001b[39m\u001b[38;5;124m\"\u001b[39m\n\u001b[0;32m   1950\u001b[0m     )\n\u001b[1;32m-> 1951\u001b[0m \u001b[38;5;28;01mreturn\u001b[39;00m \u001b[38;5;28msuper\u001b[39m()\u001b[38;5;241m.\u001b[39m\u001b[38;5;21m__getitem__\u001b[39m(key)\n",
      "File \u001b[1;32m~\\anaconda3\\Lib\\site-packages\\pandas\\core\\base.py:239\u001b[0m, in \u001b[0;36mSelectionMixin.__getitem__\u001b[1;34m(self, key)\u001b[0m\n\u001b[0;32m    237\u001b[0m     \u001b[38;5;28;01mif\u001b[39;00m \u001b[38;5;28mlen\u001b[39m(\u001b[38;5;28mself\u001b[39m\u001b[38;5;241m.\u001b[39mobj\u001b[38;5;241m.\u001b[39mcolumns\u001b[38;5;241m.\u001b[39mintersection(key)) \u001b[38;5;241m!=\u001b[39m \u001b[38;5;28mlen\u001b[39m(\u001b[38;5;28mset\u001b[39m(key)):\n\u001b[0;32m    238\u001b[0m         bad_keys \u001b[38;5;241m=\u001b[39m \u001b[38;5;28mlist\u001b[39m(\u001b[38;5;28mset\u001b[39m(key)\u001b[38;5;241m.\u001b[39mdifference(\u001b[38;5;28mself\u001b[39m\u001b[38;5;241m.\u001b[39mobj\u001b[38;5;241m.\u001b[39mcolumns))\n\u001b[1;32m--> 239\u001b[0m         \u001b[38;5;28;01mraise\u001b[39;00m \u001b[38;5;167;01mKeyError\u001b[39;00m(\u001b[38;5;124mf\u001b[39m\u001b[38;5;124m\"\u001b[39m\u001b[38;5;124mColumns not found: \u001b[39m\u001b[38;5;132;01m{\u001b[39;00m\u001b[38;5;28mstr\u001b[39m(bad_keys)[\u001b[38;5;241m1\u001b[39m:\u001b[38;5;241m-\u001b[39m\u001b[38;5;241m1\u001b[39m]\u001b[38;5;132;01m}\u001b[39;00m\u001b[38;5;124m\"\u001b[39m)\n\u001b[0;32m    240\u001b[0m     \u001b[38;5;28;01mreturn\u001b[39;00m \u001b[38;5;28mself\u001b[39m\u001b[38;5;241m.\u001b[39m_gotitem(\u001b[38;5;28mlist\u001b[39m(key), ndim\u001b[38;5;241m=\u001b[39m\u001b[38;5;241m2\u001b[39m)\n\u001b[0;32m    242\u001b[0m \u001b[38;5;28;01melse\u001b[39;00m:\n",
      "\u001b[1;31mKeyError\u001b[0m: \"Columns not found: '2/3 Wheelers 16 and above inches Offtake', 'LCV Offtake', 'SCV 14 to 15 inches Offtake', 'LCV 16 and above inches Offtake', 'SCV Offtake', 'LCV 12 to 14 inches Offtake', 'CAR+UV 12 to 14 inches Points', 'SCV 12 to 14 inches Points', '2/3 Wheelers 14 to 15 inches Offtake', 'Farm 16 and above inches Offtake', 'Farm 14 to 15 inches Offtake', '2/3 Wheelers 12 to 14 inches Offtake', 'CAR+UV 15 to 17 inches Points', 'LCV 14 to 15 inches Offtake', 'Truck TBR 16 and above inches Offtake', 'Truck TBB 16 and above inches Offtake', 'SCV 16 and above inches Offtake', 'Joining Bouns', 'Farm 12 to 14 inches Offtake', 'CAR+UV 15 to 17 inches Offtake', 'CAR+UV 12 to 14 inches Offtake', 'SCV 12 to 14 inches Offtake'\""
     ]
    }
   ],
   "source": [
    "# Make sure columns have no extra spaces or newlines\n",
    "df.columns = df.columns.str.strip().str.replace(\"\\n\", \" \")\n",
    "\n",
    "# Convert 'Year', 'Quarter', and 'Month' columns to ensure consistency\n",
    "df['Year'] = df['Year'].astype(str)\n",
    "df['Qtr'] = df['Qtr'].astype(str)\n",
    "df['Month'] = df['Month'].astype(str)\n",
    "\n",
    "# Identify rows where Month is not \"-\"\n",
    "df_monthly = df[df['Month'] != '-']\n",
    "\n",
    "# Define a dictionary to map month names to quarters\n",
    "month_to_quarter = {\n",
    "    'April': 'Q1', 'May': 'Q1', 'June': 'Q1',\n",
    "    'July': 'Q2', 'Aug': 'Q2', 'Sep': 'Q2',\n",
    "    'Oct': 'Q3', 'Nov': 'Q3', 'Dec': 'Q3',\n",
    "    'Jan': 'Q4', 'Feb': 'Q4', 'Mar': 'Q4'\n",
    "}\n",
    "\n",
    "# Apply the dictionary mapping directly to the 'Month' column to assign the correct quarter\n",
    "df_monthly['Qtr'] = df_monthly['Month'].map(month_to_quarter)\n",
    "\n",
    "# Group by Year and Quarter, summing the relevant columns\n",
    "# List of the columns you want to sum\n",
    "columns_to_sum = [\n",
    "    'Joining Bouns', 'Total Offtake', 'PCR Offtake', 'PCR Points', 'Truck TBR Offtake', \n",
    "    'Truck TBR Point', 'Truck TBB Offtake', 'Truck TBB Point', 'LCV Offtake', 'LCV Point', \n",
    "    'SCV Offtake', 'SCV Point', 'CAR+UV Offtake', 'CAR+UV', 'Farm Offtake', 'Farm Point',\n",
    "    '2/3 Wheelers Offtake', '2/3 Wheelers Point', 'Other Offtake', 'Other Point',\n",
    "    'Trade Scheme &Additional Points', 'SCV 12 to 14 inches Offtake', 'SCV 14 to 15 inches Offtake',\n",
    "    'SCV 16 and above inches Offtake', 'Truck TBR 16 and above inches Offtake', \n",
    "    'Truck TBB 16 and above inches Offtake', 'LCV 12 to 14 inches Offtake', \n",
    "    'LCV 14 to 15 inches Offtake', 'LCV 16 and above inches Offtake', 'Farm 12 to 14 inches Offtake', \n",
    "    'Farm 14 to 15 inches Offtake', 'Farm 16 and above inches Offtake', '2/3 Wheelers 12 to 14 inches Offtake', \n",
    "    '2/3 Wheelers 14 to 15 inches Offtake', '2/3 Wheelers 16 and above inches Offtake', 'Other12-13', \n",
    "    'OtherMore Than 16', 'CAR+UV 12 to 14 inches Offtake', 'CAR+UV 15 to 17 inches Offtake', \n",
    "    '12-13 inch Normal_Offtake', '14-15 inch Normal_Offtake', '16 and above Normal_Offtake',\n",
    "    '12-13 inch Premiun_Offtake', '14-15 inch Premiun_Offtake', '16 and above Premiun_Offtake', \n",
    "    '12-13 inch Levitas_Offtake', '14-15 inch Levitas_Offtake', '16 and above Levitas_Offtake', \n",
    "    '12-13 inch Puncture Gaurad_Offtake', '14-15 inch Puncture Gaurad_Offtake', \n",
    "    '16 and above Puncture Gaurad_Offtake', '12-13 inch Smart_normal_Offtake', \n",
    "    '14-15 inch Smart_normal_Offtake', '16 and above Smart_normal_Offtake', \n",
    "    '12-13 inch Smart_premium_Offtake', '14-15 inch Smart_premium_Offtake', \n",
    "    '16 and above Smart_premium_Offtake', 'SCV 12 to 14 inches Points', 'CAR+UV 12 to 14 inches Points',\n",
    "    'CAR+UV 15 to 17 inches Points', '12-13 inch Normal_Points', '14-15 inch Normal_Points',\n",
    "    '16 and above Normal_Points', '12-13 inch Premiun_Points', '14-15 inch Premiun_Points', \n",
    "    '16 and above Premiun_Points', '12-13 inch Levitas_Points', '14-15 inch Levitas_Points',\n",
    "    '16 and above Levitas_Points', '12-13 inch Puncture Gaurad_Points', '14-15 inch Puncture Gaurad_Points',\n",
    "    '16 and above Puncture Gaurad_Points', '12-13 inch Smart_normal_ Points', '14-15 inch Smart_normal_ Points',\n",
    "    '16 and above Smart_normal_ Points', '12-13 inch Smart_premium_ Points', \n",
    "    '14-15 inch Smart_premium_ Points', '16 and above Smart_premium_ Points', 'Additional Scheme Points'\n",
    "]\n",
    "\n",
    "# Group by Year and Quarter and sum the values for the columns\n",
    "df_quarterly = df_monthly.groupby(['Year', 'Qtr'], as_index=False)[columns_to_sum].sum()\n",
    "\n",
    "# Merge the quarterly data back into the original dataframe\n",
    "df = pd.merge(df, df_quarterly, how='left', on=['Year', 'Qtr'])\n",
    "\n",
    "# Now fill any missing values for quarterly data based on monthly summation\n",
    "df['Month'] = df['Month'].apply(lambda x: '-' if x != '-' else x)\n",
    "\n",
    "# Save the modified data back to an Excel file\n",
    "df.to_excel(\"modified_file.xlsx\", index=False)"
   ]
  },
  {
   "cell_type": "code",
   "execution_count": 64,
   "id": "6636b99f-033f-41e4-abdd-cd0b077903ba",
   "metadata": {},
   "outputs": [],
   "source": [
    "# Convert relevant columns to numeric, forcing non-numeric values to NaN\n",
    "df[existing_columns_to_sum] = df[existing_columns_to_sum].apply(pd.to_numeric, errors='coerce')\n",
    "\n",
    "# Optionally handle NaN values (if needed, e.g., fill with zeroes)\n",
    "df[existing_columns_to_sum] = df[existing_columns_to_sum].fillna(0)\n",
    "\n",
    "# Now group by Year and Quarter and sum the values for the numeric columns\n",
    "df_quarterly = df.groupby(['Year', 'Qtr'], as_index=False)[existing_columns_to_sum].sum()\n",
    "\n",
    "# Merge the quarterly data back into the original dataframe\n",
    "df = pd.merge(df, df_quarterly, how='left', on=['Year', 'Qtr'])\n"
   ]
  },
  {
   "cell_type": "code",
   "execution_count": null,
   "id": "d2e8505e-da80-4512-96ff-3e86a083bd27",
   "metadata": {},
   "outputs": [],
   "source": [
    "df_quarterly.to_excel(r\"E:\\FY compiled Scorecard\\Advantage\\Advantage_Score card compile file.xlsx\"))"
   ]
  },
  {
   "cell_type": "code",
   "execution_count": null,
   "id": "0343815a-9573-4386-b6b3-836a054e8332",
   "metadata": {},
   "outputs": [],
   "source": []
  }
 ],
 "metadata": {
  "kernelspec": {
   "display_name": "Python 3 (ipykernel)",
   "language": "python",
   "name": "python3"
  },
  "language_info": {
   "codemirror_mode": {
    "name": "ipython",
    "version": 3
   },
   "file_extension": ".py",
   "mimetype": "text/x-python",
   "name": "python",
   "nbconvert_exporter": "python",
   "pygments_lexer": "ipython3",
   "version": "3.12.4"
  }
 },
 "nbformat": 4,
 "nbformat_minor": 5
}

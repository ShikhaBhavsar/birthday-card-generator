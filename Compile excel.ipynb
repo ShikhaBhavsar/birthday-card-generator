{
 "cells": [
  {
   "cell_type": "code",
   "execution_count": 1,
   "id": "783c2713-f496-4371-9302-228b0206f1d5",
   "metadata": {},
   "outputs": [],
   "source": [
    "import os\n",
    "import pandas as pd\n"
   ]
  },
  {
   "cell_type": "code",
   "execution_count": 3,
   "id": "3ea41085-8853-465c-926b-29ca6194303a",
   "metadata": {},
   "outputs": [],
   "source": [
    "folder_path = r\"E:\\Score Card\\Baadshah\\Q1\\New folder\"\n"
   ]
  },
  {
   "cell_type": "code",
   "execution_count": 5,
   "id": "3d1fabf4-14fa-4c81-b083-f37bf2e0b809",
   "metadata": {},
   "outputs": [],
   "source": [
    "df_list = []\n"
   ]
  },
  {
   "cell_type": "code",
   "execution_count": 15,
   "id": "b51ef311-70cc-4f5f-850c-2f89d8a2971c",
   "metadata": {},
   "outputs": [],
   "source": [
    "for file_name in os.listdir(folder_path):\n",
    "    if file_name.endswith('.xlsx') or file_name.endswith('.xls'):\n",
    "        file_path = os.path.join(folder_path, file_name)\n",
    "        \n",
    "        df = pd.read_excel(file_path, skiprows=2, usecols='U')\n",
    "        \n",
    "        df_list.append(df)"
   ]
  },
  {
   "cell_type": "code",
   "execution_count": 16,
   "id": "bee8127e-6180-4050-b835-fad7666f95fc",
   "metadata": {},
   "outputs": [],
   "source": [
    "combined_df = pd.concat(df_list, ignore_index=True)\n"
   ]
  },
  {
   "cell_type": "code",
   "execution_count": 17,
   "id": "9f6730e9-db18-4819-abdf-dbbc6fe1cb32",
   "metadata": {},
   "outputs": [
    {
     "name": "stdout",
     "output_type": "stream",
     "text": [
      "Files compiled successfully into E:\\Score Card\\Baadshah\\Q1\\compiled_file.xlsx\n"
     ]
    }
   ],
   "source": [
    "output_file = r\"E:\\Score Card\\Baadshah\\Q1\\compiled_file.xlsx\"\n",
    "combined_df.to_excel(output_file, index=False)\n",
    "print(f\"Files compiled successfully into {output_file}\")\n"
   ]
  },
  {
   "cell_type": "code",
   "execution_count": null,
   "id": "c0dab1e3-a734-4bc0-be57-70828ba15a04",
   "metadata": {},
   "outputs": [],
   "source": []
  }
 ],
 "metadata": {
  "kernelspec": {
   "display_name": "Python 3 (ipykernel)",
   "language": "python",
   "name": "python3"
  },
  "language_info": {
   "codemirror_mode": {
    "name": "ipython",
    "version": 3
   },
   "file_extension": ".py",
   "mimetype": "text/x-python",
   "name": "python",
   "nbconvert_exporter": "python",
   "pygments_lexer": "ipython3",
   "version": "3.12.4"
  }
 },
 "nbformat": 4,
 "nbformat_minor": 5
}
